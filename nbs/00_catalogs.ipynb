{
 "cells": [
  {
   "cell_type": "code",
   "execution_count": null,
   "id": "e94d9b67-1cf4-46ab-9d43-18dd8336a5de",
   "metadata": {},
   "outputs": [],
   "source": [
    "#|default_exp catalogs"
   ]
  },
  {
   "cell_type": "markdown",
   "id": "927c66d5-581a-4803-a7ec-e45965a544e2",
   "metadata": {},
   "source": [
    "# Catalogs\n",
    "> Utilities for building the VIIRS-NDB catalog "
   ]
  },
  {
   "cell_type": "code",
   "execution_count": null,
   "id": "33582c7e-ca91-42ae-bc1e-8dd4bb74d14a",
   "metadata": {},
   "outputs": [],
   "source": [
    "#| eval: false\n",
    "#| hide\n",
    "%reload_ext autoreload\n",
    "%autoreload 2\n",
    "%matplotlib inline"
   ]
  },
  {
   "cell_type": "code",
   "execution_count": null,
   "id": "cb535c7e-7f7f-4cb2-9cc0-f693f17cafc4",
   "metadata": {},
   "outputs": [],
   "source": [
    "#| hide\n",
    "from nbdev.showdoc import *"
   ]
  },
  {
   "cell_type": "code",
   "execution_count": null,
   "id": "dc30a6d3-1a95-4e7b-a9da-3449951afab1",
   "metadata": {},
   "outputs": [],
   "source": [
    "#| export\n",
    "\n",
    "import requests\n",
    "import json\n",
    "from fastcore.all import L\n",
    "import pandas as pd\n",
    "from typing import Any\n",
    "from urllib.parse import urlparse\n",
    "from pathlib import Path\n",
    "import numpy as np\n",
    "import re\n",
    "from shapely.geometry import Polygon, box\n",
    "import geopandas as gpd"
   ]
  },
  {
   "cell_type": "code",
   "execution_count": null,
   "id": "129c312c-9a42-43b8-a5c2-d854d20c6dcb",
   "metadata": {},
   "outputs": [],
   "source": [
    "#| hide\n",
    "import matplotlib.pyplot as plt"
   ]
  },
  {
   "cell_type": "code",
   "execution_count": null,
   "id": "e2e15c30-b5ac-4f16-9a79-aab37fa5ef6e",
   "metadata": {},
   "outputs": [],
   "source": [
    "#| hide\n",
    "pd.set_option('display.max_columns', 500)\n",
    "pd.set_option('display.max_colwidth',120)"
   ]
  },
  {
   "cell_type": "code",
   "execution_count": null,
   "id": "4d3c3c9a-9b1c-4f61-97f0-6160d906cb71",
   "metadata": {},
   "outputs": [],
   "source": [
    "#| export\n",
    "\n",
    "VIIRS_LINK = 'https://globalnightlight.s3.amazonaws.com/VIIRS_npp_catalog.json'"
   ]
  },
  {
   "cell_type": "code",
   "execution_count": null,
   "id": "93eec684-1e38-4823-b87c-61bfbf10be78",
   "metadata": {},
   "outputs": [],
   "source": [
    "#| export\n",
    "\n",
    "def get_data(url: str, \n",
    "             headers: dict = {}) -> Any:\n",
    "    resp = requests.get(url, headers=headers)\n",
    "    if resp.status_code == 200:\n",
    "        dat = resp.text\n",
    "    else:\n",
    "        raise ValueError(f'Unable to open {url}')\n",
    "    return json.loads(dat)"
   ]
  },
  {
   "cell_type": "code",
   "execution_count": null,
   "id": "ebb44ad6-9272-4f2c-8cbf-cb875ece14ff",
   "metadata": {},
   "outputs": [
    {
     "name": "stdout",
     "output_type": "stream",
     "text": [
      "CPU times: user 40.8 ms, sys: 2.1 ms, total: 42.9 ms\n",
      "Wall time: 1.52 s\n"
     ]
    }
   ],
   "source": [
    "%%time\n",
    "#| eval: false\n",
    "data = get_data(VIIRS_LINK)"
   ]
  },
  {
   "cell_type": "code",
   "execution_count": null,
   "id": "95e436cb-9a29-46fb-8549-a1bc87311f16",
   "metadata": {},
   "outputs": [],
   "source": [
    "#| eval: false\n",
    "assert 'links' in data"
   ]
  },
  {
   "cell_type": "code",
   "execution_count": null,
   "id": "15da4f12-ac01-4718-a6f9-809b80f7c95b",
   "metadata": {},
   "outputs": [],
   "source": [
    "#| export\n",
    "def make_df(data, rel):\n",
    "    links = L(data['links'])\n",
    "    kids = links.filter(lambda o: o['rel'] == rel)\n",
    "    kids_df = pd.DataFrame.from_records(kids)\n",
    "    return kids_df"
   ]
  },
  {
   "cell_type": "code",
   "execution_count": null,
   "id": "efd5e423-836f-4e26-bc13-917750d7934b",
   "metadata": {},
   "outputs": [],
   "source": [
    "#| eval: false\n",
    "df = make_df(data,rel='child')"
   ]
  },
  {
   "cell_type": "code",
   "execution_count": null,
   "id": "6e97cf87-5ea1-4bfd-a915-212da83d4a61",
   "metadata": {},
   "outputs": [],
   "source": [
    "#| eval: false\n",
    "assert set(['href','rel','type']) == set(df.columns.values)"
   ]
  },
  {
   "cell_type": "code",
   "execution_count": null,
   "id": "aa3f51d0-e4e2-4e79-8875-cdb28531fd26",
   "metadata": {},
   "outputs": [],
   "source": [
    "#| eval: false\n",
    "assert len(df) == 105"
   ]
  },
  {
   "cell_type": "code",
   "execution_count": null,
   "id": "0f23ce71-0ade-4377-8eca-56fcc6589a05",
   "metadata": {},
   "outputs": [],
   "source": [
    "#| export\n",
    "\n",
    "def parse_folder(href):\n",
    "    urlparts = urlparse(href)\n",
    "    urlpath = Path(urlparts.path)\n",
    "    return urlpath.parts[1]\n"
   ]
  },
  {
   "cell_type": "code",
   "execution_count": null,
   "id": "21a19925-6201-4052-942e-1aadea6cd993",
   "metadata": {},
   "outputs": [],
   "source": [
    "assert parse_folder('https://globalnightlight.s3.amazonaws.com/201204/201204_catalog.json') == '201204'\n",
    "assert parse_folder('https://globalnightlight.s3.amazonaws.com/npp_202012/npp_202012_catalog.json') == 'npp_202012'"
   ]
  },
  {
   "cell_type": "code",
   "execution_count": null,
   "id": "271cc662-b7c9-4561-b764-18045a53bb32",
   "metadata": {},
   "outputs": [],
   "source": [
    "#| export\n",
    "\n",
    "def parse_yearmonth(folder):\n",
    "    return folder[4:] if folder.startswith('npp_') else folder"
   ]
  },
  {
   "cell_type": "code",
   "execution_count": null,
   "id": "e03cb285-c8a9-4fa7-830f-71e36efb2fe7",
   "metadata": {},
   "outputs": [],
   "source": [
    "assert parse_yearmonth('201204') == '201204'\n",
    "assert parse_yearmonth('npp_202012') == '202012'"
   ]
  },
  {
   "cell_type": "code",
   "execution_count": null,
   "id": "b59ddec6-d234-4ef4-a1f8-a18b087f6327",
   "metadata": {},
   "outputs": [],
   "source": [
    "#| export\n",
    "\n",
    "def parse_baseurl(href):\n",
    "    urlparts = urlparse(href)\n",
    "    return f'{urlparts.scheme}://{urlparts.netloc}'"
   ]
  },
  {
   "cell_type": "code",
   "execution_count": null,
   "id": "ca952458-2cd2-4d71-ba02-7a856397e94b",
   "metadata": {},
   "outputs": [],
   "source": [
    "assert parse_baseurl('https://globalnightlight.s3.amazonaws.com/npp_202012/npp_202012_catalog.json') == 'https://globalnightlight.s3.amazonaws.com'"
   ]
  },
  {
   "cell_type": "code",
   "execution_count": null,
   "id": "2156aa4c-b5e9-4c25-8899-82e20a4f212e",
   "metadata": {},
   "outputs": [],
   "source": [
    "#| export\n",
    "\n",
    "def transform_kids_df(kids_df):\n",
    "    kids_df.drop(columns=['rel','type'], inplace=True)\n",
    "    kids_df['folder'] = kids_df.href.apply(parse_folder)\n",
    "    kids_df['baseurl'] = kids_df.href.apply(parse_baseurl) \n",
    "    kids_df['yearmonth'] = kids_df.folder.apply(parse_yearmonth)\n",
    "    return kids_df"
   ]
  },
  {
   "cell_type": "code",
   "execution_count": null,
   "id": "61443826-6c78-41e6-97f6-7c6ab471008e",
   "metadata": {},
   "outputs": [],
   "source": [
    "#| eval: false\n",
    "df = transform_kids_df(df)"
   ]
  },
  {
   "cell_type": "code",
   "execution_count": null,
   "id": "063cdceb-4cbd-4194-9d10-1b10d96e9007",
   "metadata": {},
   "outputs": [],
   "source": [
    "#| eval: false\n",
    "assert set(['href','folder','baseurl','yearmonth']) == set(df.columns.values)"
   ]
  },
  {
   "cell_type": "code",
   "execution_count": null,
   "id": "edc320cc-9752-45aa-b5cc-cffe7fe38081",
   "metadata": {},
   "outputs": [],
   "source": [
    "#| export\n",
    "\n",
    "def get_item_catalogs(link:str=None, \n",
    "                      rel:str='child') -> pd.DataFrame:\n",
    "    link = VIIRS_LINK if link is None else link\n",
    "    data = get_data(link)\n",
    "    kids_df = make_df(data, rel)\n",
    "    kids_df = transform_kids_df(kids_df)\n",
    "    return kids_df"
   ]
  },
  {
   "cell_type": "code",
   "execution_count": null,
   "id": "00ee574a-7a5f-42bc-97b1-c1a4d2be9687",
   "metadata": {},
   "outputs": [
    {
     "name": "stdout",
     "output_type": "stream",
     "text": [
      "CPU times: user 43.1 ms, sys: 4.96 ms, total: 48 ms\n",
      "Wall time: 1.42 s\n"
     ]
    }
   ],
   "source": [
    "%%time\n",
    "#| eval: false\n",
    "catalogs = get_item_catalogs()"
   ]
  },
  {
   "cell_type": "code",
   "execution_count": null,
   "id": "261c388a-ea4d-44fd-8756-06e44477f229",
   "metadata": {},
   "outputs": [],
   "source": [
    "#| eval: false\n",
    "assert len(catalogs) == 105"
   ]
  },
  {
   "cell_type": "code",
   "execution_count": null,
   "id": "25ba3d69-cea3-4b4b-8cde-e2e5b666a6b2",
   "metadata": {},
   "outputs": [],
   "source": [
    "#| eval: false\n",
    "assert set(['href','folder','baseurl','yearmonth']) == set(catalogs.columns.values)"
   ]
  }
 ],
 "metadata": {
  "kernelspec": {
   "display_name": "Python 3 (ipykernel)",
   "language": "python",
   "name": "python3"
  }
 },
 "nbformat": 4,
 "nbformat_minor": 5
}
