{
 "cells": [
  {
   "cell_type": "code",
   "execution_count": null,
   "metadata": {},
   "outputs": [],
   "source": [
    "#|hide\n",
    "from ntlights_processing_utils.core import *"
   ]
  },
  {
   "cell_type": "markdown",
   "metadata": {},
   "source": [
    "# ~~Nightlights for Damage Assessment~~ Nightlights Processing Utilities\n",
    "> ~~Using nightlights satellite imagery for typhoon damage assessment~~ Utilities for Processing Nightlights Data"
   ]
  },
  {
   "cell_type": "markdown",
   "metadata": {},
   "source": [
    "## Install"
   ]
  },
  {
   "cell_type": "markdown",
   "metadata": {},
   "source": [
    "`pip install git+https://github.com/butchland/ntlights-processing-utils.git`"
   ]
  },
  {
   "cell_type": "markdown",
   "metadata": {},
   "source": [
    "## How to use"
   ]
  },
  {
   "cell_type": "markdown",
   "metadata": {},
   "source": [
    "* ~~Download the nightlights satellite imagery for the period before and after the disaster~~\n",
    "* ~~Download the geospatial admin boundaries for the areas concerned~~\n",
    "* ~~Download and scrape the damage assessment situationers as ground truth~~\n",
    "* ~~Preprocess the situationrers to extract the locations and damage assessment~~\n",
    "* ~~Wrangle and link the damage assessment locations to the admin boundaries~~\n",
    "* ~~Extract the radiance data from the nightlights satellite~~\n",
    "* ~~Analyze the patterns for radiance data for highly damaged areas vs undamaged or low damage areas~~\n",
    "* ~~Write up conclusions~~"
   ]
  },
  {
   "cell_type": "markdown",
   "metadata": {},
   "source": [
    "### Query what images are relevant for what dates and what areas\n",
    "* Fetch monthly catalogs of VIIRS NDB night lights imagery (2012-2020) \n",
    "* Create a searchable database of images for each day of all the night lights images\n",
    "* Create an API to search and filter images by date and area boundary (as well as cache! the metadata)\n",
    "* Create an API to evaluate overlap of images to area boundary\n",
    "* Create an API to download selected images\n",
    "  "
   ]
  },
  {
   "cell_type": "code",
   "execution_count": null,
   "metadata": {},
   "outputs": [],
   "source": []
  }
 ],
 "metadata": {
  "kernelspec": {
   "display_name": "Python 3 (ipykernel)",
   "language": "python",
   "name": "python3"
  }
 },
 "nbformat": 4,
 "nbformat_minor": 4
}
