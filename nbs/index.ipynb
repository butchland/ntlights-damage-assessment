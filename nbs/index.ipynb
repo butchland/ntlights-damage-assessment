{
 "cells": [
  {
   "cell_type": "code",
   "execution_count": null,
   "metadata": {},
   "outputs": [],
   "source": [
    "#|hide\n",
    "from ntlights_damage_assessment.core import *"
   ]
  },
  {
   "cell_type": "markdown",
   "metadata": {},
   "source": [
    "# Nightlights for Damage Assessment\n",
    "> Using nightlights satellite imagery for typhoon damage assessment"
   ]
  },
  {
   "cell_type": "markdown",
   "metadata": {},
   "source": [
    "## Install"
   ]
  },
  {
   "cell_type": "markdown",
   "metadata": {},
   "source": [
    "`pip install git+https://github.com/butchland/ntlights-damage-assessment.git`"
   ]
  },
  {
   "cell_type": "markdown",
   "metadata": {},
   "source": [
    "## How to use"
   ]
  },
  {
   "cell_type": "markdown",
   "metadata": {},
   "source": [
    "* Download the nightlights satellite imagery for the period before and after the disaster\n",
    "* Download the geospatial admin boundaries for the areas concerned\n",
    "* Download and scrape the damage assessment situationers as ground truth\n",
    "* Preprocess the situationrers to extract the locations and damage assessment\n",
    "* Wrangle and link the damage assessment locations to the admin boundaries\n",
    "* Extract the radiance data from the nightlights satellite\n",
    "* Analyze the patterns for radiance data for highly damaged areas vs undamaged or low damage areas\n",
    "* Write up conclusions\n"
   ]
  },
  {
   "cell_type": "code",
   "execution_count": null,
   "metadata": {},
   "outputs": [
    {
     "data": {
      "text/plain": [
       "'hello, butch'"
      ]
     },
     "execution_count": null,
     "metadata": {},
     "output_type": "execute_result"
    }
   ],
   "source": [
    "say_hello('butch')"
   ]
  }
 ],
 "metadata": {
  "kernelspec": {
   "display_name": "Python 3.8.13 ('ntlights')",
   "language": "python",
   "name": "python3"
  },
  "language_info": {
   "name": "python",
   "version": "3.8.13"
  },
  "vscode": {
   "interpreter": {
    "hash": "d6a00cc16aeb56e67719a719d04e976285ab169e260843242f0d7ee2a1f52906"
   }
  }
 },
 "nbformat": 4,
 "nbformat_minor": 2
}
