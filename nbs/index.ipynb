{
 "cells": [
  {
   "cell_type": "markdown",
   "metadata": {},
   "source": [
    "# ~~Nightlights for Damage Assessment~~ Nightlights Processing Utilities\n",
    "> ~~Using nightlights satellite imagery for typhoon damage assessment~~ Utilities for Processing Nightlights Data"
   ]
  },
  {
   "cell_type": "markdown",
   "metadata": {},
   "source": [
    "## Install"
   ]
  },
  {
   "cell_type": "markdown",
   "metadata": {},
   "source": [
    "`pip install git+https://github.com/butchland/ntlights-processing-utils.git`"
   ]
  },
  {
   "cell_type": "markdown",
   "metadata": {},
   "source": [
    "## How to use"
   ]
  },
  {
   "cell_type": "markdown",
   "metadata": {},
   "source": [
    "* ~~Download the nightlights satellite imagery for the period before and after the disaster~~\n",
    "* ~~Download the geospatial admin boundaries for the areas concerned~~\n",
    "* ~~Download and scrape the damage assessment situationers as ground truth~~\n",
    "* ~~Preprocess the situationrers to extract the locations and damage assessment~~\n",
    "* ~~Wrangle and link the damage assessment locations to the admin boundaries~~\n",
    "* ~~Extract the radiance data from the nightlights satellite~~\n",
    "* ~~Analyze the patterns for radiance data for highly damaged areas vs undamaged or low damage areas~~\n",
    "* ~~Write up conclusions~~"
   ]
  },
  {
   "cell_type": "markdown",
   "metadata": {},
   "source": [
    "### Query what images are relevant for what dates and what areas\n",
    "* Fetch monthly catalogs of VIIRS NDB night lights imagery (2012-2020) \n",
    "* Create a searchable database of images for each day of all the night lights images\n",
    "* Create an API to search and filter images by date and area boundary (as well as cache! the metadata)\n",
    "* Create an API to evaluate overlap of images to area boundary\n",
    "* Create an API to download selected images\n",
    "  "
   ]
  },
  {
   "cell_type": "markdown",
   "metadata": {},
   "source": [
    "Lets start with an GeoDataFrame that is the bounding box of the AOI (Philippines)"
   ]
  },
  {
   "cell_type": "code",
   "execution_count": null,
   "metadata": {},
   "outputs": [],
   "source": [
    "#| hide\n",
    "\n",
    "import requests\n",
    "import json\n",
    "from fastcore.all import L\n",
    "import pandas as pd\n",
    "from typing import Any\n",
    "from urllib.parse import urlparse\n",
    "from pathlib import Path\n",
    "import numpy as np\n",
    "import re\n",
    "from shapely.geometry import Polygon, box\n",
    "from shapely import wkt\n",
    "import geopandas as gpd\n",
    "import sqlite3 as sql3\n",
    "from pandas.io import sql \n",
    "import sqlalchemy as sqalc\n",
    "import geowrangler.area_zonal_stats as azs"
   ]
  },
  {
   "cell_type": "code",
   "execution_count": null,
   "metadata": {},
   "outputs": [],
   "source": [
    "#| hide\n",
    "import matplotlib.pyplot as plt"
   ]
  },
  {
   "cell_type": "code",
   "execution_count": null,
   "metadata": {},
   "outputs": [],
   "source": [
    "#| hide\n",
    "pd.set_option('display.max_columns', 500)\n",
    "pd.set_option('display.max_colwidth',120)"
   ]
  },
  {
   "cell_type": "code",
   "execution_count": null,
   "metadata": {},
   "outputs": [],
   "source": [
    "#| exporti\n",
    "from ntlights_processing_utils.fetch_coords import search_dates_aoi \n",
    "from ntlights_processing_utils.eval_overlap import compute_overlaps\n",
    "from ntlights_processing_utils.download_rasters import download_items"
   ]
  },
  {
   "cell_type": "code",
   "execution_count": null,
   "metadata": {},
   "outputs": [],
   "source": [
    "aoi = gpd.read_file('../data/admin_areas/ph_admin_bbox_wgs84.geojson')"
   ]
  },
  {
   "cell_type": "markdown",
   "metadata": {},
   "source": [
    "Lets search for images overlapping the AOI for a particular date, in this case `20180501` or May 1, 2018"
   ]
  },
  {
   "cell_type": "code",
   "execution_count": null,
   "metadata": {},
   "outputs": [
    {
     "name": "stdout",
     "output_type": "stream",
     "text": [
      "CPU times: user 79.7 ms, sys: 60.1 ms, total: 140 ms\n",
      "Wall time: 137 ms\n"
     ]
    }
   ],
   "source": [
    "%%time\n",
    "matched = search_dates_aoi(aoi, date_param='20180501')"
   ]
  },
  {
   "cell_type": "markdown",
   "metadata": {},
   "source": [
    "Notice how fast the retrieval is -- that's because the particular date has already been cached.\n",
    "\n",
    "> _For dates that haven't been cached, the time can take between 10-15 minutes, depending on the internet speed_."
   ]
  },
  {
   "cell_type": "code",
   "execution_count": null,
   "metadata": {},
   "outputs": [
    {
     "data": {
      "text/plain": [
       "5"
      ]
     },
     "execution_count": null,
     "metadata": {},
     "output_type": "execute_result"
    }
   ],
   "source": [
    "len(matched)"
   ]
  },
  {
   "cell_type": "markdown",
   "metadata": {},
   "source": [
    "There are 5 images for the date that overlaps the AOI, but which ones are the most relevant?"
   ]
  },
  {
   "cell_type": "code",
   "execution_count": null,
   "metadata": {},
   "outputs": [
    {
     "data": {
      "text/html": [
       "<div>\n",
       "<style scoped>\n",
       "    .dataframe tbody tr th:only-of-type {\n",
       "        vertical-align: middle;\n",
       "    }\n",
       "\n",
       "    .dataframe tbody tr th {\n",
       "        vertical-align: top;\n",
       "    }\n",
       "\n",
       "    .dataframe thead th {\n",
       "        text-align: right;\n",
       "    }\n",
       "</style>\n",
       "<table border=\"1\" class=\"dataframe\">\n",
       "  <thead>\n",
       "    <tr style=\"text-align: right;\">\n",
       "      <th></th>\n",
       "      <th>href</th>\n",
       "      <th>item_href</th>\n",
       "      <th>stem</th>\n",
       "      <th>suffix</th>\n",
       "      <th>base_url</th>\n",
       "      <th>folder</th>\n",
       "      <th>product_id</th>\n",
       "      <th>start_date</th>\n",
       "      <th>first_scantime</th>\n",
       "      <th>end_scantime</th>\n",
       "      <th>orbital_nbr</th>\n",
       "      <th>create_datetime</th>\n",
       "      <th>data_origin</th>\n",
       "      <th>data_domain</th>\n",
       "      <th>vflag_file</th>\n",
       "      <th>vflag_href</th>\n",
       "      <th>cache_stem</th>\n",
       "      <th>asset_href</th>\n",
       "      <th>geometry</th>\n",
       "    </tr>\n",
       "  </thead>\n",
       "  <tbody>\n",
       "    <tr>\n",
       "      <th>80</th>\n",
       "      <td>./SVDNB_npp_d20180501_t1634142_e1639546_b33728_c20180501223954897862_noac_ops.rade9.co.json</td>\n",
       "      <td>https://globalnightlight.s3.amazonaws.com/npp_201805/SVDNB_npp_d20180501_t1634142_e1639546_b33728_c20180501223954897...</td>\n",
       "      <td>SVDNB_npp_d20180501_t1634142_e1639546_b33728_c20180501223954897862_noac_ops</td>\n",
       "      <td>rade9.co.json</td>\n",
       "      <td>https://globalnightlight.s3.amazonaws.com</td>\n",
       "      <td>npp_201805</td>\n",
       "      <td>SVDNB_npp</td>\n",
       "      <td>20180501</td>\n",
       "      <td>1634142</td>\n",
       "      <td>1639546</td>\n",
       "      <td>33728</td>\n",
       "      <td>20180501223954897862</td>\n",
       "      <td>noac</td>\n",
       "      <td>ops</td>\n",
       "      <td>npp_d20180501_t1634142_e1639546_b33728.vflag.co.tif</td>\n",
       "      <td>https://globalnightlight.s3.amazonaws.com/npp_201805/npp_d20180501_t1634142_e1639546_b33728.vflag.co.tif</td>\n",
       "      <td>SVDNB_npp_d20180501_t1634142_e1639546_b33728_c20180501223954897862_noac_ops</td>\n",
       "      <td>https://globalnightlight.s3.amazonaws.com/npp_201805/SVDNB_npp_d20180501_t1634142_e1639546_b33728_c20180501223954897...</td>\n",
       "      <td>POLYGON ((118.99800 19.00210, 118.99800 44.00210, 157.99800 44.00210, 157.99800 19.00210, 118.99800 19.00210))</td>\n",
       "    </tr>\n",
       "    <tr>\n",
       "      <th>81</th>\n",
       "      <td>./SVDNB_npp_d20180501_t1639558_e1645362_b33728_c20180501224536066966_noac_ops.rade9.co.json</td>\n",
       "      <td>https://globalnightlight.s3.amazonaws.com/npp_201805/SVDNB_npp_d20180501_t1639558_e1645362_b33728_c20180501224536066...</td>\n",
       "      <td>SVDNB_npp_d20180501_t1639558_e1645362_b33728_c20180501224536066966_noac_ops</td>\n",
       "      <td>rade9.co.json</td>\n",
       "      <td>https://globalnightlight.s3.amazonaws.com</td>\n",
       "      <td>npp_201805</td>\n",
       "      <td>SVDNB_npp</td>\n",
       "      <td>20180501</td>\n",
       "      <td>1639558</td>\n",
       "      <td>1645362</td>\n",
       "      <td>33728</td>\n",
       "      <td>20180501224536066966</td>\n",
       "      <td>noac</td>\n",
       "      <td>ops</td>\n",
       "      <td>npp_d20180501_t1639558_e1645362_b33728.vflag.co.tif</td>\n",
       "      <td>https://globalnightlight.s3.amazonaws.com/npp_201805/npp_d20180501_t1639558_e1645362_b33728.vflag.co.tif</td>\n",
       "      <td>SVDNB_npp_d20180501_t1639558_e1645362_b33728_c20180501224536066966_noac_ops</td>\n",
       "      <td>https://globalnightlight.s3.amazonaws.com/npp_201805/SVDNB_npp_d20180501_t1639558_e1645362_b33728_c20180501224536066...</td>\n",
       "      <td>POLYGON ((115.99800 0.00206, 115.99800 25.00210, 149.99800 25.00210, 149.99800 0.00206, 115.99800 0.00206))</td>\n",
       "    </tr>\n",
       "    <tr>\n",
       "      <th>82</th>\n",
       "      <td>./SVDNB_npp_d20180501_t1645375_e1651161_b33728_c20180501225118045996_noac_ops.rade9.co.json</td>\n",
       "      <td>https://globalnightlight.s3.amazonaws.com/npp_201805/SVDNB_npp_d20180501_t1645375_e1651161_b33728_c20180501225118045...</td>\n",
       "      <td>SVDNB_npp_d20180501_t1645375_e1651161_b33728_c20180501225118045996_noac_ops</td>\n",
       "      <td>rade9.co.json</td>\n",
       "      <td>https://globalnightlight.s3.amazonaws.com</td>\n",
       "      <td>npp_201805</td>\n",
       "      <td>SVDNB_npp</td>\n",
       "      <td>20180501</td>\n",
       "      <td>1645375</td>\n",
       "      <td>1651161</td>\n",
       "      <td>33728</td>\n",
       "      <td>20180501225118045996</td>\n",
       "      <td>noac</td>\n",
       "      <td>ops</td>\n",
       "      <td>npp_d20180501_t1645375_e1651161_b33728.vflag.co.tif</td>\n",
       "      <td>https://globalnightlight.s3.amazonaws.com/npp_201805/npp_d20180501_t1645375_e1651161_b33728.vflag.co.tif</td>\n",
       "      <td>SVDNB_npp_d20180501_t1645375_e1651161_b33728_c20180501225118045996_noac_ops</td>\n",
       "      <td>https://globalnightlight.s3.amazonaws.com/npp_201805/SVDNB_npp_d20180501_t1645375_e1651161_b33728_c20180501225118045...</td>\n",
       "      <td>POLYGON ((110.99800 -19.99790, 110.99800 5.00208, 143.99800 5.00208, 143.99800 -19.99790, 110.99800 -19.99790))</td>\n",
       "    </tr>\n",
       "    <tr>\n",
       "      <th>89</th>\n",
       "      <td>./SVDNB_npp_d20180501_t1816398_e1822184_b33729_c20180502002220226537_noac_ops.rade9.co.json</td>\n",
       "      <td>https://globalnightlight.s3.amazonaws.com/npp_201805/SVDNB_npp_d20180501_t1816398_e1822184_b33729_c20180502002220226...</td>\n",
       "      <td>SVDNB_npp_d20180501_t1816398_e1822184_b33729_c20180502002220226537_noac_ops</td>\n",
       "      <td>rade9.co.json</td>\n",
       "      <td>https://globalnightlight.s3.amazonaws.com</td>\n",
       "      <td>npp_201805</td>\n",
       "      <td>SVDNB_npp</td>\n",
       "      <td>20180501</td>\n",
       "      <td>1816398</td>\n",
       "      <td>1822184</td>\n",
       "      <td>33729</td>\n",
       "      <td>20180502002220226537</td>\n",
       "      <td>noac</td>\n",
       "      <td>ops</td>\n",
       "      <td>npp_d20180501_t1816398_e1822184_b33729.vflag.co.tif</td>\n",
       "      <td>https://globalnightlight.s3.amazonaws.com/npp_201805/npp_d20180501_t1816398_e1822184_b33729.vflag.co.tif</td>\n",
       "      <td>SVDNB_npp_d20180501_t1816398_e1822184_b33729_c20180502002220226537_noac_ops</td>\n",
       "      <td>https://globalnightlight.s3.amazonaws.com/npp_201805/SVDNB_npp_d20180501_t1816398_e1822184_b33729_c20180502002220226...</td>\n",
       "      <td>POLYGON ((93.99790 16.00210, 93.99790 41.00210, 130.99800 41.00210, 130.99800 16.00210, 93.99790 16.00210))</td>\n",
       "    </tr>\n",
       "    <tr>\n",
       "      <th>90</th>\n",
       "      <td>./SVDNB_npp_d20180501_t1822196_e1828000_b33729_c20180502002801307723_noac_ops.rade9.co.json</td>\n",
       "      <td>https://globalnightlight.s3.amazonaws.com/npp_201805/SVDNB_npp_d20180501_t1822196_e1828000_b33729_c20180502002801307...</td>\n",
       "      <td>SVDNB_npp_d20180501_t1822196_e1828000_b33729_c20180502002801307723_noac_ops</td>\n",
       "      <td>rade9.co.json</td>\n",
       "      <td>https://globalnightlight.s3.amazonaws.com</td>\n",
       "      <td>npp_201805</td>\n",
       "      <td>SVDNB_npp</td>\n",
       "      <td>20180501</td>\n",
       "      <td>1822196</td>\n",
       "      <td>1828000</td>\n",
       "      <td>33729</td>\n",
       "      <td>20180502002801307723</td>\n",
       "      <td>noac</td>\n",
       "      <td>ops</td>\n",
       "      <td>npp_d20180501_t1822196_e1828000_b33729.vflag.co.tif</td>\n",
       "      <td>https://globalnightlight.s3.amazonaws.com/npp_201805/npp_d20180501_t1822196_e1828000_b33729.vflag.co.tif</td>\n",
       "      <td>SVDNB_npp_d20180501_t1822196_e1828000_b33729_c20180502002801307723_noac_ops</td>\n",
       "      <td>https://globalnightlight.s3.amazonaws.com/npp_201805/SVDNB_npp_d20180501_t1822196_e1828000_b33729_c20180502002801307...</td>\n",
       "      <td>POLYGON ((89.99790 -2.99794, 89.99790 22.00210, 122.99800 22.00210, 122.99800 -2.99794, 89.99790 -2.99794))</td>\n",
       "    </tr>\n",
       "  </tbody>\n",
       "</table>\n",
       "</div>"
      ],
      "text/plain": [
       "                                                                                           href  \\\n",
       "80  ./SVDNB_npp_d20180501_t1634142_e1639546_b33728_c20180501223954897862_noac_ops.rade9.co.json   \n",
       "81  ./SVDNB_npp_d20180501_t1639558_e1645362_b33728_c20180501224536066966_noac_ops.rade9.co.json   \n",
       "82  ./SVDNB_npp_d20180501_t1645375_e1651161_b33728_c20180501225118045996_noac_ops.rade9.co.json   \n",
       "89  ./SVDNB_npp_d20180501_t1816398_e1822184_b33729_c20180502002220226537_noac_ops.rade9.co.json   \n",
       "90  ./SVDNB_npp_d20180501_t1822196_e1828000_b33729_c20180502002801307723_noac_ops.rade9.co.json   \n",
       "\n",
       "                                                                                                                  item_href  \\\n",
       "80  https://globalnightlight.s3.amazonaws.com/npp_201805/SVDNB_npp_d20180501_t1634142_e1639546_b33728_c20180501223954897...   \n",
       "81  https://globalnightlight.s3.amazonaws.com/npp_201805/SVDNB_npp_d20180501_t1639558_e1645362_b33728_c20180501224536066...   \n",
       "82  https://globalnightlight.s3.amazonaws.com/npp_201805/SVDNB_npp_d20180501_t1645375_e1651161_b33728_c20180501225118045...   \n",
       "89  https://globalnightlight.s3.amazonaws.com/npp_201805/SVDNB_npp_d20180501_t1816398_e1822184_b33729_c20180502002220226...   \n",
       "90  https://globalnightlight.s3.amazonaws.com/npp_201805/SVDNB_npp_d20180501_t1822196_e1828000_b33729_c20180502002801307...   \n",
       "\n",
       "                                                                           stem  \\\n",
       "80  SVDNB_npp_d20180501_t1634142_e1639546_b33728_c20180501223954897862_noac_ops   \n",
       "81  SVDNB_npp_d20180501_t1639558_e1645362_b33728_c20180501224536066966_noac_ops   \n",
       "82  SVDNB_npp_d20180501_t1645375_e1651161_b33728_c20180501225118045996_noac_ops   \n",
       "89  SVDNB_npp_d20180501_t1816398_e1822184_b33729_c20180502002220226537_noac_ops   \n",
       "90  SVDNB_npp_d20180501_t1822196_e1828000_b33729_c20180502002801307723_noac_ops   \n",
       "\n",
       "           suffix                                   base_url      folder  \\\n",
       "80  rade9.co.json  https://globalnightlight.s3.amazonaws.com  npp_201805   \n",
       "81  rade9.co.json  https://globalnightlight.s3.amazonaws.com  npp_201805   \n",
       "82  rade9.co.json  https://globalnightlight.s3.amazonaws.com  npp_201805   \n",
       "89  rade9.co.json  https://globalnightlight.s3.amazonaws.com  npp_201805   \n",
       "90  rade9.co.json  https://globalnightlight.s3.amazonaws.com  npp_201805   \n",
       "\n",
       "   product_id start_date first_scantime end_scantime orbital_nbr  \\\n",
       "80  SVDNB_npp   20180501        1634142      1639546       33728   \n",
       "81  SVDNB_npp   20180501        1639558      1645362       33728   \n",
       "82  SVDNB_npp   20180501        1645375      1651161       33728   \n",
       "89  SVDNB_npp   20180501        1816398      1822184       33729   \n",
       "90  SVDNB_npp   20180501        1822196      1828000       33729   \n",
       "\n",
       "         create_datetime data_origin data_domain  \\\n",
       "80  20180501223954897862        noac         ops   \n",
       "81  20180501224536066966        noac         ops   \n",
       "82  20180501225118045996        noac         ops   \n",
       "89  20180502002220226537        noac         ops   \n",
       "90  20180502002801307723        noac         ops   \n",
       "\n",
       "                                             vflag_file  \\\n",
       "80  npp_d20180501_t1634142_e1639546_b33728.vflag.co.tif   \n",
       "81  npp_d20180501_t1639558_e1645362_b33728.vflag.co.tif   \n",
       "82  npp_d20180501_t1645375_e1651161_b33728.vflag.co.tif   \n",
       "89  npp_d20180501_t1816398_e1822184_b33729.vflag.co.tif   \n",
       "90  npp_d20180501_t1822196_e1828000_b33729.vflag.co.tif   \n",
       "\n",
       "                                                                                                  vflag_href  \\\n",
       "80  https://globalnightlight.s3.amazonaws.com/npp_201805/npp_d20180501_t1634142_e1639546_b33728.vflag.co.tif   \n",
       "81  https://globalnightlight.s3.amazonaws.com/npp_201805/npp_d20180501_t1639558_e1645362_b33728.vflag.co.tif   \n",
       "82  https://globalnightlight.s3.amazonaws.com/npp_201805/npp_d20180501_t1645375_e1651161_b33728.vflag.co.tif   \n",
       "89  https://globalnightlight.s3.amazonaws.com/npp_201805/npp_d20180501_t1816398_e1822184_b33729.vflag.co.tif   \n",
       "90  https://globalnightlight.s3.amazonaws.com/npp_201805/npp_d20180501_t1822196_e1828000_b33729.vflag.co.tif   \n",
       "\n",
       "                                                                     cache_stem  \\\n",
       "80  SVDNB_npp_d20180501_t1634142_e1639546_b33728_c20180501223954897862_noac_ops   \n",
       "81  SVDNB_npp_d20180501_t1639558_e1645362_b33728_c20180501224536066966_noac_ops   \n",
       "82  SVDNB_npp_d20180501_t1645375_e1651161_b33728_c20180501225118045996_noac_ops   \n",
       "89  SVDNB_npp_d20180501_t1816398_e1822184_b33729_c20180502002220226537_noac_ops   \n",
       "90  SVDNB_npp_d20180501_t1822196_e1828000_b33729_c20180502002801307723_noac_ops   \n",
       "\n",
       "                                                                                                                 asset_href  \\\n",
       "80  https://globalnightlight.s3.amazonaws.com/npp_201805/SVDNB_npp_d20180501_t1634142_e1639546_b33728_c20180501223954897...   \n",
       "81  https://globalnightlight.s3.amazonaws.com/npp_201805/SVDNB_npp_d20180501_t1639558_e1645362_b33728_c20180501224536066...   \n",
       "82  https://globalnightlight.s3.amazonaws.com/npp_201805/SVDNB_npp_d20180501_t1645375_e1651161_b33728_c20180501225118045...   \n",
       "89  https://globalnightlight.s3.amazonaws.com/npp_201805/SVDNB_npp_d20180501_t1816398_e1822184_b33729_c20180502002220226...   \n",
       "90  https://globalnightlight.s3.amazonaws.com/npp_201805/SVDNB_npp_d20180501_t1822196_e1828000_b33729_c20180502002801307...   \n",
       "\n",
       "                                                                                                           geometry  \n",
       "80   POLYGON ((118.99800 19.00210, 118.99800 44.00210, 157.99800 44.00210, 157.99800 19.00210, 118.99800 19.00210))  \n",
       "81      POLYGON ((115.99800 0.00206, 115.99800 25.00210, 149.99800 25.00210, 149.99800 0.00206, 115.99800 0.00206))  \n",
       "82  POLYGON ((110.99800 -19.99790, 110.99800 5.00208, 143.99800 5.00208, 143.99800 -19.99790, 110.99800 -19.99790))  \n",
       "89      POLYGON ((93.99790 16.00210, 93.99790 41.00210, 130.99800 41.00210, 130.99800 16.00210, 93.99790 16.00210))  \n",
       "90      POLYGON ((89.99790 -2.99794, 89.99790 22.00210, 122.99800 22.00210, 122.99800 -2.99794, 89.99790 -2.99794))  "
      ]
     },
     "execution_count": null,
     "metadata": {},
     "output_type": "execute_result"
    }
   ],
   "source": [
    "matched"
   ]
  },
  {
   "cell_type": "markdown",
   "metadata": {},
   "source": [
    "One way to answer the question is by taking the amount of overlap each image makes over the AOI and sorts them from the highest to the lowest."
   ]
  },
  {
   "cell_type": "code",
   "execution_count": null,
   "metadata": {},
   "outputs": [
    {
     "name": "stdout",
     "output_type": "stream",
     "text": [
      "CPU times: user 73.3 ms, sys: 0 ns, total: 73.3 ms\n",
      "Wall time: 69.9 ms\n"
     ]
    }
   ],
   "source": [
    "%%time\n",
    "sorted_results = compute_overlaps(aoi,matched) "
   ]
  },
  {
   "cell_type": "code",
   "execution_count": null,
   "metadata": {},
   "outputs": [
    {
     "data": {
      "text/html": [
       "<div>\n",
       "<style scoped>\n",
       "    .dataframe tbody tr th:only-of-type {\n",
       "        vertical-align: middle;\n",
       "    }\n",
       "\n",
       "    .dataframe tbody tr th {\n",
       "        vertical-align: top;\n",
       "    }\n",
       "\n",
       "    .dataframe thead th {\n",
       "        text-align: right;\n",
       "    }\n",
       "</style>\n",
       "<table border=\"1\" class=\"dataframe\">\n",
       "  <thead>\n",
       "    <tr style=\"text-align: right;\">\n",
       "      <th></th>\n",
       "      <th>pct_covered</th>\n",
       "    </tr>\n",
       "  </thead>\n",
       "  <tbody>\n",
       "    <tr>\n",
       "      <th>81</th>\n",
       "      <td>0.860461</td>\n",
       "    </tr>\n",
       "    <tr>\n",
       "      <th>90</th>\n",
       "      <td>0.707395</td>\n",
       "    </tr>\n",
       "    <tr>\n",
       "      <th>89</th>\n",
       "      <td>0.317353</td>\n",
       "    </tr>\n",
       "    <tr>\n",
       "      <th>80</th>\n",
       "      <td>0.081804</td>\n",
       "    </tr>\n",
       "    <tr>\n",
       "      <th>82</th>\n",
       "      <td>0.024449</td>\n",
       "    </tr>\n",
       "  </tbody>\n",
       "</table>\n",
       "</div>"
      ],
      "text/plain": [
       "    pct_covered\n",
       "81     0.860461\n",
       "90     0.707395\n",
       "89     0.317353\n",
       "80     0.081804\n",
       "82     0.024449"
      ]
     },
     "execution_count": null,
     "metadata": {},
     "output_type": "execute_result"
    }
   ],
   "source": [
    "sorted_results[['pct_covered']].head()"
   ]
  },
  {
   "cell_type": "markdown",
   "metadata": {},
   "source": [
    "Based on the `pct_covered` it looks like the first 2 are good candidates to hold relevant data over the AOI"
   ]
  },
  {
   "cell_type": "code",
   "execution_count": null,
   "metadata": {},
   "outputs": [
    {
     "data": {
      "image/png": "[encoded data removed]",
      "text/plain": [
       "<Figure size 640x480 with 1 Axes>"
      ]
     },
     "metadata": {},
     "output_type": "display_data"
    }
   ],
   "source": [
    "aoi_ph = gpd.read_file('../data/admin_areas/phl_admbnda_adm3_psa_namria_20200529.shp')\n",
    "aoi_ph_planar = aoi_ph.to_crs('EPSG:3857')\n",
    "ax = plt.axes()\n",
    "ax = sorted_results[:2].plot(ax=ax, facecolor='none', edgecolor='blue')\n",
    "ax = aoi_ph_planar.plot(ax=ax,color='red')"
   ]
  },
  {
   "cell_type": "markdown",
   "metadata": {},
   "source": [
    "So the results do look good for the top 2 areas as between them, they cover the entire AOI.\n",
    "\n",
    "Now, lets download the relevant images"
   ]
  },
  {
   "cell_type": "code",
   "execution_count": null,
   "metadata": {},
   "outputs": [],
   "source": [
    "top2_items = sorted_results[:2].copy()"
   ]
  },
  {
   "cell_type": "code",
   "execution_count": null,
   "metadata": {},
   "outputs": [
    {
     "name": "stdout",
     "output_type": "stream",
     "text": [
      "CPU times: user 7.02 ms, sys: 1.55 ms, total: 8.57 ms\n",
      "Wall time: 6.76 ms\n"
     ]
    }
   ],
   "source": [
    "%%time\n",
    "top2_items = download_items(top2_items, dest='../data/ntlights-bigfiles')"
   ]
  },
  {
   "cell_type": "markdown",
   "metadata": {},
   "source": [
    "Notice how fast the times are \n",
    "\n",
    "> _this is because the files were already downloaded into the directory -- the time taken to download new files can take about 10-15 minutes depending on your internet connection_"
   ]
  },
  {
   "cell_type": "code",
   "execution_count": null,
   "metadata": {},
   "outputs": [
    {
     "data": {
      "text/html": [
       "<div>\n",
       "<style scoped>\n",
       "    .dataframe tbody tr th:only-of-type {\n",
       "        vertical-align: middle;\n",
       "    }\n",
       "\n",
       "    .dataframe tbody tr th {\n",
       "        vertical-align: top;\n",
       "    }\n",
       "\n",
       "    .dataframe thead th {\n",
       "        text-align: right;\n",
       "    }\n",
       "</style>\n",
       "<table border=\"1\" class=\"dataframe\">\n",
       "  <thead>\n",
       "    <tr style=\"text-align: right;\">\n",
       "      <th></th>\n",
       "      <th>image_path</th>\n",
       "    </tr>\n",
       "  </thead>\n",
       "  <tbody>\n",
       "    <tr>\n",
       "      <th>81</th>\n",
       "      <td>/home/butch2/play/devpost/ntlights-damage-assessment/nbs/../data/ntlights-bigfiles/npp_201805/SVDNB_npp_d20180501_t1...</td>\n",
       "    </tr>\n",
       "    <tr>\n",
       "      <th>90</th>\n",
       "      <td>/home/butch2/play/devpost/ntlights-damage-assessment/nbs/../data/ntlights-bigfiles/npp_201805/SVDNB_npp_d20180501_t1...</td>\n",
       "    </tr>\n",
       "  </tbody>\n",
       "</table>\n",
       "</div>"
      ],
      "text/plain": [
       "                                                                                                                 image_path\n",
       "81  /home/butch2/play/devpost/ntlights-damage-assessment/nbs/../data/ntlights-bigfiles/npp_201805/SVDNB_npp_d20180501_t1...\n",
       "90  /home/butch2/play/devpost/ntlights-damage-assessment/nbs/../data/ntlights-bigfiles/npp_201805/SVDNB_npp_d20180501_t1..."
      ]
     },
     "execution_count": null,
     "metadata": {},
     "output_type": "execute_result"
    }
   ],
   "source": [
    "top2_items[['image_path']]"
   ]
  },
  {
   "cell_type": "markdown",
   "metadata": {},
   "source": [
    "These now display the path to image files -- which you can then open for analysis using rasterio or any other python package. "
   ]
  }
 ],
 "metadata": {
  "kernelspec": {
   "display_name": "Python 3.8.13 ('ntlights')",
   "language": "python",
   "name": "python3"
  },
  "language_info": {
   "name": "python",
   "version": "3.8.13"
  },
  "vscode": {
   "interpreter": {
    "hash": "d6a00cc16aeb56e67719a719d04e976285ab169e260843242f0d7ee2a1f52906"
   }
  }
 },
 "nbformat": 4,
 "nbformat_minor": 4
}
