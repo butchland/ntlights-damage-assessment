{
 "cells": [
  {
   "cell_type": "code",
   "execution_count": null,
   "metadata": {},
   "outputs": [],
   "source": [
    "#|default_exp items"
   ]
  },
  {
   "cell_type": "markdown",
   "metadata": {},
   "source": [
    "# Items\n",
    "\n",
    "> Utilities for fetching item catalogs"
   ]
  },
  {
   "cell_type": "code",
   "execution_count": null,
   "metadata": {},
   "outputs": [],
   "source": [
    "#| eval: false\n",
    "#| hide\n",
    "%reload_ext autoreload\n",
    "%autoreload 2\n",
    "%matplotlib inline"
   ]
  },
  {
   "cell_type": "code",
   "execution_count": null,
   "metadata": {},
   "outputs": [],
   "source": [
    "#| hide\n",
    "from nbdev.showdoc import *"
   ]
  },
  {
   "cell_type": "code",
   "execution_count": null,
   "metadata": {},
   "outputs": [],
   "source": [
    "#| export\n",
    "\n",
    "import requests\n",
    "import json\n",
    "from fastcore.all import L\n",
    "import pandas as pd\n",
    "from typing import Any\n",
    "from urllib.parse import urlparse\n",
    "from pathlib import Path\n",
    "import numpy as np\n",
    "import re\n",
    "from shapely.geometry import Polygon, box\n",
    "import geopandas as gpd"
   ]
  },
  {
   "cell_type": "code",
   "execution_count": null,
   "metadata": {},
   "outputs": [],
   "source": [
    "#| hide\n",
    "import matplotlib.pyplot as plt\n",
    "pd.set_option('display.max_columns', 500)\n",
    "pd.set_option('display.max_colwidth',120)"
   ]
  },
  {
   "cell_type": "code",
   "execution_count": null,
   "metadata": {},
   "outputs": [],
   "source": [
    "#| export\n",
    "from ntlights_damage_assessment.catalogs import *"
   ]
  },
  {
   "cell_type": "code",
   "execution_count": null,
   "metadata": {},
   "outputs": [
    {
     "name": "stdout",
     "output_type": "stream",
     "text": [
      "CPU times: user 20.4 ms, sys: 6.03 ms, total: 26.4 ms\n",
      "Wall time: 1.59 s\n"
     ]
    }
   ],
   "source": [
    "%%time\n",
    "#| eval: false\n",
    "catalogs = get_item_catalogs()"
   ]
  },
  {
   "cell_type": "code",
   "execution_count": null,
   "metadata": {},
   "outputs": [],
   "source": [
    "#| eval: false\n",
    "catalog1805 = catalogs[catalogs.yearmonth == '201805']"
   ]
  },
  {
   "cell_type": "code",
   "execution_count": null,
   "metadata": {},
   "outputs": [
    {
     "data": {
      "text/plain": [
       "'https://globalnightlight.s3.amazonaws.com/npp_201805/npp_201805_catalog.json'"
      ]
     },
     "execution_count": null,
     "metadata": {},
     "output_type": "execute_result"
    }
   ],
   "source": [
    "#| eval: false\n",
    "href1805 = catalog1805.iloc[0].href; href1805"
   ]
  },
  {
   "cell_type": "code",
   "execution_count": null,
   "metadata": {},
   "outputs": [
    {
     "data": {
      "text/plain": [
       "'https://globalnightlight.s3.amazonaws.com'"
      ]
     },
     "execution_count": null,
     "metadata": {},
     "output_type": "execute_result"
    }
   ],
   "source": [
    "#| eval: false\n",
    "baseurl = catalog1805.iloc[0].baseurl; baseurl"
   ]
  },
  {
   "cell_type": "code",
   "execution_count": null,
   "metadata": {},
   "outputs": [
    {
     "data": {
      "text/plain": [
       "'npp_201805'"
      ]
     },
     "execution_count": null,
     "metadata": {},
     "output_type": "execute_result"
    }
   ],
   "source": [
    "#| eval: false\n",
    "folder1805 = catalog1805.iloc[0].folder; folder1805"
   ]
  },
  {
   "cell_type": "code",
   "execution_count": null,
   "metadata": {},
   "outputs": [
    {
     "name": "stdout",
     "output_type": "stream",
     "text": [
      "CPU times: user 64.7 ms, sys: 6.24 ms, total: 71 ms\n",
      "Wall time: 2.44 s\n"
     ]
    }
   ],
   "source": [
    "%%time\n",
    "#| eval: false\n",
    "data1805 = get_data(href1805)"
   ]
  },
  {
   "cell_type": "code",
   "execution_count": null,
   "metadata": {},
   "outputs": [],
   "source": [
    "#| eval:false\n",
    "df1805 = make_df(data1805,rel='item')"
   ]
  },
  {
   "cell_type": "code",
   "execution_count": null,
   "metadata": {},
   "outputs": [],
   "source": [
    "#| export\n",
    "\n",
    "def get_item_href(href,folder, baseurl):\n",
    "    return f'{baseurl}/{folder}{href[1:]}'"
   ]
  },
  {
   "cell_type": "code",
   "execution_count": null,
   "metadata": {},
   "outputs": [],
   "source": [
    "assert get_item_href('./SVDNB_npp_d20180501_t0004098_e0009502_b33718_c20180501060951522600_noac_ops.rade9.co.json',\n",
    "              '201805',\n",
    "              'https://globalnightlight.s3.amazonaws.com') == 'https://globalnightlight.s3.amazonaws.com/201805/SVDNB_npp_d20180501_t0004098_e0009502_b33718_c20180501060951522600_noac_ops.rade9.co.json'"
   ]
  },
  {
   "cell_type": "code",
   "execution_count": null,
   "metadata": {},
   "outputs": [],
   "source": [
    "#| export\n",
    "def split_href_type(href, first=True):\n",
    "    parts = href[2:].split('.')\n",
    "    return parts[0] if first else '.'.join(parts[1:])\n",
    "    "
   ]
  },
  {
   "cell_type": "code",
   "execution_count": null,
   "metadata": {},
   "outputs": [],
   "source": [
    "assert split_href_type('./SVDNB_npp_d20180501_t0004098_e0009502_b33718_c20180501060951522600_noac_ops.rade9.co.json') == 'SVDNB_npp_d20180501_t0004098_e0009502_b33718_c20180501060951522600_noac_ops'\n"
   ]
  },
  {
   "cell_type": "code",
   "execution_count": null,
   "metadata": {},
   "outputs": [],
   "source": [
    "assert split_href_type('./SVDNB_npp_d20180501_t0004098_e0009502_b33718_c20180501060951522600_noac_ops.rade9.co.json', first=False) == 'rade9.co.json'\n"
   ]
  },
  {
   "cell_type": "code",
   "execution_count": null,
   "metadata": {},
   "outputs": [],
   "source": [
    "#| export\n",
    "def transform_items_df(items_df, folder, baseurl):\n",
    "    items_df.drop(columns=['rel','type'], inplace=True)\n",
    "    items_df['item_href'] = items_df.href.apply(get_item_href, folder=folder, baseurl=baseurl)\n",
    "    items_df['stem'] = items_df.href.apply(split_href_type)\n",
    "    items_df['suffix'] = items_df.href.apply(split_href_type,first=False)\n",
    "    items_df['base_url'] = baseurl\n",
    "    items_df['folder'] = folder\n",
    "    return items_df"
   ]
  },
  {
   "cell_type": "code",
   "execution_count": null,
   "metadata": {},
   "outputs": [],
   "source": [
    "items_df = pd.DataFrame(\n",
    "    data=dict(rel=['item'],\n",
    "              type=['application/json'],\n",
    "              href=['./SVDNB_npp_d20180501_t0004098_e0009502_b33718_c20180501060951522600_noac_ops.rade9.co.json']\n",
    "             ))"
   ]
  },
  {
   "cell_type": "code",
   "execution_count": null,
   "metadata": {},
   "outputs": [],
   "source": [
    "items_df = transform_items_df(items_df,'201805','https://globalnightlight.s3.amazonaws.com') "
   ]
  },
  {
   "cell_type": "code",
   "execution_count": null,
   "metadata": {},
   "outputs": [],
   "source": [
    "assert set(['base_url', 'folder', 'href', 'item_href', 'stem', 'suffix']) == set(items_df.columns.values)"
   ]
  },
  {
   "cell_type": "code",
   "execution_count": null,
   "metadata": {},
   "outputs": [],
   "source": [
    "#| export\n",
    "PAT = r'(.*[^_]+)_d([^_]*)_t([^_]*)_e([^_]*)_b([^_]*)_c([^_]*)_([^_]*)_(.*)$'"
   ]
  },
  {
   "cell_type": "code",
   "execution_count": null,
   "metadata": {},
   "outputs": [],
   "source": [
    "#| export\n",
    "\n",
    "def find_stem_components(stem):\n",
    "    matcher = re.match(PAT, stem)\n",
    "    if matcher is not None:\n",
    "        results = list(matcher.groups())\n",
    "    else: \n",
    "        results = []\n",
    "    if len(results) < 8:\n",
    "        results = groups +  [''] * (8 - len(groups))\n",
    "    return results[:8]\n",
    "        "
   ]
  },
  {
   "cell_type": "code",
   "execution_count": null,
   "metadata": {},
   "outputs": [],
   "source": [
    "assert find_stem_components('SVDNB_npp_d20180901_t0002302_e0008088_b35463_c20180901040811139620_nobc_ops') == ['SVDNB_npp',\n",
    " '20180901',\n",
    " '0002302',\n",
    " '0008088',\n",
    " '35463',\n",
    " '20180901040811139620',\n",
    " 'nobc',\n",
    " 'ops']"
   ]
  },
  {
   "cell_type": "code",
   "execution_count": null,
   "metadata": {},
   "outputs": [],
   "source": [
    "#| export\n",
    "\n",
    "def make_vflag_file(o):\n",
    "    return f\"npp_d{o['start_date']}_t{o['first_scantime']}_e{o['end_scantime']}_b{o['orbital_nbr']}.vflag.co.tif\""
   ]
  },
  {
   "cell_type": "code",
   "execution_count": null,
   "metadata": {},
   "outputs": [],
   "source": [
    "items_df2 = pd.DataFrame(dict(start_date=['20150504'], first_scantime=['1335358'], end_scantime=['1341162'], orbital_nbr=['18219']))"
   ]
  },
  {
   "cell_type": "code",
   "execution_count": null,
   "metadata": {},
   "outputs": [],
   "source": [
    "assert (items_df2.apply(make_vflag_file,axis=1) == pd.Series(['npp_d20150504_t1335358_e1341162_b18219.vflag.co.tif'])).all(axis=None)"
   ]
  },
  {
   "cell_type": "code",
   "execution_count": null,
   "metadata": {},
   "outputs": [],
   "source": [
    "#| export\n",
    "\n",
    "def make_vflag_href(o):\n",
    "    return f\"{o['base_url']}/{o['folder']}/{o['vflag_file']}\""
   ]
  },
  {
   "cell_type": "code",
   "execution_count": null,
   "metadata": {},
   "outputs": [],
   "source": [
    "items_df3 = pd.DataFrame(dict(base_url=['https://globalnightlight.s3.amazonaws.com'], folder=['npp_201504'], vflag_file=['npp_d20150504_t1335358_e1341162_b18219.vflag.co.tif']))"
   ]
  },
  {
   "cell_type": "code",
   "execution_count": null,
   "metadata": {},
   "outputs": [],
   "source": [
    "assert (items_df3.apply(make_vflag_href, axis=1) == pd.Series(['https://globalnightlight.s3.amazonaws.com/npp_201504/npp_d20150504_t1335358_e1341162_b18219.vflag.co.tif'])).all(axis=None)"
   ]
  },
  {
   "cell_type": "code",
   "execution_count": null,
   "metadata": {},
   "outputs": [],
   "source": [
    "#| export\n",
    "\n",
    "def split_stem_components(df):\n",
    "    (df['product_id'], \n",
    "     df['start_date'], \n",
    "     df['first_scantime'], \n",
    "     df['end_scantime'], \n",
    "     df['orbital_nbr'], \n",
    "     df['create_datetime'],\n",
    "     df['data_origin'],\n",
    "     df['data_domain']\n",
    "    ) = zip(*df['stem'].map(find_stem_components))\n",
    "    df['vflag_file'] = df.apply(make_vflag_file, axis=1)\n",
    "    df['vflag_href'] = df.apply(make_vflag_href, axis=1) \n",
    "    return df"
   ]
  },
  {
   "cell_type": "code",
   "execution_count": null,
   "metadata": {},
   "outputs": [],
   "source": [
    "items_df4 = pd.DataFrame(\n",
    "    dict(stem=['SVDNB_npp_d20180901_t0002302_e0008088_b35463_c20180901040811139620_nobc_ops'],\n",
    "         base_url=['https://globalnightlight.s3.amazonaws.com'], \n",
    "         folder=['npp_201809']\n",
    "         ))         "
   ]
  },
  {
   "cell_type": "code",
   "execution_count": null,
   "metadata": {},
   "outputs": [],
   "source": [
    "items_df4 = split_stem_components(items_df4)"
   ]
  },
  {
   "cell_type": "code",
   "execution_count": null,
   "metadata": {},
   "outputs": [],
   "source": [
    "assert set(items_df4.columns.values) == set(['base_url',\n",
    " 'create_datetime',\n",
    " 'data_domain',\n",
    " 'data_origin',\n",
    " 'end_scantime',\n",
    " 'first_scantime',\n",
    " 'folder',\n",
    " 'orbital_nbr',\n",
    " 'product_id',\n",
    " 'start_date',\n",
    " 'stem',\n",
    " 'vflag_file',\n",
    " 'vflag_href'])"
   ]
  },
  {
   "cell_type": "code",
   "execution_count": null,
   "metadata": {},
   "outputs": [],
   "source": [
    "#| export\n",
    "def get_monthly_items(href,folder,baseurl):\n",
    "    data = get_data(href)\n",
    "    df = make_df(data, rel='item')\n",
    "    df = transform_items_df(df, folder,baseurl)\n",
    "    df = split_stem_components(df)\n",
    "    return df"
   ]
  },
  {
   "cell_type": "code",
   "execution_count": null,
   "metadata": {},
   "outputs": [
    {
     "name": "stdout",
     "output_type": "stream",
     "text": [
      "CPU times: user 177 ms, sys: 7.41 ms, total: 184 ms\n",
      "Wall time: 2.59 s\n"
     ]
    }
   ],
   "source": [
    "%%time\n",
    "#| eval: false\n",
    "items1805 = get_monthly_items(href1805,folder1805, baseurl)"
   ]
  },
  {
   "cell_type": "code",
   "execution_count": null,
   "metadata": {},
   "outputs": [],
   "source": [
    "#| eval: false\n",
    "assert len(items1805) == 3600"
   ]
  },
  {
   "cell_type": "code",
   "execution_count": null,
   "metadata": {},
   "outputs": [],
   "source": [
    "#| eval: false\n",
    "assert set(items1805.columns.values) == set(['href','item_href','suffix', *items_df4.columns.values])"
   ]
  }
 ],
 "metadata": {
  "kernelspec": {
   "display_name": "Python 3 (ipykernel)",
   "language": "python",
   "name": "python3"
  }
 },
 "nbformat": 4,
 "nbformat_minor": 4
}
