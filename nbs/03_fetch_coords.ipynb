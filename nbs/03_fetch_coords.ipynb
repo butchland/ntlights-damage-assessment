{
 "cells": [
  {
   "cell_type": "code",
   "execution_count": null,
   "metadata": {},
   "outputs": [],
   "source": [
    "#|default_exp fetch_coords"
   ]
  },
  {
   "cell_type": "markdown",
   "metadata": {},
   "source": [
    "# Fetch Coords\n",
    "\n",
    "> Utilities to fetch json file containing coordinates metadata"
   ]
  },
  {
   "cell_type": "code",
   "execution_count": null,
   "metadata": {},
   "outputs": [],
   "source": [
    "#| eval: false\n",
    "#| hide\n",
    "%reload_ext autoreload\n",
    "%autoreload 2\n",
    "%matplotlib inline"
   ]
  },
  {
   "cell_type": "code",
   "execution_count": null,
   "metadata": {},
   "outputs": [],
   "source": [
    "#| hide\n",
    "from nbdev.showdoc import *"
   ]
  },
  {
   "cell_type": "code",
   "execution_count": null,
   "metadata": {},
   "outputs": [],
   "source": [
    "#| export\n",
    "\n",
    "import requests\n",
    "import json\n",
    "from fastcore.all import L\n",
    "import pandas as pd\n",
    "from typing import Any\n",
    "from urllib.parse import urlparse\n",
    "from pathlib import Path\n",
    "import numpy as np\n",
    "import re\n",
    "from shapely.geometry import Polygon, box\n",
    "import geopandas as gpd\n",
    "import sqlite3 as sql3\n",
    "from pandas.io import sql \n",
    "import sqlalchemy as sqalc"
   ]
  },
  {
   "cell_type": "code",
   "execution_count": null,
   "metadata": {},
   "outputs": [],
   "source": [
    "#| exporti\n",
    "from ntlights_damage_assessment.build_catalogs import DB\n",
    "from ntlights_damage_assessment.catalogs import get_data"
   ]
  },
  {
   "cell_type": "code",
   "execution_count": null,
   "metadata": {},
   "outputs": [],
   "source": [
    "#| hide\n",
    "import matplotlib.pyplot as plt"
   ]
  },
  {
   "cell_type": "code",
   "execution_count": null,
   "metadata": {},
   "outputs": [],
   "source": [
    "#| hide\n",
    "pd.set_option('display.max_columns', 500)\n",
    "pd.set_option('display.max_colwidth',120)"
   ]
  },
  {
   "cell_type": "code",
   "execution_count": null,
   "metadata": {},
   "outputs": [],
   "source": [
    "#| export\n",
    "\n",
    "def get_coords(href, stem):\n",
    "    data = get_data(href)\n",
    "    shape = Polygon(data['geometry']['coordinates'][0])\n",
    "    asset_href = data['assets']['image']['href']\n",
    "    row = dict(\n",
    "        stem=stem,\n",
    "        asset_href=data['assets']['image']['href'],\n",
    "        geometry=shape\n",
    "    )\n",
    "    return row"
   ]
  },
  {
   "cell_type": "code",
   "execution_count": null,
   "metadata": {},
   "outputs": [],
   "source": [
    "stem = 'SVDNB_npp_d20180501_t0004098_e0009502_b33718_c20180501060951522600_noac_ops'"
   ]
  },
  {
   "cell_type": "code",
   "execution_count": null,
   "metadata": {},
   "outputs": [],
   "source": [
    "href = 'https://globalnightlight.s3.amazonaws.com/npp_201805/SVDNB_npp_d20180501_t0004098_e0009502_b33718_c20180501060951522600_noac_ops.rade9.co.json'\n"
   ]
  },
  {
   "cell_type": "code",
   "execution_count": null,
   "metadata": {},
   "outputs": [
    {
     "name": "stdout",
     "output_type": "stream",
     "text": [
      "CPU times: user 28.8 ms, sys: 9.47 ms, total: 38.3 ms\n",
      "Wall time: 1.35 s\n"
     ]
    }
   ],
   "source": [
    "%%time\n",
    "#| eval: false\n",
    "row = get_coords(href,stem)"
   ]
  },
  {
   "cell_type": "code",
   "execution_count": null,
   "metadata": {},
   "outputs": [
    {
     "data": {
      "text/plain": [
       "{'stem': 'SVDNB_npp_d20180501_t0004098_e0009502_b33718_c20180501060951522600_noac_ops',\n",
       " 'asset_href': 'https://globalnightlight.s3.amazonaws.com/npp_201805/SVDNB_npp_d20180501_t0004098_e0009502_b33718_c20180501060951522600_noac_ops.rade9.co.tif',\n",
       " 'geometry': <shapely.geometry.polygon.Polygon>}"
      ]
     },
     "execution_count": null,
     "metadata": {},
     "output_type": "execute_result"
    }
   ],
   "source": [
    "row"
   ]
  },
  {
   "cell_type": "code",
   "execution_count": null,
   "metadata": {},
   "outputs": [],
   "source": [
    "date_param = '20180501'"
   ]
  },
  {
   "cell_type": "code",
   "execution_count": null,
   "metadata": {},
   "outputs": [],
   "source": [
    "if '%' in date_param:\n",
    "    query = f'select * from catalog_items where start_date like \"{date_param}\"'\n",
    "else:\n",
    "    query = f'select * from catalog_items where start_date = \"{date_param}\"' "
   ]
  },
  {
   "cell_type": "code",
   "execution_count": null,
   "metadata": {},
   "outputs": [],
   "source": [
    "#| eval: false\n",
    "conn = sql3.connect(DB)"
   ]
  },
  {
   "cell_type": "code",
   "execution_count": null,
   "metadata": {},
   "outputs": [
    {
     "name": "stdout",
     "output_type": "stream",
     "text": [
      "CPU times: user 35.6 ms, sys: 336 ms, total: 371 ms\n",
      "Wall time: 401 ms\n"
     ]
    }
   ],
   "source": [
    "%%time\n",
    "#| eval: false\n",
    "items_df = pd.read_sql_query(query,conn,dtype=str)"
   ]
  },
  {
   "cell_type": "code",
   "execution_count": null,
   "metadata": {},
   "outputs": [
    {
     "data": {
      "text/plain": [
       "array(['href', 'item_href', 'stem', 'suffix', 'base_url', 'folder',\n",
       "       'product_id', 'start_date', 'first_scantime', 'end_scantime',\n",
       "       'orbital_nbr', 'create_datetime', 'data_origin', 'data_domain',\n",
       "       'vflag_file', 'vflag_href'], dtype=object)"
      ]
     },
     "execution_count": null,
     "metadata": {},
     "output_type": "execute_result"
    }
   ],
   "source": [
    "items_df.columns.values"
   ]
  },
  {
   "cell_type": "code",
   "execution_count": null,
   "metadata": {},
   "outputs": [
    {
     "data": {
      "text/html": [
       "<div>\n",
       "<style scoped>\n",
       "    .dataframe tbody tr th:only-of-type {\n",
       "        vertical-align: middle;\n",
       "    }\n",
       "\n",
       "    .dataframe tbody tr th {\n",
       "        vertical-align: top;\n",
       "    }\n",
       "\n",
       "    .dataframe thead th {\n",
       "        text-align: right;\n",
       "    }\n",
       "</style>\n",
       "<table border=\"1\" class=\"dataframe\">\n",
       "  <thead>\n",
       "    <tr style=\"text-align: right;\">\n",
       "      <th></th>\n",
       "      <th>href</th>\n",
       "      <th>item_href</th>\n",
       "      <th>stem</th>\n",
       "      <th>suffix</th>\n",
       "      <th>base_url</th>\n",
       "      <th>folder</th>\n",
       "      <th>product_id</th>\n",
       "      <th>start_date</th>\n",
       "      <th>first_scantime</th>\n",
       "      <th>end_scantime</th>\n",
       "      <th>orbital_nbr</th>\n",
       "      <th>create_datetime</th>\n",
       "      <th>data_origin</th>\n",
       "      <th>data_domain</th>\n",
       "      <th>vflag_file</th>\n",
       "      <th>vflag_href</th>\n",
       "    </tr>\n",
       "  </thead>\n",
       "  <tbody>\n",
       "    <tr>\n",
       "      <th>0</th>\n",
       "      <td>./SVDNB_npp_d20180501_t0004098_e0009502_b33718_c20180501060951522600_noac_ops.rade9.co.json</td>\n",
       "      <td>https://globalnightlight.s3.amazonaws.com/npp_201805/SVDNB_npp_d20180501_t0004098_e0009502_b33718_c20180501060951522...</td>\n",
       "      <td>SVDNB_npp_d20180501_t0004098_e0009502_b33718_c20180501060951522600_noac_ops</td>\n",
       "      <td>rade9.co.json</td>\n",
       "      <td>https://globalnightlight.s3.amazonaws.com</td>\n",
       "      <td>npp_201805</td>\n",
       "      <td>SVDNB_npp</td>\n",
       "      <td>20180501</td>\n",
       "      <td>0004098</td>\n",
       "      <td>0009502</td>\n",
       "      <td>33718</td>\n",
       "      <td>20180501060951522600</td>\n",
       "      <td>noac</td>\n",
       "      <td>ops</td>\n",
       "      <td>npp_d20180501_t0004098_e0009502_b33718.vflag.co.tif</td>\n",
       "      <td>https://globalnightlight.s3.amazonaws.com/npp_201805/npp_d20180501_t0004098_e0009502_b33718.vflag.co.tif</td>\n",
       "    </tr>\n",
       "    <tr>\n",
       "      <th>1</th>\n",
       "      <td>./SVDNB_npp_d20180501_t0009514_e0015318_b33718_c20180501061532603366_noac_ops.rade9.co.json</td>\n",
       "      <td>https://globalnightlight.s3.amazonaws.com/npp_201805/SVDNB_npp_d20180501_t0009514_e0015318_b33718_c20180501061532603...</td>\n",
       "      <td>SVDNB_npp_d20180501_t0009514_e0015318_b33718_c20180501061532603366_noac_ops</td>\n",
       "      <td>rade9.co.json</td>\n",
       "      <td>https://globalnightlight.s3.amazonaws.com</td>\n",
       "      <td>npp_201805</td>\n",
       "      <td>SVDNB_npp</td>\n",
       "      <td>20180501</td>\n",
       "      <td>0009514</td>\n",
       "      <td>0015318</td>\n",
       "      <td>33718</td>\n",
       "      <td>20180501061532603366</td>\n",
       "      <td>noac</td>\n",
       "      <td>ops</td>\n",
       "      <td>npp_d20180501_t0009514_e0015318_b33718.vflag.co.tif</td>\n",
       "      <td>https://globalnightlight.s3.amazonaws.com/npp_201805/npp_d20180501_t0009514_e0015318_b33718.vflag.co.tif</td>\n",
       "    </tr>\n",
       "    <tr>\n",
       "      <th>2</th>\n",
       "      <td>./SVDNB_npp_d20180501_t0112274_e0118078_b33719_c20180501071808369542_noac_ops.rade9.co.json</td>\n",
       "      <td>https://globalnightlight.s3.amazonaws.com/npp_201805/SVDNB_npp_d20180501_t0112274_e0118078_b33719_c20180501071808369...</td>\n",
       "      <td>SVDNB_npp_d20180501_t0112274_e0118078_b33719_c20180501071808369542_noac_ops</td>\n",
       "      <td>rade9.co.json</td>\n",
       "      <td>https://globalnightlight.s3.amazonaws.com</td>\n",
       "      <td>npp_201805</td>\n",
       "      <td>SVDNB_npp</td>\n",
       "      <td>20180501</td>\n",
       "      <td>0112274</td>\n",
       "      <td>0118078</td>\n",
       "      <td>33719</td>\n",
       "      <td>20180501071808369542</td>\n",
       "      <td>noac</td>\n",
       "      <td>ops</td>\n",
       "      <td>npp_d20180501_t0112274_e0118078_b33719.vflag.co.tif</td>\n",
       "      <td>https://globalnightlight.s3.amazonaws.com/npp_201805/npp_d20180501_t0112274_e0118078_b33719.vflag.co.tif</td>\n",
       "    </tr>\n",
       "    <tr>\n",
       "      <th>3</th>\n",
       "      <td>./SVDNB_npp_d20180501_t0118090_e0123494_b33719_c20180501072349439701_noac_ops.rade9.co.json</td>\n",
       "      <td>https://globalnightlight.s3.amazonaws.com/npp_201805/SVDNB_npp_d20180501_t0118090_e0123494_b33719_c20180501072349439...</td>\n",
       "      <td>SVDNB_npp_d20180501_t0118090_e0123494_b33719_c20180501072349439701_noac_ops</td>\n",
       "      <td>rade9.co.json</td>\n",
       "      <td>https://globalnightlight.s3.amazonaws.com</td>\n",
       "      <td>npp_201805</td>\n",
       "      <td>SVDNB_npp</td>\n",
       "      <td>20180501</td>\n",
       "      <td>0118090</td>\n",
       "      <td>0123494</td>\n",
       "      <td>33719</td>\n",
       "      <td>20180501072349439701</td>\n",
       "      <td>noac</td>\n",
       "      <td>ops</td>\n",
       "      <td>npp_d20180501_t0118090_e0123494_b33719.vflag.co.tif</td>\n",
       "      <td>https://globalnightlight.s3.amazonaws.com/npp_201805/npp_d20180501_t0118090_e0123494_b33719.vflag.co.tif</td>\n",
       "    </tr>\n",
       "    <tr>\n",
       "      <th>4</th>\n",
       "      <td>./SVDNB_npp_d20180501_t0123507_e0129293_b33719_c20180501072930507231_noac_ops.rade9.co.json</td>\n",
       "      <td>https://globalnightlight.s3.amazonaws.com/npp_201805/SVDNB_npp_d20180501_t0123507_e0129293_b33719_c20180501072930507...</td>\n",
       "      <td>SVDNB_npp_d20180501_t0123507_e0129293_b33719_c20180501072930507231_noac_ops</td>\n",
       "      <td>rade9.co.json</td>\n",
       "      <td>https://globalnightlight.s3.amazonaws.com</td>\n",
       "      <td>npp_201805</td>\n",
       "      <td>SVDNB_npp</td>\n",
       "      <td>20180501</td>\n",
       "      <td>0123507</td>\n",
       "      <td>0129293</td>\n",
       "      <td>33719</td>\n",
       "      <td>20180501072930507231</td>\n",
       "      <td>noac</td>\n",
       "      <td>ops</td>\n",
       "      <td>npp_d20180501_t0123507_e0129293_b33719.vflag.co.tif</td>\n",
       "      <td>https://globalnightlight.s3.amazonaws.com/npp_201805/npp_d20180501_t0123507_e0129293_b33719.vflag.co.tif</td>\n",
       "    </tr>\n",
       "  </tbody>\n",
       "</table>\n",
       "</div>"
      ],
      "text/plain": [
       "                                                                                          href  \\\n",
       "0  ./SVDNB_npp_d20180501_t0004098_e0009502_b33718_c20180501060951522600_noac_ops.rade9.co.json   \n",
       "1  ./SVDNB_npp_d20180501_t0009514_e0015318_b33718_c20180501061532603366_noac_ops.rade9.co.json   \n",
       "2  ./SVDNB_npp_d20180501_t0112274_e0118078_b33719_c20180501071808369542_noac_ops.rade9.co.json   \n",
       "3  ./SVDNB_npp_d20180501_t0118090_e0123494_b33719_c20180501072349439701_noac_ops.rade9.co.json   \n",
       "4  ./SVDNB_npp_d20180501_t0123507_e0129293_b33719_c20180501072930507231_noac_ops.rade9.co.json   \n",
       "\n",
       "                                                                                                                 item_href  \\\n",
       "0  https://globalnightlight.s3.amazonaws.com/npp_201805/SVDNB_npp_d20180501_t0004098_e0009502_b33718_c20180501060951522...   \n",
       "1  https://globalnightlight.s3.amazonaws.com/npp_201805/SVDNB_npp_d20180501_t0009514_e0015318_b33718_c20180501061532603...   \n",
       "2  https://globalnightlight.s3.amazonaws.com/npp_201805/SVDNB_npp_d20180501_t0112274_e0118078_b33719_c20180501071808369...   \n",
       "3  https://globalnightlight.s3.amazonaws.com/npp_201805/SVDNB_npp_d20180501_t0118090_e0123494_b33719_c20180501072349439...   \n",
       "4  https://globalnightlight.s3.amazonaws.com/npp_201805/SVDNB_npp_d20180501_t0123507_e0129293_b33719_c20180501072930507...   \n",
       "\n",
       "                                                                          stem  \\\n",
       "0  SVDNB_npp_d20180501_t0004098_e0009502_b33718_c20180501060951522600_noac_ops   \n",
       "1  SVDNB_npp_d20180501_t0009514_e0015318_b33718_c20180501061532603366_noac_ops   \n",
       "2  SVDNB_npp_d20180501_t0112274_e0118078_b33719_c20180501071808369542_noac_ops   \n",
       "3  SVDNB_npp_d20180501_t0118090_e0123494_b33719_c20180501072349439701_noac_ops   \n",
       "4  SVDNB_npp_d20180501_t0123507_e0129293_b33719_c20180501072930507231_noac_ops   \n",
       "\n",
       "          suffix                                   base_url      folder  \\\n",
       "0  rade9.co.json  https://globalnightlight.s3.amazonaws.com  npp_201805   \n",
       "1  rade9.co.json  https://globalnightlight.s3.amazonaws.com  npp_201805   \n",
       "2  rade9.co.json  https://globalnightlight.s3.amazonaws.com  npp_201805   \n",
       "3  rade9.co.json  https://globalnightlight.s3.amazonaws.com  npp_201805   \n",
       "4  rade9.co.json  https://globalnightlight.s3.amazonaws.com  npp_201805   \n",
       "\n",
       "  product_id start_date first_scantime end_scantime orbital_nbr  \\\n",
       "0  SVDNB_npp   20180501        0004098      0009502       33718   \n",
       "1  SVDNB_npp   20180501        0009514      0015318       33718   \n",
       "2  SVDNB_npp   20180501        0112274      0118078       33719   \n",
       "3  SVDNB_npp   20180501        0118090      0123494       33719   \n",
       "4  SVDNB_npp   20180501        0123507      0129293       33719   \n",
       "\n",
       "        create_datetime data_origin data_domain  \\\n",
       "0  20180501060951522600        noac         ops   \n",
       "1  20180501061532603366        noac         ops   \n",
       "2  20180501071808369542        noac         ops   \n",
       "3  20180501072349439701        noac         ops   \n",
       "4  20180501072930507231        noac         ops   \n",
       "\n",
       "                                            vflag_file  \\\n",
       "0  npp_d20180501_t0004098_e0009502_b33718.vflag.co.tif   \n",
       "1  npp_d20180501_t0009514_e0015318_b33718.vflag.co.tif   \n",
       "2  npp_d20180501_t0112274_e0118078_b33719.vflag.co.tif   \n",
       "3  npp_d20180501_t0118090_e0123494_b33719.vflag.co.tif   \n",
       "4  npp_d20180501_t0123507_e0129293_b33719.vflag.co.tif   \n",
       "\n",
       "                                                                                                 vflag_href  \n",
       "0  https://globalnightlight.s3.amazonaws.com/npp_201805/npp_d20180501_t0004098_e0009502_b33718.vflag.co.tif  \n",
       "1  https://globalnightlight.s3.amazonaws.com/npp_201805/npp_d20180501_t0009514_e0015318_b33718.vflag.co.tif  \n",
       "2  https://globalnightlight.s3.amazonaws.com/npp_201805/npp_d20180501_t0112274_e0118078_b33719.vflag.co.tif  \n",
       "3  https://globalnightlight.s3.amazonaws.com/npp_201805/npp_d20180501_t0118090_e0123494_b33719.vflag.co.tif  \n",
       "4  https://globalnightlight.s3.amazonaws.com/npp_201805/npp_d20180501_t0123507_e0129293_b33719.vflag.co.tif  "
      ]
     },
     "execution_count": null,
     "metadata": {},
     "output_type": "execute_result"
    }
   ],
   "source": [
    "items_df.head()"
   ]
  },
  {
   "cell_type": "code",
   "execution_count": null,
   "metadata": {},
   "outputs": [],
   "source": [
    "#| export\n",
    "\n",
    "def get_rows(items_df):\n",
    "    rows = []\n",
    "    for i in range(len(items_df)):\n",
    "        item = items_df.iloc[i]\n",
    "        row = get_coords(item.item_href, item.stem)\n",
    "        rows.append(row) \n",
    "    return rows"
   ]
  },
  {
   "cell_type": "code",
   "execution_count": null,
   "metadata": {},
   "outputs": [
    {
     "name": "stdout",
     "output_type": "stream",
     "text": [
      "CPU times: user 3.71 s, sys: 127 ms, total: 3.84 s\n",
      "Wall time: 2min 37s\n"
     ]
    }
   ],
   "source": [
    "%%time\n",
    "#| eval: false\n",
    "rows = get_rows(items_df)"
   ]
  },
  {
   "cell_type": "code",
   "execution_count": null,
   "metadata": {},
   "outputs": [],
   "source": [
    "rows_df = pd.DataFrame.from_records(rows)"
   ]
  },
  {
   "cell_type": "code",
   "execution_count": null,
   "metadata": {},
   "outputs": [
    {
     "data": {
      "text/plain": [
       "array(['stem', 'asset_href', 'geometry'], dtype=object)"
      ]
     },
     "execution_count": null,
     "metadata": {},
     "output_type": "execute_result"
    }
   ],
   "source": [
    "rows_df.columns.values"
   ]
  },
  {
   "cell_type": "code",
   "execution_count": null,
   "metadata": {},
   "outputs": [
    {
     "data": {
      "text/plain": [
       "stem          object\n",
       "asset_href    object\n",
       "geometry      object\n",
       "dtype: object"
      ]
     },
     "execution_count": null,
     "metadata": {},
     "output_type": "execute_result"
    }
   ],
   "source": [
    "rows_df.dtypes"
   ]
  },
  {
   "cell_type": "code",
   "execution_count": null,
   "metadata": {},
   "outputs": [],
   "source": [
    "rows_gdf = gpd.GeoDataFrame(rows_df, geometry='geometry', crs='EPSG:4326')"
   ]
  },
  {
   "cell_type": "code",
   "execution_count": null,
   "metadata": {},
   "outputs": [],
   "source": [
    "rows_wkt  = rows_gdf.to_wkt()"
   ]
  },
  {
   "cell_type": "code",
   "execution_count": null,
   "metadata": {},
   "outputs": [
    {
     "data": {
      "text/plain": [
       "stem          object\n",
       "asset_href    object\n",
       "geometry      object\n",
       "dtype: object"
      ]
     },
     "execution_count": null,
     "metadata": {},
     "output_type": "execute_result"
    }
   ],
   "source": [
    "rows_wkt.dtypes"
   ]
  },
  {
   "cell_type": "code",
   "execution_count": null,
   "metadata": {},
   "outputs": [],
   "source": [
    "#| exporti\n",
    "\n",
    "create_coords_cache_sql = '''\n",
    "CREATE TABLE IF NOT EXISTS \"coords_cache\" (\n",
    "  \"stem\" TEXT,\n",
    "  \"asset_href\" TEXT,\n",
    "  \"geometry\" TEXT\n",
    ");\n",
    "CREATE INDEX cache_index on coords_cache(stem);\n",
    "'''\n",
    "drop_coords_cache_sql = '''\n",
    "DROP TABLE IF EXISTS coords_cache;\n",
    "'''\n"
   ]
  },
  {
   "cell_type": "code",
   "execution_count": null,
   "metadata": {},
   "outputs": [
    {
     "data": {
      "text/plain": [
       "<sqlite3.Cursor>"
      ]
     },
     "execution_count": null,
     "metadata": {},
     "output_type": "execute_result"
    }
   ],
   "source": [
    "# conn.executescript(drop_coords_cache_sql);"
   ]
  },
  {
   "cell_type": "code",
   "execution_count": null,
   "metadata": {},
   "outputs": [],
   "source": [
    "# conn.executescript(create_coords_cache_sql);"
   ]
  },
  {
   "cell_type": "code",
   "execution_count": null,
   "metadata": {},
   "outputs": [
    {
     "name": "stdout",
     "output_type": "stream",
     "text": [
      "CPU times: user 0 ns, sys: 3.99 ms, total: 3.99 ms\n",
      "Wall time: 13 ms\n"
     ]
    }
   ],
   "source": [
    "%%time\n",
    "#| eval: false\n",
    "\n",
    "row_count = rows_wkt.to_sql('coords_cache', conn, if_exists='append', index=False, method='multi')"
   ]
  },
  {
   "cell_type": "code",
   "execution_count": null,
   "metadata": {},
   "outputs": [],
   "source": [
    "#| export\n",
    "\n",
    "def add_cache_coords(items_df, conn, cache_table='coords_cache'):\n",
    "    rows = get_rows(items_df)\n",
    "    rows_df = pd.DataFrame.from_records(rows)\n",
    "    rows_gdf = gpd.GeoDataFrame(rows_df, geometry='geometry', crs='EPSG:4326')\n",
    "    rows_wkt  = rows_gdf.to_wkt()\n",
    "    row_count = rows_wkt.to_sql(cache_table, conn, if_exists='append', index=False, method='multi')\n",
    "    return row_count"
   ]
  },
  {
   "cell_type": "code",
   "execution_count": null,
   "metadata": {},
   "outputs": [],
   "source": []
  },
  {
   "cell_type": "code",
   "execution_count": null,
   "metadata": {},
   "outputs": [],
   "source": [
    "joined_query_template = '''\n",
    "with item as ( \n",
    "  select *\n",
    "  from catalog_items\n",
    "),\n",
    "cache as (\n",
    "  select *\n",
    "  from coords_cache\n",
    "),\n",
    "item_cache as (\n",
    "  select item.*,\n",
    "         ifnull(cache.stem,'NA') as cache_stem,\n",
    "         cache.asset_href,\n",
    "         cache.geometry\n",
    "  from item\n",
    "  left join cache\n",
    "  on item.stem = cache.stem\n",
    ")\n",
    "select * from item_cache\n",
    "where {}\n",
    "'''\n",
    "  "
   ]
  },
  {
   "cell_type": "code",
   "execution_count": null,
   "metadata": {},
   "outputs": [
    {
     "data": {
      "text/plain": [
       "120"
      ]
     },
     "execution_count": null,
     "metadata": {},
     "output_type": "execute_result"
    }
   ],
   "source": [
    "len(joined_df)"
   ]
  },
  {
   "cell_type": "code",
   "execution_count": null,
   "metadata": {},
   "outputs": [],
   "source": [
    "def fetch_cached_coordinates(date_param):\n",
    "    if '%' in date_param:\n",
    "        criteria = f'start_date like \"{date_param}\"'\n",
    "    else:\n",
    "        criteria = f'start_date = \"{date_param}\"' \n",
    "    joined_query = joined_query_template.format(criteria)\n",
    "\n",
    "    conn = sql3.connect(DB)\n",
    "    joined_df = pd.read_sql_query(joined_query, conn, dtype=str)\n",
    "    conn.close()\n",
    "    return joined_df"
   ]
  },
  {
   "cell_type": "code",
   "execution_count": null,
   "metadata": {},
   "outputs": [
    {
     "name": "stdout",
     "output_type": "stream",
     "text": [
      "CPU times: user 47.9 ms, sys: 139 ms, total: 187 ms\n",
      "Wall time: 202 ms\n"
     ]
    }
   ],
   "source": [
    "%%time\n",
    "#| eval: false\n",
    "cached_df = fetch_cached_coordinates('20180501')"
   ]
  },
  {
   "cell_type": "code",
   "execution_count": null,
   "metadata": {},
   "outputs": [
    {
     "name": "stdout",
     "output_type": "stream",
     "text": [
      "CPU times: user 48.8 ms, sys: 109 ms, total: 158 ms\n",
      "Wall time: 170 ms\n"
     ]
    }
   ],
   "source": [
    "%%time\n",
    "#| eval: false\n",
    "cached_df2 = fetch_cached_coordinates('20180515')"
   ]
  },
  {
   "cell_type": "code",
   "execution_count": null,
   "metadata": {},
   "outputs": [
    {
     "name": "stdout",
     "output_type": "stream",
     "text": [
      "CPU times: user 35.6 ms, sys: 336 ms, total: 371 ms\n",
      "Wall time: 401 ms\n"
     ]
    }
   ],
   "source": [
    "%%time\n",
    "#| eval: false\n",
    "items_df = pd.read_sql_query(query,conn,dtype=str)"
   ]
  },
  {
   "cell_type": "code",
   "execution_count": null,
   "metadata": {},
   "outputs": [
    {
     "data": {
      "text/plain": [
       "array(['href', 'item_href', 'stem', 'suffix', 'base_url', 'folder',\n",
       "       'product_id', 'start_date', 'first_scantime', 'end_scantime',\n",
       "       'orbital_nbr', 'create_datetime', 'data_origin', 'data_domain',\n",
       "       'vflag_file', 'vflag_href'], dtype=object)"
      ]
     },
     "execution_count": null,
     "metadata": {},
     "output_type": "execute_result"
    }
   ],
   "source": [
    "items_df.columns.values"
   ]
  },
  {
   "cell_type": "code",
   "execution_count": null,
   "metadata": {},
   "outputs": [
    {
     "data": {
      "text/html": [
       "<div>\n",
       "<style scoped>\n",
       "    .dataframe tbody tr th:only-of-type {\n",
       "        vertical-align: middle;\n",
       "    }\n",
       "\n",
       "    .dataframe tbody tr th {\n",
       "        vertical-align: top;\n",
       "    }\n",
       "\n",
       "    .dataframe thead th {\n",
       "        text-align: right;\n",
       "    }\n",
       "</style>\n",
       "<table border=\"1\" class=\"dataframe\">\n",
       "  <thead>\n",
       "    <tr style=\"text-align: right;\">\n",
       "      <th></th>\n",
       "      <th>href</th>\n",
       "      <th>item_href</th>\n",
       "      <th>stem</th>\n",
       "      <th>suffix</th>\n",
       "      <th>base_url</th>\n",
       "      <th>folder</th>\n",
       "      <th>product_id</th>\n",
       "      <th>start_date</th>\n",
       "      <th>first_scantime</th>\n",
       "      <th>end_scantime</th>\n",
       "      <th>orbital_nbr</th>\n",
       "      <th>create_datetime</th>\n",
       "      <th>data_origin</th>\n",
       "      <th>data_domain</th>\n",
       "      <th>vflag_file</th>\n",
       "      <th>vflag_href</th>\n",
       "    </tr>\n",
       "  </thead>\n",
       "  <tbody>\n",
       "    <tr>\n",
       "      <th>0</th>\n",
       "      <td>./SVDNB_npp_d20180501_t0004098_e0009502_b33718_c20180501060951522600_noac_ops.rade9.co.json</td>\n",
       "      <td>https://globalnightlight.s3.amazonaws.com/npp_201805/SVDNB_npp_d20180501_t0004098_e0009502_b33718_c20180501060951522...</td>\n",
       "      <td>SVDNB_npp_d20180501_t0004098_e0009502_b33718_c20180501060951522600_noac_ops</td>\n",
       "      <td>rade9.co.json</td>\n",
       "      <td>https://globalnightlight.s3.amazonaws.com</td>\n",
       "      <td>npp_201805</td>\n",
       "      <td>SVDNB_npp</td>\n",
       "      <td>20180501</td>\n",
       "      <td>0004098</td>\n",
       "      <td>0009502</td>\n",
       "      <td>33718</td>\n",
       "      <td>20180501060951522600</td>\n",
       "      <td>noac</td>\n",
       "      <td>ops</td>\n",
       "      <td>npp_d20180501_t0004098_e0009502_b33718.vflag.co.tif</td>\n",
       "      <td>https://globalnightlight.s3.amazonaws.com/npp_201805/npp_d20180501_t0004098_e0009502_b33718.vflag.co.tif</td>\n",
       "    </tr>\n",
       "    <tr>\n",
       "      <th>1</th>\n",
       "      <td>./SVDNB_npp_d20180501_t0009514_e0015318_b33718_c20180501061532603366_noac_ops.rade9.co.json</td>\n",
       "      <td>https://globalnightlight.s3.amazonaws.com/npp_201805/SVDNB_npp_d20180501_t0009514_e0015318_b33718_c20180501061532603...</td>\n",
       "      <td>SVDNB_npp_d20180501_t0009514_e0015318_b33718_c20180501061532603366_noac_ops</td>\n",
       "      <td>rade9.co.json</td>\n",
       "      <td>https://globalnightlight.s3.amazonaws.com</td>\n",
       "      <td>npp_201805</td>\n",
       "      <td>SVDNB_npp</td>\n",
       "      <td>20180501</td>\n",
       "      <td>0009514</td>\n",
       "      <td>0015318</td>\n",
       "      <td>33718</td>\n",
       "      <td>20180501061532603366</td>\n",
       "      <td>noac</td>\n",
       "      <td>ops</td>\n",
       "      <td>npp_d20180501_t0009514_e0015318_b33718.vflag.co.tif</td>\n",
       "      <td>https://globalnightlight.s3.amazonaws.com/npp_201805/npp_d20180501_t0009514_e0015318_b33718.vflag.co.tif</td>\n",
       "    </tr>\n",
       "    <tr>\n",
       "      <th>2</th>\n",
       "      <td>./SVDNB_npp_d20180501_t0112274_e0118078_b33719_c20180501071808369542_noac_ops.rade9.co.json</td>\n",
       "      <td>https://globalnightlight.s3.amazonaws.com/npp_201805/SVDNB_npp_d20180501_t0112274_e0118078_b33719_c20180501071808369...</td>\n",
       "      <td>SVDNB_npp_d20180501_t0112274_e0118078_b33719_c20180501071808369542_noac_ops</td>\n",
       "      <td>rade9.co.json</td>\n",
       "      <td>https://globalnightlight.s3.amazonaws.com</td>\n",
       "      <td>npp_201805</td>\n",
       "      <td>SVDNB_npp</td>\n",
       "      <td>20180501</td>\n",
       "      <td>0112274</td>\n",
       "      <td>0118078</td>\n",
       "      <td>33719</td>\n",
       "      <td>20180501071808369542</td>\n",
       "      <td>noac</td>\n",
       "      <td>ops</td>\n",
       "      <td>npp_d20180501_t0112274_e0118078_b33719.vflag.co.tif</td>\n",
       "      <td>https://globalnightlight.s3.amazonaws.com/npp_201805/npp_d20180501_t0112274_e0118078_b33719.vflag.co.tif</td>\n",
       "    </tr>\n",
       "    <tr>\n",
       "      <th>3</th>\n",
       "      <td>./SVDNB_npp_d20180501_t0118090_e0123494_b33719_c20180501072349439701_noac_ops.rade9.co.json</td>\n",
       "      <td>https://globalnightlight.s3.amazonaws.com/npp_201805/SVDNB_npp_d20180501_t0118090_e0123494_b33719_c20180501072349439...</td>\n",
       "      <td>SVDNB_npp_d20180501_t0118090_e0123494_b33719_c20180501072349439701_noac_ops</td>\n",
       "      <td>rade9.co.json</td>\n",
       "      <td>https://globalnightlight.s3.amazonaws.com</td>\n",
       "      <td>npp_201805</td>\n",
       "      <td>SVDNB_npp</td>\n",
       "      <td>20180501</td>\n",
       "      <td>0118090</td>\n",
       "      <td>0123494</td>\n",
       "      <td>33719</td>\n",
       "      <td>20180501072349439701</td>\n",
       "      <td>noac</td>\n",
       "      <td>ops</td>\n",
       "      <td>npp_d20180501_t0118090_e0123494_b33719.vflag.co.tif</td>\n",
       "      <td>https://globalnightlight.s3.amazonaws.com/npp_201805/npp_d20180501_t0118090_e0123494_b33719.vflag.co.tif</td>\n",
       "    </tr>\n",
       "    <tr>\n",
       "      <th>4</th>\n",
       "      <td>./SVDNB_npp_d20180501_t0123507_e0129293_b33719_c20180501072930507231_noac_ops.rade9.co.json</td>\n",
       "      <td>https://globalnightlight.s3.amazonaws.com/npp_201805/SVDNB_npp_d20180501_t0123507_e0129293_b33719_c20180501072930507...</td>\n",
       "      <td>SVDNB_npp_d20180501_t0123507_e0129293_b33719_c20180501072930507231_noac_ops</td>\n",
       "      <td>rade9.co.json</td>\n",
       "      <td>https://globalnightlight.s3.amazonaws.com</td>\n",
       "      <td>npp_201805</td>\n",
       "      <td>SVDNB_npp</td>\n",
       "      <td>20180501</td>\n",
       "      <td>0123507</td>\n",
       "      <td>0129293</td>\n",
       "      <td>33719</td>\n",
       "      <td>20180501072930507231</td>\n",
       "      <td>noac</td>\n",
       "      <td>ops</td>\n",
       "      <td>npp_d20180501_t0123507_e0129293_b33719.vflag.co.tif</td>\n",
       "      <td>https://globalnightlight.s3.amazonaws.com/npp_201805/npp_d20180501_t0123507_e0129293_b33719.vflag.co.tif</td>\n",
       "    </tr>\n",
       "  </tbody>\n",
       "</table>\n",
       "</div>"
      ],
      "text/plain": [
       "                                                                                          href  \\\n",
       "0  ./SVDNB_npp_d20180501_t0004098_e0009502_b33718_c20180501060951522600_noac_ops.rade9.co.json   \n",
       "1  ./SVDNB_npp_d20180501_t0009514_e0015318_b33718_c20180501061532603366_noac_ops.rade9.co.json   \n",
       "2  ./SVDNB_npp_d20180501_t0112274_e0118078_b33719_c20180501071808369542_noac_ops.rade9.co.json   \n",
       "3  ./SVDNB_npp_d20180501_t0118090_e0123494_b33719_c20180501072349439701_noac_ops.rade9.co.json   \n",
       "4  ./SVDNB_npp_d20180501_t0123507_e0129293_b33719_c20180501072930507231_noac_ops.rade9.co.json   \n",
       "\n",
       "                                                                                                                 item_href  \\\n",
       "0  https://globalnightlight.s3.amazonaws.com/npp_201805/SVDNB_npp_d20180501_t0004098_e0009502_b33718_c20180501060951522...   \n",
       "1  https://globalnightlight.s3.amazonaws.com/npp_201805/SVDNB_npp_d20180501_t0009514_e0015318_b33718_c20180501061532603...   \n",
       "2  https://globalnightlight.s3.amazonaws.com/npp_201805/SVDNB_npp_d20180501_t0112274_e0118078_b33719_c20180501071808369...   \n",
       "3  https://globalnightlight.s3.amazonaws.com/npp_201805/SVDNB_npp_d20180501_t0118090_e0123494_b33719_c20180501072349439...   \n",
       "4  https://globalnightlight.s3.amazonaws.com/npp_201805/SVDNB_npp_d20180501_t0123507_e0129293_b33719_c20180501072930507...   \n",
       "\n",
       "                                                                          stem  \\\n",
       "0  SVDNB_npp_d20180501_t0004098_e0009502_b33718_c20180501060951522600_noac_ops   \n",
       "1  SVDNB_npp_d20180501_t0009514_e0015318_b33718_c20180501061532603366_noac_ops   \n",
       "2  SVDNB_npp_d20180501_t0112274_e0118078_b33719_c20180501071808369542_noac_ops   \n",
       "3  SVDNB_npp_d20180501_t0118090_e0123494_b33719_c20180501072349439701_noac_ops   \n",
       "4  SVDNB_npp_d20180501_t0123507_e0129293_b33719_c20180501072930507231_noac_ops   \n",
       "\n",
       "          suffix                                   base_url      folder  \\\n",
       "0  rade9.co.json  https://globalnightlight.s3.amazonaws.com  npp_201805   \n",
       "1  rade9.co.json  https://globalnightlight.s3.amazonaws.com  npp_201805   \n",
       "2  rade9.co.json  https://globalnightlight.s3.amazonaws.com  npp_201805   \n",
       "3  rade9.co.json  https://globalnightlight.s3.amazonaws.com  npp_201805   \n",
       "4  rade9.co.json  https://globalnightlight.s3.amazonaws.com  npp_201805   \n",
       "\n",
       "  product_id start_date first_scantime end_scantime orbital_nbr  \\\n",
       "0  SVDNB_npp   20180501        0004098      0009502       33718   \n",
       "1  SVDNB_npp   20180501        0009514      0015318       33718   \n",
       "2  SVDNB_npp   20180501        0112274      0118078       33719   \n",
       "3  SVDNB_npp   20180501        0118090      0123494       33719   \n",
       "4  SVDNB_npp   20180501        0123507      0129293       33719   \n",
       "\n",
       "        create_datetime data_origin data_domain  \\\n",
       "0  20180501060951522600        noac         ops   \n",
       "1  20180501061532603366        noac         ops   \n",
       "2  20180501071808369542        noac         ops   \n",
       "3  20180501072349439701        noac         ops   \n",
       "4  20180501072930507231        noac         ops   \n",
       "\n",
       "                                            vflag_file  \\\n",
       "0  npp_d20180501_t0004098_e0009502_b33718.vflag.co.tif   \n",
       "1  npp_d20180501_t0009514_e0015318_b33718.vflag.co.tif   \n",
       "2  npp_d20180501_t0112274_e0118078_b33719.vflag.co.tif   \n",
       "3  npp_d20180501_t0118090_e0123494_b33719.vflag.co.tif   \n",
       "4  npp_d20180501_t0123507_e0129293_b33719.vflag.co.tif   \n",
       "\n",
       "                                                                                                 vflag_href  \n",
       "0  https://globalnightlight.s3.amazonaws.com/npp_201805/npp_d20180501_t0004098_e0009502_b33718.vflag.co.tif  \n",
       "1  https://globalnightlight.s3.amazonaws.com/npp_201805/npp_d20180501_t0009514_e0015318_b33718.vflag.co.tif  \n",
       "2  https://globalnightlight.s3.amazonaws.com/npp_201805/npp_d20180501_t0112274_e0118078_b33719.vflag.co.tif  \n",
       "3  https://globalnightlight.s3.amazonaws.com/npp_201805/npp_d20180501_t0118090_e0123494_b33719.vflag.co.tif  \n",
       "4  https://globalnightlight.s3.amazonaws.com/npp_201805/npp_d20180501_t0123507_e0129293_b33719.vflag.co.tif  "
      ]
     },
     "execution_count": null,
     "metadata": {},
     "output_type": "execute_result"
    }
   ],
   "source": [
    "items_df.head()"
   ]
  }
 ],
 "metadata": {
  "kernelspec": {
   "display_name": "Python 3 (ipykernel)",
   "language": "python",
   "name": "python3"
  }
 },
 "nbformat": 4,
 "nbformat_minor": 4
}
