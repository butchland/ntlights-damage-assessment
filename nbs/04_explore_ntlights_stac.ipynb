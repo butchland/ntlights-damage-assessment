{
 "cells": [
  {
   "cell_type": "code",
   "execution_count": null,
   "id": "5b85fd55-6b8a-4c1e-8a86-55262ee8d55f",
   "metadata": {},
   "outputs": [],
   "source": [
    "#| default_exp explore_ntlights_stac"
   ]
  },
  {
   "cell_type": "code",
   "execution_count": null,
   "id": "218f0e57-cb34-42fb-b75b-38bd0fff9d3c",
   "metadata": {},
   "outputs": [],
   "source": [
    "%reload_ext autoreload\n",
    "%autoreload 2"
   ]
  },
  {
   "cell_type": "code",
   "execution_count": null,
   "id": "4909d406-9437-4098-b049-bba9797b208a",
   "metadata": {},
   "outputs": [],
   "source": [
    "#| hide\n",
    "from nbdev.showdoc import *"
   ]
  },
  {
   "cell_type": "code",
   "execution_count": null,
   "id": "22eb40ba-f3fa-4951-a5a8-ccb2b9fe8532",
   "metadata": {},
   "outputs": [],
   "source": [
    "%matplotlib inline"
   ]
  },
  {
   "cell_type": "markdown",
   "id": "b94e6991-c41b-482d-ac77-cea23e6f269a",
   "metadata": {},
   "source": [
    "# Explore Ntlights STAC  \n",
    "\n",
    "> Get ntlights using sat-stac \n",
    "\n",
    "_Since the ntlights stac still uses the STAC 1.0.0.beta.2 version_"
   ]
  },
  {
   "cell_type": "code",
   "execution_count": null,
   "id": "78f4bdd8-8ff1-4d98-bc7f-452047ef97e5",
   "metadata": {},
   "outputs": [],
   "source": [
    "#| exporti\n",
    "\n",
    "VIIRS_LINK = 'https://globalnightlight.s3.amazonaws.com/VIIRS_npp_catalog.json'"
   ]
  },
  {
   "cell_type": "code",
   "execution_count": null,
   "id": "c959e082-2d08-4c4e-8ce9-548fa3b7b264",
   "metadata": {},
   "outputs": [],
   "source": [
    "#| exporti\n",
    "\n",
    "from satstac import Collection, Item\n",
    "from fastcore.all import *\n",
    "from urllib.parse import urlparse\n",
    "from pathlib import Path\n",
    "\n",
    "import pandas as pd\n",
    "import re"
   ]
  },
  {
   "cell_type": "code",
   "execution_count": null,
   "id": "ecf86437-8344-4b7c-94a1-b231310ea54b",
   "metadata": {},
   "outputs": [],
   "source": [
    "pd.set_option('display.max_columns', 500)\n",
    "pd.set_option('display.max_colwidth',120)"
   ]
  },
  {
   "cell_type": "markdown",
   "id": "ee777d90-cbda-4f68-83ef-c5f92b1d5f31",
   "metadata": {},
   "source": [
    "## Get kids from VIIRS npp catalog"
   ]
  },
  {
   "cell_type": "code",
   "execution_count": null,
   "id": "edc320cc-9752-45aa-b5cc-cffe7fe38081",
   "metadata": {},
   "outputs": [],
   "source": [
    "#| export\n",
    "\n",
    "def make_kids_df(link=None, rel='child'):\n",
    "    link = VIIRS_LINK if link is None else link\n",
    "    col = Collection.open(link)\n",
    "    links = L(col._data['links'])\n",
    "    kids = links.filter(lambda o: o['rel'] == rel)\n",
    "    kids_df = pd.DataFrame.from_records(kids)\n",
    "    return kids_df"
   ]
  },
  {
   "cell_type": "code",
   "execution_count": null,
   "id": "3f674ae8-02f5-4f2c-a8f7-52ac7bb8e580",
   "metadata": {},
   "outputs": [
    {
     "name": "stdout",
     "output_type": "stream",
     "text": [
      "CPU times: user 22.1 ms, sys: 1.12 ms, total: 23.2 ms\n",
      "Wall time: 1.47 s\n"
     ]
    }
   ],
   "source": [
    "%%time\n",
    "kids_df = make_kids_df()"
   ]
  },
  {
   "cell_type": "code",
   "execution_count": null,
   "id": "8c9d28d2-3411-4934-888b-8d94a0f15996",
   "metadata": {},
   "outputs": [
    {
     "data": {
      "text/html": [
       "<div>\n",
       "<style scoped>\n",
       "    .dataframe tbody tr th:only-of-type {\n",
       "        vertical-align: middle;\n",
       "    }\n",
       "\n",
       "    .dataframe tbody tr th {\n",
       "        vertical-align: top;\n",
       "    }\n",
       "\n",
       "    .dataframe thead th {\n",
       "        text-align: right;\n",
       "    }\n",
       "</style>\n",
       "<table border=\"1\" class=\"dataframe\">\n",
       "  <thead>\n",
       "    <tr style=\"text-align: right;\">\n",
       "      <th></th>\n",
       "      <th>rel</th>\n",
       "      <th>href</th>\n",
       "      <th>type</th>\n",
       "    </tr>\n",
       "  </thead>\n",
       "  <tbody>\n",
       "    <tr>\n",
       "      <th>0</th>\n",
       "      <td>child</td>\n",
       "      <td>https://globalnightlight.s3.amazonaws.com/201204/201204_catalog.json</td>\n",
       "      <td>application/json</td>\n",
       "    </tr>\n",
       "    <tr>\n",
       "      <th>1</th>\n",
       "      <td>child</td>\n",
       "      <td>https://globalnightlight.s3.amazonaws.com/201205/201205_catalog.json</td>\n",
       "      <td>application/json</td>\n",
       "    </tr>\n",
       "    <tr>\n",
       "      <th>2</th>\n",
       "      <td>child</td>\n",
       "      <td>https://globalnightlight.s3.amazonaws.com/201206/201206_catalog.json</td>\n",
       "      <td>application/json</td>\n",
       "    </tr>\n",
       "    <tr>\n",
       "      <th>3</th>\n",
       "      <td>child</td>\n",
       "      <td>https://globalnightlight.s3.amazonaws.com/201207/201207_catalog.json</td>\n",
       "      <td>application/json</td>\n",
       "    </tr>\n",
       "    <tr>\n",
       "      <th>4</th>\n",
       "      <td>child</td>\n",
       "      <td>https://globalnightlight.s3.amazonaws.com/201208/201208_catalog.json</td>\n",
       "      <td>application/json</td>\n",
       "    </tr>\n",
       "  </tbody>\n",
       "</table>\n",
       "</div>"
      ],
      "text/plain": [
       "     rel  \\\n",
       "0  child   \n",
       "1  child   \n",
       "2  child   \n",
       "3  child   \n",
       "4  child   \n",
       "\n",
       "                                                                   href  \\\n",
       "0  https://globalnightlight.s3.amazonaws.com/201204/201204_catalog.json   \n",
       "1  https://globalnightlight.s3.amazonaws.com/201205/201205_catalog.json   \n",
       "2  https://globalnightlight.s3.amazonaws.com/201206/201206_catalog.json   \n",
       "3  https://globalnightlight.s3.amazonaws.com/201207/201207_catalog.json   \n",
       "4  https://globalnightlight.s3.amazonaws.com/201208/201208_catalog.json   \n",
       "\n",
       "               type  \n",
       "0  application/json  \n",
       "1  application/json  \n",
       "2  application/json  \n",
       "3  application/json  \n",
       "4  application/json  "
      ]
     },
     "execution_count": null,
     "metadata": {},
     "output_type": "execute_result"
    }
   ],
   "source": [
    "kids_df.head()"
   ]
  },
  {
   "cell_type": "code",
   "execution_count": null,
   "id": "d670415d-26a6-4d97-805d-a9534d1bc455",
   "metadata": {},
   "outputs": [],
   "source": [
    "assert set(kids_df.columns.values) == set(['type','href','rel'])  "
   ]
  },
  {
   "cell_type": "code",
   "execution_count": null,
   "id": "c8613595-4c37-426e-b90c-a6c4194640d2",
   "metadata": {},
   "outputs": [],
   "source": [
    "assert set(kids_df.rel.unique()) == set(['child'])"
   ]
  },
  {
   "cell_type": "code",
   "execution_count": null,
   "id": "6367d3a0-7c92-4ec8-b265-d87f94fb5622",
   "metadata": {},
   "outputs": [],
   "source": [
    "#| export\n",
    "\n",
    "def parse_folder(href):\n",
    "    urlparts = urlparse(href)\n",
    "    urlpath = Path(urlparts.path)\n",
    "    return urlpath.parts[1]\n"
   ]
  },
  {
   "cell_type": "code",
   "execution_count": null,
   "id": "da4d3c41-b26b-49a1-9210-c1126d37ba4d",
   "metadata": {},
   "outputs": [],
   "source": [
    "assert parse_folder(kids_df.iloc[0].href) == '201204'\n",
    "assert parse_folder(kids_df.iloc[104].href) == 'npp_202012'"
   ]
  },
  {
   "cell_type": "code",
   "execution_count": null,
   "id": "86f34dd0-540e-4c06-a3d5-5eba93c612b1",
   "metadata": {},
   "outputs": [],
   "source": [
    "#| export\n",
    "\n",
    "def parse_yearmonth(folder):\n",
    "    return folder[4:] if folder.startswith('npp_') else folder"
   ]
  },
  {
   "cell_type": "code",
   "execution_count": null,
   "id": "74a3f453-fb1f-48f3-a159-eeab735f1f94",
   "metadata": {},
   "outputs": [],
   "source": [
    "assert parse_yearmonth('201204') == '201204'\n",
    "assert parse_yearmonth('npp_202012') == '202012'"
   ]
  },
  {
   "cell_type": "code",
   "execution_count": null,
   "id": "3b510dd4-64da-4ed2-bb52-36d33f34da85",
   "metadata": {},
   "outputs": [],
   "source": [
    "def parse_baseurl(href):\n",
    "    urlparts = urlparse(href)\n",
    "    return f'{urlparts.scheme}://{urlparts.netloc}'"
   ]
  },
  {
   "cell_type": "code",
   "execution_count": null,
   "id": "b7091264-dd04-41c4-8eaa-54a22d5726d8",
   "metadata": {},
   "outputs": [],
   "source": [
    "assert parse_baseurl(kids_df.iloc[0].href) == 'https://globalnightlight.s3.amazonaws.com'"
   ]
  },
  {
   "cell_type": "code",
   "execution_count": null,
   "id": "2156aa4c-b5e9-4c25-8899-82e20a4f212e",
   "metadata": {},
   "outputs": [],
   "source": [
    "#| export\n",
    "\n",
    "def transform_kids_df(kids_df):\n",
    "    kids_df.drop(columns=['rel','type'], inplace=True)\n",
    "    kids_df['folder'] = kids_df.href.apply(parse_folder)\n",
    "    kids_df['baseurl'] = kids_df.href.apply(parse_baseurl) \n",
    "    kids_df['yearmonth'] = kids_df.folder.apply(parse_yearmonth)\n",
    "    return kids_df"
   ]
  },
  {
   "cell_type": "code",
   "execution_count": null,
   "id": "905fb75a-57a6-428a-afc1-405daef69300",
   "metadata": {},
   "outputs": [],
   "source": [
    "kids_df = transform_kids_df(kids_df)"
   ]
  },
  {
   "cell_type": "code",
   "execution_count": null,
   "id": "5dd2c41e-4743-4aa1-aa06-0bc594e73a31",
   "metadata": {},
   "outputs": [
    {
     "data": {
      "text/html": [
       "<div>\n",
       "<style scoped>\n",
       "    .dataframe tbody tr th:only-of-type {\n",
       "        vertical-align: middle;\n",
       "    }\n",
       "\n",
       "    .dataframe tbody tr th {\n",
       "        vertical-align: top;\n",
       "    }\n",
       "\n",
       "    .dataframe thead th {\n",
       "        text-align: right;\n",
       "    }\n",
       "</style>\n",
       "<table border=\"1\" class=\"dataframe\">\n",
       "  <thead>\n",
       "    <tr style=\"text-align: right;\">\n",
       "      <th></th>\n",
       "      <th>href</th>\n",
       "      <th>folder</th>\n",
       "      <th>baseurl</th>\n",
       "      <th>yearmonth</th>\n",
       "    </tr>\n",
       "  </thead>\n",
       "  <tbody>\n",
       "    <tr>\n",
       "      <th>0</th>\n",
       "      <td>https://globalnightlight.s3.amazonaws.com/201204/201204_catalog.json</td>\n",
       "      <td>201204</td>\n",
       "      <td>https://globalnightlight.s3.amazonaws.com</td>\n",
       "      <td>201204</td>\n",
       "    </tr>\n",
       "    <tr>\n",
       "      <th>1</th>\n",
       "      <td>https://globalnightlight.s3.amazonaws.com/201205/201205_catalog.json</td>\n",
       "      <td>201205</td>\n",
       "      <td>https://globalnightlight.s3.amazonaws.com</td>\n",
       "      <td>201205</td>\n",
       "    </tr>\n",
       "    <tr>\n",
       "      <th>2</th>\n",
       "      <td>https://globalnightlight.s3.amazonaws.com/201206/201206_catalog.json</td>\n",
       "      <td>201206</td>\n",
       "      <td>https://globalnightlight.s3.amazonaws.com</td>\n",
       "      <td>201206</td>\n",
       "    </tr>\n",
       "    <tr>\n",
       "      <th>3</th>\n",
       "      <td>https://globalnightlight.s3.amazonaws.com/201207/201207_catalog.json</td>\n",
       "      <td>201207</td>\n",
       "      <td>https://globalnightlight.s3.amazonaws.com</td>\n",
       "      <td>201207</td>\n",
       "    </tr>\n",
       "    <tr>\n",
       "      <th>4</th>\n",
       "      <td>https://globalnightlight.s3.amazonaws.com/201208/201208_catalog.json</td>\n",
       "      <td>201208</td>\n",
       "      <td>https://globalnightlight.s3.amazonaws.com</td>\n",
       "      <td>201208</td>\n",
       "    </tr>\n",
       "  </tbody>\n",
       "</table>\n",
       "</div>"
      ],
      "text/plain": [
       "                                                                   href  \\\n",
       "0  https://globalnightlight.s3.amazonaws.com/201204/201204_catalog.json   \n",
       "1  https://globalnightlight.s3.amazonaws.com/201205/201205_catalog.json   \n",
       "2  https://globalnightlight.s3.amazonaws.com/201206/201206_catalog.json   \n",
       "3  https://globalnightlight.s3.amazonaws.com/201207/201207_catalog.json   \n",
       "4  https://globalnightlight.s3.amazonaws.com/201208/201208_catalog.json   \n",
       "\n",
       "   folder                                    baseurl yearmonth  \n",
       "0  201204  https://globalnightlight.s3.amazonaws.com    201204  \n",
       "1  201205  https://globalnightlight.s3.amazonaws.com    201205  \n",
       "2  201206  https://globalnightlight.s3.amazonaws.com    201206  \n",
       "3  201207  https://globalnightlight.s3.amazonaws.com    201207  \n",
       "4  201208  https://globalnightlight.s3.amazonaws.com    201208  "
      ]
     },
     "execution_count": null,
     "metadata": {},
     "output_type": "execute_result"
    }
   ],
   "source": [
    "kids_df.head()"
   ]
  },
  {
   "cell_type": "code",
   "execution_count": null,
   "id": "09d46bb1-f3ef-4751-915e-dd8204c398b3",
   "metadata": {},
   "outputs": [
    {
     "data": {
      "text/html": [
       "<div>\n",
       "<style scoped>\n",
       "    .dataframe tbody tr th:only-of-type {\n",
       "        vertical-align: middle;\n",
       "    }\n",
       "\n",
       "    .dataframe tbody tr th {\n",
       "        vertical-align: top;\n",
       "    }\n",
       "\n",
       "    .dataframe thead th {\n",
       "        text-align: right;\n",
       "    }\n",
       "</style>\n",
       "<table border=\"1\" class=\"dataframe\">\n",
       "  <thead>\n",
       "    <tr style=\"text-align: right;\">\n",
       "      <th></th>\n",
       "      <th>href</th>\n",
       "      <th>folder</th>\n",
       "      <th>baseurl</th>\n",
       "      <th>yearmonth</th>\n",
       "    </tr>\n",
       "  </thead>\n",
       "  <tbody>\n",
       "    <tr>\n",
       "      <th>100</th>\n",
       "      <td>https://globalnightlight.s3.amazonaws.com/npp_202008/npp_202008_catalog.json</td>\n",
       "      <td>npp_202008</td>\n",
       "      <td>https://globalnightlight.s3.amazonaws.com</td>\n",
       "      <td>202008</td>\n",
       "    </tr>\n",
       "    <tr>\n",
       "      <th>101</th>\n",
       "      <td>https://globalnightlight.s3.amazonaws.com/npp_202009/npp_202009_catalog.json</td>\n",
       "      <td>npp_202009</td>\n",
       "      <td>https://globalnightlight.s3.amazonaws.com</td>\n",
       "      <td>202009</td>\n",
       "    </tr>\n",
       "    <tr>\n",
       "      <th>102</th>\n",
       "      <td>https://globalnightlight.s3.amazonaws.com/npp_202010/npp_202010_catalog.json</td>\n",
       "      <td>npp_202010</td>\n",
       "      <td>https://globalnightlight.s3.amazonaws.com</td>\n",
       "      <td>202010</td>\n",
       "    </tr>\n",
       "    <tr>\n",
       "      <th>103</th>\n",
       "      <td>https://globalnightlight.s3.amazonaws.com/npp_202011/npp_202011_catalog.json</td>\n",
       "      <td>npp_202011</td>\n",
       "      <td>https://globalnightlight.s3.amazonaws.com</td>\n",
       "      <td>202011</td>\n",
       "    </tr>\n",
       "    <tr>\n",
       "      <th>104</th>\n",
       "      <td>https://globalnightlight.s3.amazonaws.com/npp_202012/npp_202012_catalog.json</td>\n",
       "      <td>npp_202012</td>\n",
       "      <td>https://globalnightlight.s3.amazonaws.com</td>\n",
       "      <td>202012</td>\n",
       "    </tr>\n",
       "  </tbody>\n",
       "</table>\n",
       "</div>"
      ],
      "text/plain": [
       "                                                                             href  \\\n",
       "100  https://globalnightlight.s3.amazonaws.com/npp_202008/npp_202008_catalog.json   \n",
       "101  https://globalnightlight.s3.amazonaws.com/npp_202009/npp_202009_catalog.json   \n",
       "102  https://globalnightlight.s3.amazonaws.com/npp_202010/npp_202010_catalog.json   \n",
       "103  https://globalnightlight.s3.amazonaws.com/npp_202011/npp_202011_catalog.json   \n",
       "104  https://globalnightlight.s3.amazonaws.com/npp_202012/npp_202012_catalog.json   \n",
       "\n",
       "         folder                                    baseurl yearmonth  \n",
       "100  npp_202008  https://globalnightlight.s3.amazonaws.com    202008  \n",
       "101  npp_202009  https://globalnightlight.s3.amazonaws.com    202009  \n",
       "102  npp_202010  https://globalnightlight.s3.amazonaws.com    202010  \n",
       "103  npp_202011  https://globalnightlight.s3.amazonaws.com    202011  \n",
       "104  npp_202012  https://globalnightlight.s3.amazonaws.com    202012  "
      ]
     },
     "execution_count": null,
     "metadata": {},
     "output_type": "execute_result"
    }
   ],
   "source": [
    "kids_df.tail()"
   ]
  },
  {
   "cell_type": "markdown",
   "id": "08891f45-a023-4066-b6ab-543871f1073b",
   "metadata": {},
   "source": [
    "## Get Kid from Sept 2018 (Month of 'Mangkhut'/'Ompong' typhoon)"
   ]
  },
  {
   "cell_type": "code",
   "execution_count": null,
   "id": "7f67c127-bef8-499f-a920-d583630a965a",
   "metadata": {},
   "outputs": [
    {
     "data": {
      "text/html": [
       "<div>\n",
       "<style scoped>\n",
       "    .dataframe tbody tr th:only-of-type {\n",
       "        vertical-align: middle;\n",
       "    }\n",
       "\n",
       "    .dataframe tbody tr th {\n",
       "        vertical-align: top;\n",
       "    }\n",
       "\n",
       "    .dataframe thead th {\n",
       "        text-align: right;\n",
       "    }\n",
       "</style>\n",
       "<table border=\"1\" class=\"dataframe\">\n",
       "  <thead>\n",
       "    <tr style=\"text-align: right;\">\n",
       "      <th></th>\n",
       "      <th>href</th>\n",
       "      <th>folder</th>\n",
       "      <th>baseurl</th>\n",
       "      <th>yearmonth</th>\n",
       "    </tr>\n",
       "  </thead>\n",
       "  <tbody>\n",
       "    <tr>\n",
       "      <th>77</th>\n",
       "      <td>https://globalnightlight.s3.amazonaws.com/npp_201809/npp_201809_catalog.json</td>\n",
       "      <td>npp_201809</td>\n",
       "      <td>https://globalnightlight.s3.amazonaws.com</td>\n",
       "      <td>201809</td>\n",
       "    </tr>\n",
       "  </tbody>\n",
       "</table>\n",
       "</div>"
      ],
      "text/plain": [
       "                                                                            href  \\\n",
       "77  https://globalnightlight.s3.amazonaws.com/npp_201809/npp_201809_catalog.json   \n",
       "\n",
       "        folder                                    baseurl yearmonth  \n",
       "77  npp_201809  https://globalnightlight.s3.amazonaws.com    201809  "
      ]
     },
     "execution_count": null,
     "metadata": {},
     "output_type": "execute_result"
    }
   ],
   "source": [
    "kid201809 = kids_df[kids_df.yearmonth == '201809'];kid201809"
   ]
  },
  {
   "cell_type": "code",
   "execution_count": null,
   "id": "13b786f8-a132-4192-b356-2bd7b3f2c256",
   "metadata": {},
   "outputs": [
    {
     "name": "stdout",
     "output_type": "stream",
     "text": [
      "CPU times: user 58.5 ms, sys: 26 ms, total: 84.5 ms\n",
      "Wall time: 3.24 s\n"
     ]
    }
   ],
   "source": [
    "%%time\n",
    "gkids1809 = make_kids_df(kid201809.iloc[0].href, rel='item')"
   ]
  },
  {
   "cell_type": "code",
   "execution_count": null,
   "id": "21e39b24-3b24-4736-a0f1-858f07b8ca75",
   "metadata": {},
   "outputs": [],
   "source": [
    "def get_item_href(href,folder, baseurl):\n",
    "    return f'{baseurl}/{folder}{href[1:]}'"
   ]
  },
  {
   "cell_type": "code",
   "execution_count": null,
   "id": "d3bee4c3-d9cc-4c44-8820-753fe36df36e",
   "metadata": {},
   "outputs": [],
   "source": [
    "assert get_item_href(gkids1809.iloc[0].href, kid201809.iloc[0].folder, kid201809.iloc[0].baseurl) == 'https://globalnightlight.s3.amazonaws.com/npp_201809/SVDNB_npp_d20180901_t0002302_e0008088_b35463_c20180901040811139620_nobc_ops.rade9.co.json'"
   ]
  },
  {
   "cell_type": "code",
   "execution_count": null,
   "id": "3c9ac34d-5e25-4585-bb82-f6cc647f97fe",
   "metadata": {},
   "outputs": [],
   "source": [
    "def split_href_type(href, first=True):\n",
    "    parts = href[2:].split('.')\n",
    "    return parts[0] if first else '.'.join(parts[1:])\n",
    "    "
   ]
  },
  {
   "cell_type": "code",
   "execution_count": null,
   "id": "791ceb65-2626-42fb-9bf2-d70bf3a0f7e3",
   "metadata": {},
   "outputs": [],
   "source": [
    "#| export\n",
    "def transform_items_df(items_df, folder, baseurl):\n",
    "    items_df.drop(columns=['rel','type'], inplace=True)\n",
    "    items_df['item_href'] = items_df.href.apply(get_item_href, folder=folder, baseurl=baseurl)\n",
    "    items_df['stem'] = items_df.href.apply(split_href_type)\n",
    "    items_df['suffix'] = items_df.href.apply(split_href_type,first=False)\n",
    "    return items_df"
   ]
  },
  {
   "cell_type": "code",
   "execution_count": null,
   "id": "9bc4ac7d-6a89-4c13-bead-7579a8201522",
   "metadata": {},
   "outputs": [],
   "source": [
    "PAT = r'(.*[^_]+)_d([^_]*)_t([^_]*)_e([^_]*)_b([^_]*)_c([^_]*)_([^_]*)_(.*)$'\n"
   ]
  },
  {
   "cell_type": "code",
   "execution_count": null,
   "id": "2e9ac173-d56c-4ed0-89a7-28840a779967",
   "metadata": {},
   "outputs": [],
   "source": [
    "matcher = re.match(PAT,gkids1809.iloc[0].stem)"
   ]
  },
  {
   "cell_type": "code",
   "execution_count": null,
   "id": "78fbf8de-34f9-4c13-a02d-60b62a1f2640",
   "metadata": {},
   "outputs": [
    {
     "data": {
      "text/plain": [
       "('SVDNB_npp',\n",
       " '20180901',\n",
       " '0002302',\n",
       " '0008088',\n",
       " '35463',\n",
       " '20180901040811139620',\n",
       " 'nobc',\n",
       " 'ops')"
      ]
     },
     "execution_count": null,
     "metadata": {},
     "output_type": "execute_result"
    }
   ],
   "source": [
    "matcher.groups()"
   ]
  },
  {
   "cell_type": "code",
   "execution_count": null,
   "id": "5a49588e-438a-47f5-a9e0-a77b46639482",
   "metadata": {},
   "outputs": [],
   "source": [
    "gkids1809 = transform_items_df(gkids1809, kid201809.iloc[0].folder, kid201809.iloc[0].baseurl)"
   ]
  },
  {
   "cell_type": "code",
   "execution_count": null,
   "id": "5d47cb78-c2e8-494a-be98-0415bd66b569",
   "metadata": {},
   "outputs": [],
   "source": [
    "def find_stem_components(stem):\n",
    "    matcher = re.match(PAT, stem)\n",
    "    if matcher is not None:\n",
    "        results = list(matcher.groups())\n",
    "    else: \n",
    "        results = []\n",
    "    if len(results) < 8:\n",
    "        results = groups +  [''] * (8 - len(groups))\n",
    "    return results[:8]\n",
    "        "
   ]
  },
  {
   "cell_type": "code",
   "execution_count": null,
   "id": "52536ded-ad32-4a4d-b5ce-ff3b0f7ec9d8",
   "metadata": {},
   "outputs": [
    {
     "data": {
      "text/plain": [
       "['SVDNB_npp',\n",
       " '20180901',\n",
       " '0002302',\n",
       " '0008088',\n",
       " '35463',\n",
       " '20180901040811139620',\n",
       " 'nobc',\n",
       " 'ops']"
      ]
     },
     "execution_count": null,
     "metadata": {},
     "output_type": "execute_result"
    }
   ],
   "source": [
    "find_stem_components(gkids1809.iloc[0].stem)"
   ]
  },
  {
   "cell_type": "code",
   "execution_count": null,
   "id": "c6f4a649-9e72-4289-af60-f5866aa33d61",
   "metadata": {},
   "outputs": [],
   "source": [
    "link = kid201809.iloc[0].href"
   ]
  },
  {
   "cell_type": "code",
   "execution_count": null,
   "id": "23f71a08-6d3c-49cf-9102-c47a740c122c",
   "metadata": {},
   "outputs": [],
   "source": [
    "link = VIIRS_LINK if link is None else link"
   ]
  },
  {
   "cell_type": "code",
   "execution_count": null,
   "id": "eb183850-b813-4447-8db9-bcc29f93d597",
   "metadata": {},
   "outputs": [],
   "source": [
    "%%time\n",
    "col = Collection.open(link)"
   ]
  },
  {
   "cell_type": "code",
   "execution_count": null,
   "id": "6e512f5c-482b-4827-bd73-38c369e98df0",
   "metadata": {},
   "outputs": [],
   "source": [
    "links = L(col._data['links'])\n",
    "kids = links.filter(lambda o: o['rel'] == 'child')\n",
    "kids_df = pd.DataFrame.from_records(kids)"
   ]
  }
 ],
 "metadata": {
  "kernelspec": {
   "display_name": "Python 3 (ipykernel)",
   "language": "python",
   "name": "python3"
  }
 },
 "nbformat": 4,
 "nbformat_minor": 5
}
