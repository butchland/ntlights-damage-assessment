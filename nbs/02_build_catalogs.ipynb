{
 "cells": [
  {
   "cell_type": "code",
   "execution_count": null,
   "metadata": {},
   "outputs": [],
   "source": [
    "#|default_exp build_catalogs"
   ]
  },
  {
   "cell_type": "markdown",
   "metadata": {},
   "source": [
    "# Build Catalogs\n",
    "\n",
    "> create monthly and catalog tables"
   ]
  },
  {
   "cell_type": "code",
   "execution_count": null,
   "metadata": {},
   "outputs": [],
   "source": [
    "#| eval: false\n",
    "#| hide\n",
    "%reload_ext autoreload\n",
    "%autoreload 2\n",
    "%matplotlib inline"
   ]
  },
  {
   "cell_type": "code",
   "execution_count": null,
   "metadata": {},
   "outputs": [],
   "source": [
    "#| hide\n",
    "from nbdev.showdoc import *"
   ]
  },
  {
   "cell_type": "code",
   "execution_count": null,
   "metadata": {},
   "outputs": [],
   "source": [
    "#| export\n",
    "\n",
    "import requests\n",
    "import json\n",
    "from fastcore.all import L\n",
    "import pandas as pd\n",
    "from typing import Any\n",
    "from urllib.parse import urlparse\n",
    "from pathlib import Path\n",
    "import numpy as np\n",
    "import re\n",
    "from shapely.geometry import Polygon, box\n",
    "import geopandas as gpd\n",
    "import sqlite3 as sql3\n",
    "from pandas.io import sql \n",
    "import sqlalchemy as sqalc"
   ]
  },
  {
   "cell_type": "code",
   "execution_count": null,
   "metadata": {},
   "outputs": [],
   "source": [
    "#| export\n",
    "from ntlights_damage_assessment.catalogs import *\n",
    "from ntlights_damage_assessment.items import *"
   ]
  },
  {
   "cell_type": "code",
   "execution_count": null,
   "metadata": {},
   "outputs": [],
   "source": [
    "#| hide\n",
    "import matplotlib.pyplot as plt"
   ]
  },
  {
   "cell_type": "code",
   "execution_count": null,
   "metadata": {},
   "outputs": [],
   "source": [
    "#| hide\n",
    "pd.set_option('display.max_columns', 500)\n",
    "pd.set_option('display.max_colwidth',120)"
   ]
  },
  {
   "cell_type": "code",
   "execution_count": null,
   "metadata": {},
   "outputs": [],
   "source": [
    "#| export\n",
    "DATA_DB_DIR = '../data/sqlite'\n",
    "DB = f'{DATA_DB_DIR}/db.db'"
   ]
  },
  {
   "cell_type": "code",
   "execution_count": null,
   "metadata": {},
   "outputs": [],
   "source": [
    "#| hide\n",
    "#| eval: false\n",
    "!mkdir -p ../data/sqlite"
   ]
  },
  {
   "cell_type": "code",
   "execution_count": null,
   "metadata": {},
   "outputs": [],
   "source": [
    "# %%time\n",
    "# #| eval: false\n",
    "# catalogs = get_item_catalogs()\n",
    "# conn = sql3.connect(DB)\n",
    "# conn.executescript('drop table if exists catalog_items;');\n",
    "# i = 0\n",
    "# monthly = catalogs.iloc[i]\n",
    "# href, folder, baseurl = monthly.href, monthly.folder, monthly.baseurl\n",
    "# %%time\n",
    "# items = get_monthly_items(href, folder, baseurl)\n",
    "# %%time\n",
    "# count = items.to_sql('catalog_items', conn, if_exists='append', index=False, method='multi')\n",
    "# print(f'rows added: {count}')\n",
    "         "
   ]
  },
  {
   "cell_type": "code",
   "execution_count": null,
   "metadata": {},
   "outputs": [],
   "source": [
    "#| export\n",
    "def build_item_catalogs(catalogs, conn, show=False):\n",
    "    for i in range(len(catalogs)):\n",
    "        monthly = catalogs.iloc[i]\n",
    "        href, folder, baseurl = monthly.href, monthly.folder, monthly.baseurl\n",
    "        items = get_monthly_items(href, folder, baseurl)\n",
    "        count = items.to_sql('catalog_items', conn, index=False, if_exists='append', method='multi')\n",
    "        if show: print(f'{i} rows added: {count}')\n",
    "         "
   ]
  },
  {
   "cell_type": "code",
   "execution_count": null,
   "metadata": {},
   "outputs": [],
   "source": [
    "create_catalog_items_sql = '''\n",
    "CREATE TABLE IF NOT EXISTS \"catalog_items\" (                                                                                \n",
    "  \"href\" TEXT,                                                                                                                 \n",
    "  \"base_url\" TEXT,\n",
    "  \"folder\" TEXT,\n",
    "  \"product_id\" TEXT,\n",
    "  \"start_date\" TEXT,\n",
    "  \"first_scantime\" TEXT,\n",
    "  \"end_scantime\" TEXT,\n",
    "  \"orbital_nbr\" TEXT,\n",
    "  \"create_datetime\" TEXT,\n",
    "  \"data_origin\" TEXT,\n",
    "  \"data_domain\" TEXT,\n",
    "  \"vflag_file\" TEXT,\n",
    "  \"vflag_href\" TEXT\n",
    ");\n",
    "'''"
   ]
  },
  {
   "cell_type": "code",
   "execution_count": null,
   "metadata": {},
   "outputs": [],
   "source": [
    "#| export\n",
    "index_on_stem = '''\n",
    "  create index stem_index on catalog_items(stem);\n",
    "'''"
   ]
  },
  {
   "cell_type": "code",
   "execution_count": null,
   "metadata": {},
   "outputs": [],
   "source": [
    "#| export\n",
    "def refresh_item_catalogs(limit=None, verbose=False):\n",
    "    catalogs = get_item_catalogs()\n",
    "    conn = sql3.connect(DB)\n",
    "    conn.executescript('drop table if exists catalog_items;')\n",
    "    if limit is not None:\n",
    "        catalogs = catalogs.iloc[:limit]\n",
    "    build_item_catalogs(catalogs,conn,show=verbose)\n",
    "    cursor = conn.cursor()\n",
    "    cursor.execute(index_on_stem)\n",
    "    \n",
    "    conn.close()"
   ]
  },
  {
   "cell_type": "code",
   "execution_count": null,
   "metadata": {},
   "outputs": [
    {
     "name": "stdout",
     "output_type": "stream",
     "text": [
      "0 rows added: 3645\n",
      "1 rows added: 3557\n",
      "2 rows added: 3432\n",
      "3 rows added: 3620\n",
      "4 rows added: 3861\n",
      "5 rows added: 3867\n",
      "6 rows added: 4017\n",
      "7 rows added: 3712\n",
      "8 rows added: 3714\n",
      "9 rows added: 3786\n",
      "10 rows added: 3574\n",
      "11 rows added: 4029\n",
      "12 rows added: 3757\n",
      "13 rows added: 3671\n",
      "14 rows added: 3465\n",
      "15 rows added: 3621\n",
      "16 rows added: 3798\n",
      "17 rows added: 3886\n",
      "18 rows added: 4023\n",
      "19 rows added: 3744\n",
      "20 rows added: 3751\n",
      "21 rows added: 3788\n",
      "22 rows added: 3534\n",
      "23 rows added: 3997\n",
      "24 rows added: 3764\n",
      "25 rows added: 3992\n",
      "26 rows added: 3458\n",
      "27 rows added: 3620\n",
      "28 rows added: 3775\n",
      "29 rows added: 3884\n",
      "30 rows added: 3938\n",
      "31 rows added: 3905\n",
      "32 rows added: 3745\n",
      "33 rows added: 4033\n",
      "34 rows added: 3641\n",
      "35 rows added: 4035\n",
      "36 rows added: 3902\n",
      "37 rows added: 4033\n",
      "38 rows added: 3490\n",
      "39 rows added: 3625\n",
      "40 rows added: 4033\n",
      "41 rows added: 3881\n",
      "42 rows added: 4026\n",
      "43 rows added: 3754\n",
      "44 rows added: 3721\n",
      "45 rows added: 3780\n",
      "46 rows added: 3556\n",
      "47 rows added: 3988\n",
      "48 rows added: 3758\n",
      "49 rows added: 3666\n",
      "50 rows added: 3460\n",
      "51 rows added: 3625\n",
      "52 rows added: 3782\n",
      "53 rows added: 3875\n",
      "54 rows added: 4019\n",
      "55 rows added: 3753\n",
      "56 rows added: 3724\n",
      "57 rows added: 3786\n",
      "58 rows added: 3576\n",
      "59 rows added: 4029\n",
      "60 rows added: 2660\n",
      "61 rows added: 3690\n",
      "62 rows added: 3459\n",
      "63 rows added: 3623\n",
      "64 rows added: 3791\n",
      "65 rows added: 3829\n",
      "66 rows added: 4025\n",
      "67 rows added: 3740\n",
      "68 rows added: 3748\n",
      "69 rows added: 3883\n",
      "70 rows added: 3653\n",
      "71 rows added: 4153\n",
      "72 rows added: 3801\n",
      "73 rows added: 3600\n",
      "74 rows added: 3502\n",
      "75 rows added: 3662\n",
      "76 rows added: 3840\n",
      "77 rows added: 3949\n",
      "78 rows added: 4140\n",
      "79 rows added: 3784\n",
      "80 rows added: 3783\n",
      "81 rows added: 3775\n",
      "82 rows added: 3611\n",
      "83 rows added: 4137\n",
      "84 rows added: 3805\n",
      "85 rows added: 3712\n",
      "86 rows added: 3502\n",
      "87 rows added: 3660\n",
      "88 rows added: 3839\n",
      "89 rows added: 3959\n",
      "90 rows added: 4116\n",
      "91 rows added: 3785\n",
      "92 rows added: 3792\n",
      "93 rows added: 3818\n",
      "94 rows added: 3735\n",
      "95 rows added: 4151\n",
      "96 rows added: 3762\n",
      "97 rows added: 3666\n",
      "98 rows added: 3495\n",
      "99 rows added: 3665\n",
      "100 rows added: 3827\n",
      "101 rows added: 3960\n",
      "102 rows added: 4129\n",
      "103 rows added: 3786\n",
      "104 rows added: 3779\n",
      "CPU times: user 26.5 s, sys: 2.85 s, total: 29.3 s\n",
      "Wall time: 5min 40s\n"
     ]
    }
   ],
   "source": [
    "%%time\n",
    "#| eval: false\n",
    "#| hide\n",
    "refresh_item_catalogs(verbose=True)"
   ]
  },
  {
   "cell_type": "code",
   "execution_count": null,
   "metadata": {},
   "outputs": [],
   "source": []
  }
 ],
 "metadata": {
  "kernelspec": {
   "display_name": "Python 3 (ipykernel)",
   "language": "python",
   "name": "python3"
  }
 },
 "nbformat": 4,
 "nbformat_minor": 4
}
