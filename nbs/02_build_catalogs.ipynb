{
 "cells": [
  {
   "cell_type": "code",
   "execution_count": null,
   "metadata": {},
   "outputs": [],
   "source": [
    "#|default_exp build_catalogs"
   ]
  },
  {
   "cell_type": "markdown",
   "metadata": {},
   "source": [
    "# Build Catalogs\n",
    "\n",
    "> create monthly and catalog tables"
   ]
  },
  {
   "cell_type": "code",
   "execution_count": null,
   "metadata": {},
   "outputs": [],
   "source": [
    "#| eval: false\n",
    "#| hide\n",
    "%reload_ext autoreload\n",
    "%autoreload 2\n",
    "%matplotlib inline"
   ]
  },
  {
   "cell_type": "code",
   "execution_count": null,
   "metadata": {},
   "outputs": [],
   "source": [
    "#| hide\n",
    "from nbdev.showdoc import *"
   ]
  },
  {
   "cell_type": "code",
   "execution_count": null,
   "metadata": {},
   "outputs": [],
   "source": [
    "#| export\n",
    "\n",
    "import requests\n",
    "import json\n",
    "from fastcore.all import L\n",
    "import pandas as pd\n",
    "from typing import Any\n",
    "from urllib.parse import urlparse\n",
    "from pathlib import Path\n",
    "import numpy as np\n",
    "import re\n",
    "from shapely.geometry import Polygon, box\n",
    "import geopandas as gpd\n",
    "import sqlite3 as sql3\n",
    "from pandas.io import sql \n",
    "import sqlalchemy as sqalc"
   ]
  },
  {
   "cell_type": "code",
   "execution_count": null,
   "metadata": {},
   "outputs": [],
   "source": [
    "#| export\n",
    "from ntlights_damage_assessment.catalogs import *\n",
    "from ntlights_damage_assessment.items import *"
   ]
  },
  {
   "cell_type": "code",
   "execution_count": null,
   "metadata": {},
   "outputs": [],
   "source": [
    "#| hide\n",
    "import matplotlib.pyplot as plt"
   ]
  },
  {
   "cell_type": "code",
   "execution_count": null,
   "metadata": {},
   "outputs": [],
   "source": [
    "#| hide\n",
    "pd.set_option('display.max_columns', 500)\n",
    "pd.set_option('display.max_colwidth',120)"
   ]
  },
  {
   "cell_type": "code",
   "execution_count": null,
   "metadata": {},
   "outputs": [],
   "source": [
    "#| export\n",
    "DATA_DB_DIR = '../data/sqlite'\n",
    "DB = f'{DATA_DB_DIR}/db.db'"
   ]
  },
  {
   "cell_type": "code",
   "execution_count": null,
   "metadata": {},
   "outputs": [],
   "source": [
    "#| hide\n",
    "#| eval: false\n",
    "!mkdir -p ../data/sqlite"
   ]
  },
  {
   "cell_type": "code",
   "execution_count": null,
   "metadata": {},
   "outputs": [],
   "source": [
    "# %%time\n",
    "# #| eval: false\n",
    "# catalogs = get_item_catalogs()\n",
    "# conn = sql3.connect(DB)\n",
    "# conn.executescript('drop table if exists catalog_items;');\n",
    "# i = 0\n",
    "# monthly = catalogs.iloc[i]\n",
    "# href, folder, baseurl = monthly.href, monthly.folder, monthly.baseurl\n",
    "# %%time\n",
    "# items = get_monthly_items(href, folder, baseurl)\n",
    "# %%time\n",
    "# count = items.to_sql('catalog_items', conn, if_exists='append', index=False, method='multi')\n",
    "# print(f'rows added: {count}')\n",
    "         "
   ]
  },
  {
   "cell_type": "code",
   "execution_count": null,
   "metadata": {},
   "outputs": [],
   "source": [
    "#| export\n",
    "def build_item_catalogs(catalogs, conn, show=False):\n",
    "    for i in range(len(catalogs)):\n",
    "        monthly = catalogs.iloc[i]\n",
    "        href, folder, baseurl = monthly.href, monthly.folder, monthly.baseurl\n",
    "        items = get_monthly_items(href, folder, baseurl)\n",
    "        count = items.to_sql('catalog_items', conn, index=False, if_exists='append', method='multi')\n",
    "        if show: print(f'{i} rows added: {count}')\n",
    "         "
   ]
  },
  {
   "cell_type": "code",
   "execution_count": null,
   "metadata": {},
   "outputs": [],
   "source": [
    "create_catalog_items_sql = '''\n",
    "CREATE TABLE IF NOT EXISTS \"catalog_items\" (                                                                                \n",
    "  \"href\" TEXT,                                                                                                                 \n",
    "  \"base_url\" TEXT,\n",
    "  \"folder\" TEXT,\n",
    "  \"product_id\" TEXT,\n",
    "  \"start_date\" TEXT,\n",
    "  \"first_scantime\" TEXT,\n",
    "  \"end_scantime\" TEXT,\n",
    "  \"orbital_nbr\" TEXT,\n",
    "  \"create_datetime\" TEXT,\n",
    "  \"data_origin\" TEXT,\n",
    "  \"data_domain\" TEXT,\n",
    "  \"vflag_file\" TEXT,\n",
    "  \"vflag_href\" TEXT\n",
    ");\n",
    "'''"
   ]
  },
  {
   "cell_type": "code",
   "execution_count": null,
   "metadata": {},
   "outputs": [],
   "source": [
    "#| export\n",
    "index_on_stem = '''\n",
    "  create index stem_index on catalog_items(stem);\n",
    "'''"
   ]
  },
  {
   "cell_type": "code",
   "execution_count": null,
   "metadata": {},
   "outputs": [],
   "source": [
    "#| export\n",
    "def refresh_item_catalogs(limit=None, verbose=False):\n",
    "    catalogs = get_item_catalogs()\n",
    "    conn = sql3.connect(DB)\n",
    "    conn.executescript('drop table if exists catalog_items;')\n",
    "    if limit is not None:\n",
    "        catalogs = catalogs.iloc[:limit]\n",
    "    build_item_catalogs(catalogs,conn,show=verbose)\n",
    "    cursor = conn.cursor()\n",
    "    cursor.execute(index_on_stem)\n",
    "    \n",
    "    conn.close()"
   ]
  },
  {
   "cell_type": "code",
   "execution_count": null,
   "metadata": {},
   "outputs": [
    {
     "name": "stdout",
     "output_type": "stream",
     "text": [
      "0 rows added: 3645\n",
      "1 rows added: 3557\n",
      "CPU times: user 542 ms, sys: 42.6 ms, total: 585 ms\n",
      "Wall time: 7.32 s\n"
     ]
    }
   ],
   "source": [
    "%%time\n",
    "#| eval: false\n",
    "#| hide\n",
    "refresh_item_catalogs(limit=2,verbose=True)"
   ]
  },
  {
   "cell_type": "code",
   "execution_count": null,
   "metadata": {},
   "outputs": [],
   "source": []
  }
 ],
 "metadata": {
  "kernelspec": {
   "display_name": "Python 3 (ipykernel)",
   "language": "python",
   "name": "python3"
  }
 },
 "nbformat": 4,
 "nbformat_minor": 4
}
