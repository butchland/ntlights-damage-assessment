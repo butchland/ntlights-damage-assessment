{
 "cells": [
  {
   "cell_type": "code",
   "execution_count": null,
   "metadata": {},
   "outputs": [],
   "source": [
    "#|default_exp eval_overlap"
   ]
  },
  {
   "cell_type": "markdown",
   "metadata": {},
   "source": [
    "# Evaluate Overlaps\n",
    "\n",
    "> Routines to check overlaps between nightlight scans and aoi"
   ]
  },
  {
   "cell_type": "code",
   "execution_count": null,
   "metadata": {},
   "outputs": [],
   "source": [
    "#| eval: false\n",
    "#| hide\n",
    "%reload_ext autoreload\n",
    "%autoreload 2\n",
    "%matplotlib inline"
   ]
  },
  {
   "cell_type": "code",
   "execution_count": null,
   "metadata": {},
   "outputs": [],
   "source": [
    "#| hide\n",
    "from nbdev.showdoc import *"
   ]
  },
  {
   "cell_type": "code",
   "execution_count": null,
   "metadata": {},
   "outputs": [],
   "source": [
    "#| export\n",
    "\n",
    "import requests\n",
    "import json\n",
    "from fastcore.all import L\n",
    "import pandas as pd\n",
    "from typing import Any\n",
    "from urllib.parse import urlparse\n",
    "from pathlib import Path\n",
    "import numpy as np\n",
    "import re\n",
    "from shapely.geometry import Polygon, box\n",
    "from shapely import wkt\n",
    "import geopandas as gpd\n",
    "import sqlite3 as sql3\n",
    "from pandas.io import sql \n",
    "import sqlalchemy as sqalc\n",
    "import geowrangler.area_zonal_stats as azs"
   ]
  },
  {
   "cell_type": "code",
   "execution_count": null,
   "metadata": {},
   "outputs": [],
   "source": [
    "#| exporti\n",
    "from ntlights_damage_assessment.fetch_coords import search_dates_aoi "
   ]
  },
  {
   "cell_type": "code",
   "execution_count": null,
   "metadata": {},
   "outputs": [],
   "source": [
    "#| hide\n",
    "import matplotlib.pyplot as plt"
   ]
  },
  {
   "cell_type": "code",
   "execution_count": null,
   "metadata": {},
   "outputs": [],
   "source": [
    "#| eval: false\n",
    "aoi = gpd.read_file('../data/admin_areas/ph_admin_bbox_wgs84.geojson')\n",
    "aoi_planar = aoi.to_crs('EPSG:3857')\n",
    "aoi_planar['bound_area'] = aoi_planar.geometry.area"
   ]
  },
  {
   "cell_type": "code",
   "execution_count": null,
   "metadata": {},
   "outputs": [
    {
     "name": "stdout",
     "output_type": "stream",
     "text": [
      "CPU times: user 866 ms, sys: 613 ms, total: 1.48 s\n",
      "Wall time: 10.2 s\n"
     ]
    }
   ],
   "source": [
    "%%time\n",
    "#| eval: false\n",
    "phl_matched20180501 = search_dates_aoi(aoi, date_param='20180501')"
   ]
  },
  {
   "cell_type": "code",
   "execution_count": null,
   "metadata": {},
   "outputs": [],
   "source": [
    "#| eval: false\n",
    "phl_matched_planar = phl_matched20180501.to_crs('EPSG:3857')\n",
    "phl_matched_planar['section_area'] = phl_matched_planar.geometry.area"
   ]
  },
  {
   "cell_type": "code",
   "execution_count": null,
   "metadata": {},
   "outputs": [
    {
     "name": "stdout",
     "output_type": "stream",
     "text": [
      "CPU times: user 48.9 ms, sys: 0 ns, total: 48.9 ms\n",
      "Wall time: 49.2 ms\n"
     ]
    }
   ],
   "source": [
    "%%time\n",
    "#| eval: false\n",
    "results = azs.create_area_zonal_stats(phl_matched_planar, aoi_planar, aggregations=[])"
   ]
  },
  {
   "cell_type": "code",
   "execution_count": null,
   "metadata": {},
   "outputs": [
    {
     "data": {
      "text/html": [
       "<div>\n",
       "<style scoped>\n",
       "    .dataframe tbody tr th:only-of-type {\n",
       "        vertical-align: middle;\n",
       "    }\n",
       "\n",
       "    .dataframe tbody tr th {\n",
       "        vertical-align: top;\n",
       "    }\n",
       "\n",
       "    .dataframe thead th {\n",
       "        text-align: right;\n",
       "    }\n",
       "</style>\n",
       "<table border=\"1\" class=\"dataframe\">\n",
       "  <thead>\n",
       "    <tr style=\"text-align: right;\">\n",
       "      <th></th>\n",
       "      <th>href</th>\n",
       "      <th>item_href</th>\n",
       "      <th>stem</th>\n",
       "      <th>suffix</th>\n",
       "      <th>base_url</th>\n",
       "      <th>folder</th>\n",
       "      <th>product_id</th>\n",
       "      <th>start_date</th>\n",
       "      <th>first_scantime</th>\n",
       "      <th>end_scantime</th>\n",
       "      <th>...</th>\n",
       "      <th>create_datetime</th>\n",
       "      <th>data_origin</th>\n",
       "      <th>data_domain</th>\n",
       "      <th>vflag_file</th>\n",
       "      <th>vflag_href</th>\n",
       "      <th>cache_stem</th>\n",
       "      <th>asset_href</th>\n",
       "      <th>geometry</th>\n",
       "      <th>section_area</th>\n",
       "      <th>intersect_area_sum</th>\n",
       "    </tr>\n",
       "  </thead>\n",
       "  <tbody>\n",
       "    <tr>\n",
       "      <th>80</th>\n",
       "      <td>./SVDNB_npp_d20180501_t1634142_e1639546_b33728...</td>\n",
       "      <td>https://globalnightlight.s3.amazonaws.com/npp_...</td>\n",
       "      <td>SVDNB_npp_d20180501_t1634142_e1639546_b33728_c...</td>\n",
       "      <td>rade9.co.json</td>\n",
       "      <td>https://globalnightlight.s3.amazonaws.com</td>\n",
       "      <td>npp_201805</td>\n",
       "      <td>SVDNB_npp</td>\n",
       "      <td>20180501</td>\n",
       "      <td>1634142</td>\n",
       "      <td>1639546</td>\n",
       "      <td>...</td>\n",
       "      <td>20180501223954897862</td>\n",
       "      <td>noac</td>\n",
       "      <td>ops</td>\n",
       "      <td>npp_d20180501_t1634142_e1639546_b33728.vflag.c...</td>\n",
       "      <td>https://globalnightlight.s3.amazonaws.com/npp_...</td>\n",
       "      <td>SVDNB_npp_d20180501_t1634142_e1639546_b33728_c...</td>\n",
       "      <td>https://globalnightlight.s3.amazonaws.com/npp_...</td>\n",
       "      <td>POLYGON ((13246796.765 2155183.158, 13246796.7...</td>\n",
       "      <td>1.437277e+13</td>\n",
       "      <td>2.127466e+11</td>\n",
       "    </tr>\n",
       "    <tr>\n",
       "      <th>81</th>\n",
       "      <td>./SVDNB_npp_d20180501_t1639558_e1645362_b33728...</td>\n",
       "      <td>https://globalnightlight.s3.amazonaws.com/npp_...</td>\n",
       "      <td>SVDNB_npp_d20180501_t1639558_e1645362_b33728_c...</td>\n",
       "      <td>rade9.co.json</td>\n",
       "      <td>https://globalnightlight.s3.amazonaws.com</td>\n",
       "      <td>npp_201805</td>\n",
       "      <td>SVDNB_npp</td>\n",
       "      <td>20180501</td>\n",
       "      <td>1639558</td>\n",
       "      <td>1645362</td>\n",
       "      <td>...</td>\n",
       "      <td>20180501224536066966</td>\n",
       "      <td>noac</td>\n",
       "      <td>ops</td>\n",
       "      <td>npp_d20180501_t1639558_e1645362_b33728.vflag.c...</td>\n",
       "      <td>https://globalnightlight.s3.amazonaws.com/npp_...</td>\n",
       "      <td>SVDNB_npp_d20180501_t1639558_e1645362_b33728_c...</td>\n",
       "      <td>https://globalnightlight.s3.amazonaws.com/npp_...</td>\n",
       "      <td>POLYGON ((12912838.293 229.689, 12912838.293 2...</td>\n",
       "      <td>1.088441e+13</td>\n",
       "      <td>2.237799e+12</td>\n",
       "    </tr>\n",
       "    <tr>\n",
       "      <th>82</th>\n",
       "      <td>./SVDNB_npp_d20180501_t1645375_e1651161_b33728...</td>\n",
       "      <td>https://globalnightlight.s3.amazonaws.com/npp_...</td>\n",
       "      <td>SVDNB_npp_d20180501_t1645375_e1651161_b33728_c...</td>\n",
       "      <td>rade9.co.json</td>\n",
       "      <td>https://globalnightlight.s3.amazonaws.com</td>\n",
       "      <td>npp_201805</td>\n",
       "      <td>SVDNB_npp</td>\n",
       "      <td>20180501</td>\n",
       "      <td>1645375</td>\n",
       "      <td>1651161</td>\n",
       "      <td>...</td>\n",
       "      <td>20180501225118045996</td>\n",
       "      <td>noac</td>\n",
       "      <td>ops</td>\n",
       "      <td>npp_d20180501_t1645375_e1651161_b33728.vflag.c...</td>\n",
       "      <td>https://globalnightlight.s3.amazonaws.com/npp_...</td>\n",
       "      <td>SVDNB_npp_d20180501_t1645375_e1651161_b33728_c...</td>\n",
       "      <td>https://globalnightlight.s3.amazonaws.com/npp_...</td>\n",
       "      <td>POLYGON ((12356240.839 -2272782.155, 12356240....</td>\n",
       "      <td>1.039730e+13</td>\n",
       "      <td>6.358422e+10</td>\n",
       "    </tr>\n",
       "    <tr>\n",
       "      <th>89</th>\n",
       "      <td>./SVDNB_npp_d20180501_t1816398_e1822184_b33729...</td>\n",
       "      <td>https://globalnightlight.s3.amazonaws.com/npp_...</td>\n",
       "      <td>SVDNB_npp_d20180501_t1816398_e1822184_b33729_c...</td>\n",
       "      <td>rade9.co.json</td>\n",
       "      <td>https://globalnightlight.s3.amazonaws.com</td>\n",
       "      <td>npp_201805</td>\n",
       "      <td>SVDNB_npp</td>\n",
       "      <td>20180501</td>\n",
       "      <td>1816398</td>\n",
       "      <td>1822184</td>\n",
       "      <td>...</td>\n",
       "      <td>20180502002220226537</td>\n",
       "      <td>noac</td>\n",
       "      <td>ops</td>\n",
       "      <td>npp_d20180501_t1816398_e1822184_b33729.vflag.c...</td>\n",
       "      <td>https://globalnightlight.s3.amazonaws.com/npp_...</td>\n",
       "      <td>SVDNB_npp_d20180501_t1816398_e1822184_b33729_c...</td>\n",
       "      <td>https://globalnightlight.s3.amazonaws.com/npp_...</td>\n",
       "      <td>POLYGON ((10463798.364 1804965.959, 10463798.3...</td>\n",
       "      <td>1.321192e+13</td>\n",
       "      <td>8.253388e+11</td>\n",
       "    </tr>\n",
       "    <tr>\n",
       "      <th>90</th>\n",
       "      <td>./SVDNB_npp_d20180501_t1822196_e1828000_b33729...</td>\n",
       "      <td>https://globalnightlight.s3.amazonaws.com/npp_...</td>\n",
       "      <td>SVDNB_npp_d20180501_t1822196_e1828000_b33729_c...</td>\n",
       "      <td>rade9.co.json</td>\n",
       "      <td>https://globalnightlight.s3.amazonaws.com</td>\n",
       "      <td>npp_201805</td>\n",
       "      <td>SVDNB_npp</td>\n",
       "      <td>20180501</td>\n",
       "      <td>1822196</td>\n",
       "      <td>1828000</td>\n",
       "      <td>...</td>\n",
       "      <td>20180502002801307723</td>\n",
       "      <td>noac</td>\n",
       "      <td>ops</td>\n",
       "      <td>npp_d20180501_t1822196_e1828000_b33729.vflag.c...</td>\n",
       "      <td>https://globalnightlight.s3.amazonaws.com/npp_...</td>\n",
       "      <td>SVDNB_npp_d20180501_t1822196_e1828000_b33729_c...</td>\n",
       "      <td>https://globalnightlight.s3.amazonaws.com/npp_...</td>\n",
       "      <td>POLYGON ((10018520.400 -333881.539, 10018520.4...</td>\n",
       "      <td>1.045368e+13</td>\n",
       "      <td>1.839721e+12</td>\n",
       "    </tr>\n",
       "  </tbody>\n",
       "</table>\n",
       "<p>5 rows × 21 columns</p>\n",
       "</div>"
      ],
      "text/plain": [
       "                                                 href  \\\n",
       "80  ./SVDNB_npp_d20180501_t1634142_e1639546_b33728...   \n",
       "81  ./SVDNB_npp_d20180501_t1639558_e1645362_b33728...   \n",
       "82  ./SVDNB_npp_d20180501_t1645375_e1651161_b33728...   \n",
       "89  ./SVDNB_npp_d20180501_t1816398_e1822184_b33729...   \n",
       "90  ./SVDNB_npp_d20180501_t1822196_e1828000_b33729...   \n",
       "\n",
       "                                            item_href  \\\n",
       "80  https://globalnightlight.s3.amazonaws.com/npp_...   \n",
       "81  https://globalnightlight.s3.amazonaws.com/npp_...   \n",
       "82  https://globalnightlight.s3.amazonaws.com/npp_...   \n",
       "89  https://globalnightlight.s3.amazonaws.com/npp_...   \n",
       "90  https://globalnightlight.s3.amazonaws.com/npp_...   \n",
       "\n",
       "                                                 stem         suffix  \\\n",
       "80  SVDNB_npp_d20180501_t1634142_e1639546_b33728_c...  rade9.co.json   \n",
       "81  SVDNB_npp_d20180501_t1639558_e1645362_b33728_c...  rade9.co.json   \n",
       "82  SVDNB_npp_d20180501_t1645375_e1651161_b33728_c...  rade9.co.json   \n",
       "89  SVDNB_npp_d20180501_t1816398_e1822184_b33729_c...  rade9.co.json   \n",
       "90  SVDNB_npp_d20180501_t1822196_e1828000_b33729_c...  rade9.co.json   \n",
       "\n",
       "                                     base_url      folder product_id  \\\n",
       "80  https://globalnightlight.s3.amazonaws.com  npp_201805  SVDNB_npp   \n",
       "81  https://globalnightlight.s3.amazonaws.com  npp_201805  SVDNB_npp   \n",
       "82  https://globalnightlight.s3.amazonaws.com  npp_201805  SVDNB_npp   \n",
       "89  https://globalnightlight.s3.amazonaws.com  npp_201805  SVDNB_npp   \n",
       "90  https://globalnightlight.s3.amazonaws.com  npp_201805  SVDNB_npp   \n",
       "\n",
       "   start_date first_scantime end_scantime  ...       create_datetime  \\\n",
       "80   20180501        1634142      1639546  ...  20180501223954897862   \n",
       "81   20180501        1639558      1645362  ...  20180501224536066966   \n",
       "82   20180501        1645375      1651161  ...  20180501225118045996   \n",
       "89   20180501        1816398      1822184  ...  20180502002220226537   \n",
       "90   20180501        1822196      1828000  ...  20180502002801307723   \n",
       "\n",
       "   data_origin data_domain                                         vflag_file  \\\n",
       "80        noac         ops  npp_d20180501_t1634142_e1639546_b33728.vflag.c...   \n",
       "81        noac         ops  npp_d20180501_t1639558_e1645362_b33728.vflag.c...   \n",
       "82        noac         ops  npp_d20180501_t1645375_e1651161_b33728.vflag.c...   \n",
       "89        noac         ops  npp_d20180501_t1816398_e1822184_b33729.vflag.c...   \n",
       "90        noac         ops  npp_d20180501_t1822196_e1828000_b33729.vflag.c...   \n",
       "\n",
       "                                           vflag_href  \\\n",
       "80  https://globalnightlight.s3.amazonaws.com/npp_...   \n",
       "81  https://globalnightlight.s3.amazonaws.com/npp_...   \n",
       "82  https://globalnightlight.s3.amazonaws.com/npp_...   \n",
       "89  https://globalnightlight.s3.amazonaws.com/npp_...   \n",
       "90  https://globalnightlight.s3.amazonaws.com/npp_...   \n",
       "\n",
       "                                           cache_stem  \\\n",
       "80  SVDNB_npp_d20180501_t1634142_e1639546_b33728_c...   \n",
       "81  SVDNB_npp_d20180501_t1639558_e1645362_b33728_c...   \n",
       "82  SVDNB_npp_d20180501_t1645375_e1651161_b33728_c...   \n",
       "89  SVDNB_npp_d20180501_t1816398_e1822184_b33729_c...   \n",
       "90  SVDNB_npp_d20180501_t1822196_e1828000_b33729_c...   \n",
       "\n",
       "                                           asset_href  \\\n",
       "80  https://globalnightlight.s3.amazonaws.com/npp_...   \n",
       "81  https://globalnightlight.s3.amazonaws.com/npp_...   \n",
       "82  https://globalnightlight.s3.amazonaws.com/npp_...   \n",
       "89  https://globalnightlight.s3.amazonaws.com/npp_...   \n",
       "90  https://globalnightlight.s3.amazonaws.com/npp_...   \n",
       "\n",
       "                                             geometry  section_area  \\\n",
       "80  POLYGON ((13246796.765 2155183.158, 13246796.7...  1.437277e+13   \n",
       "81  POLYGON ((12912838.293 229.689, 12912838.293 2...  1.088441e+13   \n",
       "82  POLYGON ((12356240.839 -2272782.155, 12356240....  1.039730e+13   \n",
       "89  POLYGON ((10463798.364 1804965.959, 10463798.3...  1.321192e+13   \n",
       "90  POLYGON ((10018520.400 -333881.539, 10018520.4...  1.045368e+13   \n",
       "\n",
       "    intersect_area_sum  \n",
       "80        2.127466e+11  \n",
       "81        2.237799e+12  \n",
       "82        6.358422e+10  \n",
       "89        8.253388e+11  \n",
       "90        1.839721e+12  \n",
       "\n",
       "[5 rows x 21 columns]"
      ]
     },
     "execution_count": null,
     "metadata": {},
     "output_type": "execute_result"
    }
   ],
   "source": [
    "#| eval: false\n",
    "results.head()"
   ]
  },
  {
   "cell_type": "code",
   "execution_count": null,
   "metadata": {},
   "outputs": [
    {
     "data": {
      "text/html": [
       "<div>\n",
       "<style scoped>\n",
       "    .dataframe tbody tr th:only-of-type {\n",
       "        vertical-align: middle;\n",
       "    }\n",
       "\n",
       "    .dataframe tbody tr th {\n",
       "        vertical-align: top;\n",
       "    }\n",
       "\n",
       "    .dataframe thead th {\n",
       "        text-align: right;\n",
       "    }\n",
       "</style>\n",
       "<table border=\"1\" class=\"dataframe\">\n",
       "  <thead>\n",
       "    <tr style=\"text-align: right;\">\n",
       "      <th></th>\n",
       "      <th>geometry</th>\n",
       "      <th>bound_area</th>\n",
       "    </tr>\n",
       "  </thead>\n",
       "  <tbody>\n",
       "    <tr>\n",
       "      <th>0</th>\n",
       "      <td>POLYGON ((14093600.302 511201.726, 14093600.30...</td>\n",
       "      <td>2.600698e+12</td>\n",
       "    </tr>\n",
       "  </tbody>\n",
       "</table>\n",
       "</div>"
      ],
      "text/plain": [
       "                                            geometry    bound_area\n",
       "0  POLYGON ((14093600.302 511201.726, 14093600.30...  2.600698e+12"
      ]
     },
     "execution_count": null,
     "metadata": {},
     "output_type": "execute_result"
    }
   ],
   "source": [
    "#| eval: false\n",
    "aoi_planar"
   ]
  },
  {
   "cell_type": "code",
   "execution_count": null,
   "metadata": {},
   "outputs": [],
   "source": [
    "#| eval: false\n",
    "tot_aoi_area = aoi_planar.bound_area.sum(); tot_aoi_area\n",
    "results['pct_covered'] = results['intersect_area_sum'] / tot_aoi_area \n",
    "sorted_results = results.sort_values(by='pct_covered',ascending=False)\n",
    "sorted_results"
   ]
  },
  {
   "cell_type": "code",
   "execution_count": null,
   "metadata": {},
   "outputs": [],
   "source": [
    "#| export\n",
    "\n",
    "\n",
    "def compute_overlaps(aoi, matched_results):\n",
    "    aoi_planar = aoi.to_crs('EPSG:3857')\n",
    "    aoi_planar['bound_area'] = aoi_planar.geometry.area\n",
    "    matched_planar = matched_results.to_crs('EPSG:3857')\n",
    "    matched_planar['section_area'] = matched_planar.geometry.area\n",
    "    results = azs.create_area_zonal_stats(matched_planar, aoi_planar, aggregations=[])\n",
    "    tot_aoi_area = aoi_planar.bound_area.sum()\n",
    "    results['pct_covered'] = results['intersect_area_sum'] / tot_aoi_area \n",
    "    sorted_results = results.sort_values(by='pct_covered',ascending=False)\n",
    "    return sorted_results"
   ]
  },
  {
   "cell_type": "code",
   "execution_count": null,
   "metadata": {},
   "outputs": [
    {
     "name": "stdout",
     "output_type": "stream",
     "text": [
      "CPU times: user 37.2 ms, sys: 6.45 ms, total: 43.6 ms\n",
      "Wall time: 41.8 ms\n"
     ]
    }
   ],
   "source": [
    "%%time\n",
    "#| eval: false\n",
    "sorted_results = compute_overlaps(aoi,phl_matched20180501) "
   ]
  },
  {
   "cell_type": "code",
   "execution_count": null,
   "metadata": {},
   "outputs": [
    {
     "data": {
      "text/html": [
       "<div>\n",
       "<style scoped>\n",
       "    .dataframe tbody tr th:only-of-type {\n",
       "        vertical-align: middle;\n",
       "    }\n",
       "\n",
       "    .dataframe tbody tr th {\n",
       "        vertical-align: top;\n",
       "    }\n",
       "\n",
       "    .dataframe thead th {\n",
       "        text-align: right;\n",
       "    }\n",
       "</style>\n",
       "<table border=\"1\" class=\"dataframe\">\n",
       "  <thead>\n",
       "    <tr style=\"text-align: right;\">\n",
       "      <th></th>\n",
       "      <th>pct_covered</th>\n",
       "    </tr>\n",
       "  </thead>\n",
       "  <tbody>\n",
       "    <tr>\n",
       "      <th>81</th>\n",
       "      <td>0.860461</td>\n",
       "    </tr>\n",
       "    <tr>\n",
       "      <th>90</th>\n",
       "      <td>0.707395</td>\n",
       "    </tr>\n",
       "    <tr>\n",
       "      <th>89</th>\n",
       "      <td>0.317353</td>\n",
       "    </tr>\n",
       "    <tr>\n",
       "      <th>80</th>\n",
       "      <td>0.081804</td>\n",
       "    </tr>\n",
       "    <tr>\n",
       "      <th>82</th>\n",
       "      <td>0.024449</td>\n",
       "    </tr>\n",
       "  </tbody>\n",
       "</table>\n",
       "</div>"
      ],
      "text/plain": [
       "    pct_covered\n",
       "81     0.860461\n",
       "90     0.707395\n",
       "89     0.317353\n",
       "80     0.081804\n",
       "82     0.024449"
      ]
     },
     "execution_count": null,
     "metadata": {},
     "output_type": "execute_result"
    }
   ],
   "source": [
    "#| eval: false\n",
    "sorted_results[['pct_covered']].head()"
   ]
  },
  {
   "cell_type": "code",
   "execution_count": null,
   "metadata": {},
   "outputs": [],
   "source": [
    "#| eval: false\n",
    "aoi_ph = gpd.read_file('../data/admin_areas/phl_admbnda_adm3_psa_namria_20200529.shp')\n",
    "aoi_ph_planar = aoi_ph.to_crs('EPSG:3857')\n",
    "ax = plt.axes()\n",
    "ax = sorted_results[:2].plot(ax=ax, facecolor='none', edgecolor='blue')\n",
    "ax = aoi_ph_planar.plot(ax=ax,color='red')"
   ]
  }
 ],
 "metadata": {
  "kernelspec": {
   "display_name": "Python 3 (ipykernel)",
   "language": "python",
   "name": "python3"
  }
 },
 "nbformat": 4,
 "nbformat_minor": 4
}
