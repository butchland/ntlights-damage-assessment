{
 "cells": [
  {
   "cell_type": "code",
   "execution_count": null,
   "metadata": {},
   "outputs": [],
   "source": [
    "#|default_exp download_rasters"
   ]
  },
  {
   "cell_type": "markdown",
   "metadata": {},
   "source": [
    "# Download Rasters \n",
    "\n",
    "> utilities for conveniently downloading rasters"
   ]
  },
  {
   "cell_type": "code",
   "execution_count": null,
   "metadata": {},
   "outputs": [],
   "source": [
    "#| eval: false\n",
    "#| hide\n",
    "%reload_ext autoreload\n",
    "%autoreload 2\n",
    "%matplotlib inline"
   ]
  },
  {
   "cell_type": "code",
   "execution_count": null,
   "metadata": {},
   "outputs": [],
   "source": [
    "#| hide\n",
    "from nbdev.showdoc import *"
   ]
  },
  {
   "cell_type": "code",
   "execution_count": null,
   "metadata": {},
   "outputs": [],
   "source": [
    "#| export\n",
    "\n",
    "import requests\n",
    "import json\n",
    "from fastcore.all import L\n",
    "import pandas as pd\n",
    "from typing import Any\n",
    "from urllib.parse import urlparse\n",
    "from pathlib import Path\n",
    "import numpy as np\n",
    "import re\n",
    "from shapely.geometry import Polygon, box\n",
    "from shapely import wkt\n",
    "import geopandas as gpd\n",
    "import sqlite3 as sql3\n",
    "from pandas.io import sql \n",
    "import sqlalchemy as sqalc\n",
    "import geowrangler.area_zonal_stats as azs\n",
    "from fastdownload import FastDownload\n",
    "from fastcore.foundation import Config\n",
    "from functools import partial"
   ]
  },
  {
   "cell_type": "code",
   "execution_count": null,
   "metadata": {},
   "outputs": [],
   "source": [
    "#| exporti\n",
    "from ntlights_processing_utils.fetch_coords import search_dates_aoi \n",
    "from ntlights_processing_utils.eval_overlap import compute_overlaps"
   ]
  },
  {
   "cell_type": "code",
   "execution_count": null,
   "metadata": {},
   "outputs": [],
   "source": [
    "#| eval: false\n",
    "aoi = gpd.read_file('../data/admin_areas/ph_admin_bbox_wgs84.geojson')"
   ]
  },
  {
   "cell_type": "code",
   "execution_count": null,
   "metadata": {},
   "outputs": [],
   "source": [
    "#| export\n",
    "RASTER_TYPES = [\n",
    "    'rade9.co.tif',\n",
    "    'vflag.co.tif',\n",
    "    'rad.co.tif',\n",
    "    'samples.co.tif',\n",
    "    'li.co.tif']"
   ]
  },
  {
   "cell_type": "code",
   "execution_count": null,
   "metadata": {},
   "outputs": [
    {
     "name": "stdout",
     "output_type": "stream",
     "text": [
      "CPU times: user 44.3 ms, sys: 986 ms, total: 1.03 s\n",
      "Wall time: 1.03 s\n"
     ]
    }
   ],
   "source": [
    "%%time\n",
    "#| eval: false\n",
    "phl_matched20180501 = search_dates_aoi(aoi, date_param='20180501')"
   ]
  },
  {
   "cell_type": "code",
   "execution_count": null,
   "metadata": {},
   "outputs": [
    {
     "name": "stdout",
     "output_type": "stream",
     "text": [
      "CPU times: user 56.6 ms, sys: 2.6 ms, total: 59.2 ms\n",
      "Wall time: 55.6 ms\n"
     ]
    }
   ],
   "source": [
    "%%time\n",
    "#| eval: false\n",
    "sorted_results = compute_overlaps(aoi,phl_matched20180501) "
   ]
  },
  {
   "cell_type": "code",
   "execution_count": null,
   "metadata": {},
   "outputs": [],
   "source": [
    "#| eval: false\n",
    "cfg = Config('../data/ntlights-bigfiles','ntlights.ini',save=False)\n",
    "fdownload = FastDownload(cfg, base='../data/ntlights-bigfiles',archive=folder)"
   ]
  },
  {
   "cell_type": "code",
   "execution_count": null,
   "metadata": {},
   "outputs": [],
   "source": [
    "#| eval: false\n",
    "folder, vflag_href, image_href = sorted_results.iloc[0].folder, sorted_results.iloc[0].vflag_href, sorted_results.iloc[0].asset_href"
   ]
  },
  {
   "cell_type": "code",
   "execution_count": null,
   "metadata": {},
   "outputs": [
    {
     "data": {
      "text/html": [
       "\n",
       "<style>\n",
       "    /* Turns off some styling */\n",
       "    progress {\n",
       "        /* gets rid of default border in Firefox and Opera. */\n",
       "        border: none;\n",
       "        /* Needs to be in here for Safari polyfill so background images work as expected. */\n",
       "        background-size: auto;\n",
       "    }\n",
       "    progress:not([value]), progress:not([value])::-webkit-progress-bar {\n",
       "        background: repeating-linear-gradient(45deg, #7e7e7e, #7e7e7e 10px, #5c5c5c 10px, #5c5c5c 20px);\n",
       "    }\n",
       "    .progress-bar-interrupted, .progress-bar-interrupted::-webkit-progress-bar {\n",
       "        background: #F44336;\n",
       "    }\n",
       "</style>\n"
      ],
      "text/plain": [
       "<IPython.core.display.HTML object>"
      ]
     },
     "metadata": {},
     "output_type": "display_data"
    },
    {
     "data": {
      "text/html": [
       "\n",
       "    <div>\n",
       "      <progress value='4456448' class='' max='4452282' style='width:300px; height:20px; vertical-align: middle;'></progress>\n",
       "      100.09% [4456448/4452282 00:03&lt;00:00]\n",
       "    </div>\n",
       "    "
      ],
      "text/plain": [
       "<IPython.core.display.HTML object>"
      ]
     },
     "metadata": {},
     "output_type": "display_data"
    },
    {
     "data": {
      "text/plain": [
       "Path('/home/butch2/play/devpost/ntlights-processing-utils/nbs/../data/ntlights-bigfiles/npp_201805/npp_d20180501_t1639558_e1645362_b33728.vflag.co.tif')"
      ]
     },
     "execution_count": null,
     "metadata": {},
     "output_type": "execute_result"
    }
   ],
   "source": [
    "#| eval: false\n",
    "fdownload.download(vflag_href)"
   ]
  },
  {
   "cell_type": "code",
   "execution_count": null,
   "metadata": {},
   "outputs": [],
   "source": [
    "#| export\n",
    "\n",
    "PATH_COLUMNS = {\n",
    "    'rade9.co.tif':'image_path',\n",
    "    'vflag.co.tif':'vflag_path',\n",
    "    'rad.co.tif':'rad_path',\n",
    "    'samples.co.tif':'samples_path',\n",
    "    'li.co.tif':'li_path'\n",
    "}\n",
    "def get_path_column(raster_type):\n",
    "    return PATH_COLUMNS[raster_type]\n",
    "    "
   ]
  },
  {
   "cell_type": "code",
   "execution_count": null,
   "metadata": {},
   "outputs": [],
   "source": [
    "#| export\n",
    "\n",
    "def get_href_path(o, raster_type):\n",
    "    if raster_type == 'rade9.co.tif':\n",
    "        return o.asset_href\n",
    "    elif raster_type == 'vflag.co.tif':\n",
    "        return o.vflag_href\n",
    "    else:\n",
    "        return f'{o.base_url}/{o.folder}/{o.stem}.{raster_type}'"
   ]
  },
  {
   "cell_type": "code",
   "execution_count": null,
   "metadata": {},
   "outputs": [],
   "source": [
    "#| export\n",
    "\n",
    "def download_path_column(o, raster_type, dest):\n",
    "    cfg = Config(dest,'ntlights.ini', save=False)\n",
    "    fdownload = FastDownload(cfg,base=dest,archive=o.folder)\n",
    "    url = get_href_path(o, raster_type)\n",
    "    return fdownload.download(url)\n",
    "    "
   ]
  },
  {
   "cell_type": "code",
   "execution_count": null,
   "metadata": {},
   "outputs": [],
   "source": [
    "#| export\n",
    "\n",
    "def download_items(items_df,dest='data', raster_type='rade9.co.tif'):\n",
    "    if raster_type not in RASTER_TYPES:\n",
    "        raise ValueError(f'Unknown raster_type: {raster_type}, valid values are {RASTER_TYPES}')\n",
    "    path_column = get_path_column(raster_type) \n",
    "    download_func = partial(download_path_column, raster_type=raster_type, dest=dest)\n",
    "    items_df[path_column] = items_df.apply(download_func, axis=1)\n",
    "    return items_df\n",
    "                         "
   ]
  },
  {
   "cell_type": "code",
   "execution_count": null,
   "metadata": {},
   "outputs": [],
   "source": [
    "#| eval: false\n",
    "top2_items = sorted_results[:2].copy()"
   ]
  },
  {
   "cell_type": "code",
   "execution_count": null,
   "metadata": {},
   "outputs": [],
   "source": [
    "#| eval: false\n",
    "top2_items = download_items(top2_items, dest='../data/ntlights-bigfiles')"
   ]
  },
  {
   "cell_type": "code",
   "execution_count": null,
   "metadata": {},
   "outputs": [
    {
     "data": {
      "text/plain": [
       "array(['href', 'item_href', 'stem', 'suffix', 'base_url', 'folder',\n",
       "       'product_id', 'start_date', 'first_scantime', 'end_scantime',\n",
       "       'orbital_nbr', 'create_datetime', 'data_origin', 'data_domain',\n",
       "       'vflag_file', 'vflag_href', 'cache_stem', 'asset_href', 'geometry',\n",
       "       'section_area', 'intersect_area_sum', 'pct_covered', 'image_path'],\n",
       "      dtype=object)"
      ]
     },
     "execution_count": null,
     "metadata": {},
     "output_type": "execute_result"
    }
   ],
   "source": [
    "#| eval: false\n",
    "top2_items.columns.values"
   ]
  }
 ],
 "metadata": {
  "kernelspec": {
   "display_name": "Python 3 (ipykernel)",
   "language": "python",
   "name": "python3"
  }
 },
 "nbformat": 4,
 "nbformat_minor": 4
}
