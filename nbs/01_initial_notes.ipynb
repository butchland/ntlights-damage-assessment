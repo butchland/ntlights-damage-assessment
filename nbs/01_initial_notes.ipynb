{
 "cells": [
  {
   "cell_type": "markdown",
   "metadata": {},
   "source": [
    "# Initial Notes \n",
    "\n",
    "> Scoping the project"
   ]
  },
  {
   "cell_type": "code",
   "execution_count": null,
   "metadata": {},
   "outputs": [],
   "source": [
    "#| hide\n",
    "from nbdev.showdoc import *"
   ]
  },
  {
   "cell_type": "markdown",
   "metadata": {},
   "source": [
    "## Ideas and links\n",
    "\n",
    "* AWS ASDI light every night \n",
    "   - [AWS Marketplace Entry](https://aws.amazon.com/marketplace/pp/prodview-b23gbtlgkgbuq?sr=0-1&ref_=beagle&applicationId=AWSMPContessa#resources)\n",
    "   - `aws s3 ls --no-sign-request s3://globalnightlight/`\n",
    "   - [asdi-globalnightlight-catalog.txt](../data/ntlights/asdi-globalnightlight-catalog.txt)\n",
    "   - [wb-light-every-night-readme VIIRS DNB](https://worldbank.github.io/OpenNightLights/wb-light-every-night-readme.html#viirs-dnb)\n",
    "   - [Open Night Lights tutorial](https://worldbank.github.io/OpenNightLights/welcome.html)\n",
    "   - [Intro to night time lights data analysis](https://www.youtube.com/watch?v=4NrDhoCvfP4)\n",
    "   - [Stac 1.0.0-beta.2 endpoint](https://stacindex.org/catalogs/world-bank-light-every-night#/)\n",
    "\n",
    "* Tropical Cyclone \"Mangkhut\" - Philippine name \"Ompong\"\n",
    "   - 2018/09/12 - Entered Philippine Area of Responsibility (PAR)\n",
    "   - 2018/09/15 - left PAR\n",
    "   - [Sitrep](../notes/Sitrep_No_55_re_Preparedness_Measures_and_Effects_for_TY_OMPONG_as_of_05OCT2018_0600H.pdf) - source : (retrieved Aug 20, 2022) [https://ndrrmc.gov.ph/attachments/article/3437/Sitrep_No_55_re_Preparedness_Measures_and_Effects_for_TY_OMPONG_as_of_05OCT2018_0600H.pdf](https://ndrrmc.gov.ph/attachments/article/3437/Sitrep_No_55_re_Preparedness_Measures_and_Effects_for_TY_OMPONG_as_of_05OCT2018_0600H.pdf)\n",
    "\n",
    " "
   ]
  },
  {
   "cell_type": "markdown",
   "metadata": {},
   "source": [
    "## Next Plans\n",
    "* ~~Get admin areas for affected areas of TC Ompong - AOI~~\n",
    "* Grab nightlights data for 20180912 (Date of entry of \"Mangkhut\" into par)\n",
    "  - grab '*.rade9.co.json' for all data in s3://globalnightlight/npp_201809\n",
    "  - parse '*.rade9.co.json' and convert to geojson \n",
    "  - find files intersecting affected areas of TC Ompong - \n",
    "  - fetch files '*.rade9.co.tif' for files intersecting AOI\n",
    "  - fetch files '*.vflag.co.tif' to mask for no data/cloud cover.\n",
    "  - check if there is enough data for analysis -- no data < 5 percent\n",
    "* Repeat process for 20180916 (Date of exit of \"Mankhut\" from par) \n",
    "* Compare variance of nightlights over AOI\n",
    "     "
   ]
  },
  {
   "cell_type": "code",
   "execution_count": null,
   "metadata": {},
   "outputs": [],
   "source": []
  }
 ],
 "metadata": {
  "kernelspec": {
   "display_name": "Python 3 (ipykernel)",
   "language": "python",
   "name": "python3"
  }
 },
 "nbformat": 4,
 "nbformat_minor": 4
}
