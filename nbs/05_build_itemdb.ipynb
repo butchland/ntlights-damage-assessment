{
 "cells": [
  {
   "cell_type": "code",
   "execution_count": null,
   "id": "5b85fd55-6b8a-4c1e-8a86-55262ee8d55f",
   "metadata": {},
   "outputs": [],
   "source": [
    "#| default_exp build_itemdb"
   ]
  },
  {
   "cell_type": "code",
   "execution_count": null,
   "id": "7048b9ef-ad14-4c5d-897d-c3e1db0bf896",
   "metadata": {},
   "outputs": [],
   "source": [
    "#| eval: false\n",
    "%reload_ext autoreload\n",
    "%autoreload 2\n",
    "%matplotlib inline"
   ]
  },
  {
   "cell_type": "code",
   "execution_count": null,
   "id": "500385bb-0daa-4f8b-ab2b-aa5878f8c7f9",
   "metadata": {},
   "outputs": [],
   "source": [
    "#| hide\n",
    "from nbdev.showdoc import *"
   ]
  },
  {
   "cell_type": "markdown",
   "id": "712cbaaa-956f-409d-940b-a48173905719",
   "metadata": {},
   "source": [
    "# Build Monthly Db \n",
    "\n",
    "> Build monthly catalog and item databases\n"
   ]
  },
  {
   "cell_type": "code",
   "execution_count": null,
   "id": "5196c3aa-81b2-44a2-9758-6e1f9887ba67",
   "metadata": {},
   "outputs": [],
   "source": [
    "#| exporti\n",
    "import sqlite3 as sql\n",
    "import ntlights_damage_assessment.explore_ntlights_stac as ntls"
   ]
  },
  {
   "cell_type": "code",
   "execution_count": null,
   "id": "75d93374-c0a8-4b0a-94a1-cf7ce95f4e24",
   "metadata": {},
   "outputs": [],
   "source": [
    "#| export\n",
    "DATA_DB_DIR = '../data/sqlite'\n",
    "DB = f'{DATA_DB_DIR}/db.db'"
   ]
  },
  {
   "cell_type": "code",
   "execution_count": null,
   "id": "65fdf258-c20b-42f5-867f-10f4e1641c0b",
   "metadata": {},
   "outputs": [],
   "source": [
    "#| hide\n",
    "#| eval: false\n",
    "!mkdir -p ../data/sqlite"
   ]
  },
  {
   "cell_type": "code",
   "execution_count": null,
   "id": "2b43deb1-eace-4860-a313-0f26811a8503",
   "metadata": {},
   "outputs": [],
   "source": [
    "#| hide\n",
    "import matplotlib.pyplot as plt\n",
    "import pandas as pd"
   ]
  },
  {
   "cell_type": "code",
   "execution_count": null,
   "id": "ee44a2ac-0ae4-44c1-8c43-6765b108c6f8",
   "metadata": {},
   "outputs": [],
   "source": [
    "#| hide\n",
    "pd.set_option('display.max_columns', 500)\n",
    "pd.set_option('display.max_colwidth',120)"
   ]
  },
  {
   "cell_type": "markdown",
   "id": "3ad84ed7-8a7e-447f-b43c-708546b8a9c1",
   "metadata": {},
   "source": [
    "## Write kids from VIIRS npp catalog as db"
   ]
  },
  {
   "cell_type": "code",
   "execution_count": null,
   "id": "4eb59fbb-bab3-43e8-a02f-da7ed688c666",
   "metadata": {},
   "outputs": [],
   "source": [
    "kids_df = ntls.make_kids_df()"
   ]
  },
  {
   "cell_type": "code",
   "execution_count": null,
   "id": "c81d27de-a479-4b2c-8296-8827ce83cc48",
   "metadata": {},
   "outputs": [],
   "source": [
    "#|eval: false\n",
    "# conn = sql.connect(DB)\n",
    "# conn.executescript('drop table if exists monthly_catalog;')"
   ]
  },
  {
   "cell_type": "code",
   "execution_count": null,
   "id": "88dfa81f-298a-4fe3-9a34-e38b7595be6e",
   "metadata": {},
   "outputs": [
    {
     "data": {
      "text/plain": [
       "105"
      ]
     },
     "execution_count": null,
     "metadata": {},
     "output_type": "execute_result"
    }
   ],
   "source": [
    "#| eval: false\n",
    "# kids_df.to_sql('monthly_catalog', conn)"
   ]
  },
  {
   "cell_type": "code",
   "execution_count": null,
   "id": "6ef0a767-238d-4e73-85dc-5fca6ef1406b",
   "metadata": {},
   "outputs": [
    {
     "data": {
      "text/html": [
       "<div>\n",
       "<style scoped>\n",
       "    .dataframe tbody tr th:only-of-type {\n",
       "        vertical-align: middle;\n",
       "    }\n",
       "\n",
       "    .dataframe tbody tr th {\n",
       "        vertical-align: top;\n",
       "    }\n",
       "\n",
       "    .dataframe thead th {\n",
       "        text-align: right;\n",
       "    }\n",
       "</style>\n",
       "<table border=\"1\" class=\"dataframe\">\n",
       "  <thead>\n",
       "    <tr style=\"text-align: right;\">\n",
       "      <th></th>\n",
       "      <th>rel</th>\n",
       "      <th>href</th>\n",
       "      <th>type</th>\n",
       "    </tr>\n",
       "  </thead>\n",
       "  <tbody>\n",
       "    <tr>\n",
       "      <th>0</th>\n",
       "      <td>child</td>\n",
       "      <td>https://globalnightlight.s3.amazonaws.com/201204/201204_catalog.json</td>\n",
       "      <td>application/json</td>\n",
       "    </tr>\n",
       "    <tr>\n",
       "      <th>1</th>\n",
       "      <td>child</td>\n",
       "      <td>https://globalnightlight.s3.amazonaws.com/201205/201205_catalog.json</td>\n",
       "      <td>application/json</td>\n",
       "    </tr>\n",
       "    <tr>\n",
       "      <th>2</th>\n",
       "      <td>child</td>\n",
       "      <td>https://globalnightlight.s3.amazonaws.com/201206/201206_catalog.json</td>\n",
       "      <td>application/json</td>\n",
       "    </tr>\n",
       "    <tr>\n",
       "      <th>3</th>\n",
       "      <td>child</td>\n",
       "      <td>https://globalnightlight.s3.amazonaws.com/201207/201207_catalog.json</td>\n",
       "      <td>application/json</td>\n",
       "    </tr>\n",
       "    <tr>\n",
       "      <th>4</th>\n",
       "      <td>child</td>\n",
       "      <td>https://globalnightlight.s3.amazonaws.com/201208/201208_catalog.json</td>\n",
       "      <td>application/json</td>\n",
       "    </tr>\n",
       "  </tbody>\n",
       "</table>\n",
       "</div>"
      ],
      "text/plain": [
       "     rel  \\\n",
       "0  child   \n",
       "1  child   \n",
       "2  child   \n",
       "3  child   \n",
       "4  child   \n",
       "\n",
       "                                                                   href  \\\n",
       "0  https://globalnightlight.s3.amazonaws.com/201204/201204_catalog.json   \n",
       "1  https://globalnightlight.s3.amazonaws.com/201205/201205_catalog.json   \n",
       "2  https://globalnightlight.s3.amazonaws.com/201206/201206_catalog.json   \n",
       "3  https://globalnightlight.s3.amazonaws.com/201207/201207_catalog.json   \n",
       "4  https://globalnightlight.s3.amazonaws.com/201208/201208_catalog.json   \n",
       "\n",
       "               type  \n",
       "0  application/json  \n",
       "1  application/json  \n",
       "2  application/json  \n",
       "3  application/json  \n",
       "4  application/json  "
      ]
     },
     "execution_count": null,
     "metadata": {},
     "output_type": "execute_result"
    }
   ],
   "source": [
    "kids_df.head()"
   ]
  },
  {
   "cell_type": "code",
   "execution_count": null,
   "id": "cea7808e-2016-4771-95b2-86317c5203f8",
   "metadata": {},
   "outputs": [],
   "source": []
  }
 ],
 "metadata": {
  "kernelspec": {
   "display_name": "Python 3 (ipykernel)",
   "language": "python",
   "name": "python3"
  }
 },
 "nbformat": 4,
 "nbformat_minor": 5
}
