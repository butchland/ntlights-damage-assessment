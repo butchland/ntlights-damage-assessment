{
 "cells": [
  {
   "cell_type": "code",
   "execution_count": null,
   "id": "0256d176-8b0d-4670-ab44-3c2b77df669b",
   "metadata": {},
   "outputs": [],
   "source": [
    "%reload_ext autoreload\n",
    "%autoreload 2"
   ]
  },
  {
   "cell_type": "code",
   "execution_count": null,
   "id": "41ea608e-3bd4-446b-8121-18ffe4ed8c12",
   "metadata": {},
   "outputs": [],
   "source": [
    "#| hide\n",
    "from nbdev.showdoc import *"
   ]
  },
  {
   "cell_type": "code",
   "execution_count": null,
   "id": "1271c316-11bd-4f94-bf9a-6b89bfb7df8d",
   "metadata": {},
   "outputs": [],
   "source": [
    "# %matplotlib inline"
   ]
  },
  {
   "cell_type": "markdown",
   "id": "ef606020-a04b-4be8-b056-fdd43070e2c4",
   "metadata": {},
   "source": [
    "# Get Admin Areas Boundaries  \n",
    "\n",
    "> Get Admin Areas from Humanitarian Data Exchange"
   ]
  },
  {
   "cell_type": "markdown",
   "id": "2fbc330f-a8cb-4780-8c17-5857f43dbf25",
   "metadata": {},
   "source": [
    "## Humanitarian Data Exchange\n"
   ]
  },
  {
   "cell_type": "markdown",
   "id": "79e6fa71-e011-4eba-870a-fa6c33592ded",
   "metadata": {},
   "source": [
    "* [Admin areas page](https://data.humdata.org/dataset/cod-ab-phl)"
   ]
  },
  {
   "cell_type": "code",
   "execution_count": null,
   "id": "8c3e4184-1225-497e-a2af-48fbe26f4892",
   "metadata": {},
   "outputs": [],
   "source": [
    "adm3_stem = 'phl_adminboundaries_candidate_adm3'\n",
    "adm3_zip = f'{adm3_stem}.zip'"
   ]
  },
  {
   "cell_type": "code",
   "execution_count": null,
   "id": "b12bedbc-e78c-4899-8674-7ea2a97c3ced",
   "metadata": {},
   "outputs": [],
   "source": [
    "# shapefile\n",
    "# adm3_url = f'https://data.humdata.org/dataset/caf116df-f984-4deb-85ca-41b349d3f313/resource/12457689-6a86-4474-8032-5ca9464d38a8/download/{adm3_zip}'\n",
    "adm3_url = f'https://data.humdata.org/dataset/caf116df-f984-4deb-85ca-41b349d3f313/resource/12457689-6a86-4474-8032-5ca9464d38a8/download/{adm3_zip}'\n",
    "# https://data.humdata.org/dataset/caf116df-f984-4deb-85ca-41b349d3f313/resource/12457689-6a86-4474-8032-5ca9464d38a8/download/phl_adminboundaries_candidate_adm3.zip"
   ]
  },
  {
   "cell_type": "code",
   "execution_count": null,
   "id": "a3f8cef3-5092-4210-a8e2-9ec7c0685693",
   "metadata": {},
   "outputs": [],
   "source": [
    "!mkdir -p ../data/admin_areas"
   ]
  },
  {
   "cell_type": "code",
   "execution_count": null,
   "id": "95c8ffd1-e64c-457f-b512-7c905927068f",
   "metadata": {},
   "outputs": [
    {
     "name": "stdout",
     "output_type": "stream",
     "text": [
      "  % Total    % Received % Xferd  Average Speed   Time    Time     Time  Current\n",
      "                                 Dload  Upload   Total   Spent    Left  Speed\n",
      "100   705  100   705    0     0    336      0  0:00:02  0:00:02 --:--:--   336\n",
      "100  142M  100  142M    0     0   713k      0  0:03:25  0:03:25 --:--:--  767k1.6M    0     0   608k      0  0:04:00  0:00:53  0:03:07  343k\n"
     ]
    }
   ],
   "source": [
    "!curl -L -o ../data/admin_areas/{adm3_zip} {adm3_url}  "
   ]
  },
  {
   "cell_type": "code",
   "execution_count": null,
   "id": "a983ea6b-abca-4a08-b071-b1afd12d09e6",
   "metadata": {},
   "outputs": [],
   "source": [
    "# ! echo 'admin_areas' >> ../data/.gitignore"
   ]
  },
  {
   "cell_type": "code",
   "execution_count": null,
   "id": "57270b7c-cf14-4eb0-bdfc-92d5085a8427",
   "metadata": {},
   "outputs": [],
   "source": [
    "# %cd ../data/admin_areas"
   ]
  },
  {
   "cell_type": "code",
   "execution_count": null,
   "id": "4793ffeb-f277-48ab-90da-fbba2e264ef1",
   "metadata": {},
   "outputs": [
    {
     "name": "stdout",
     "output_type": "stream",
     "text": [
      "Archive:  ../data/admin_areas/phl_adminboundaries_candidate_adm3.zip\n",
      " extracting: ../data/admin_areas/phl_admbnda_adm3_psa_namria_20200529.cpg  \n",
      "  inflating: ../data/admin_areas/phl_admbnda_adm3_psa_namria_20200529.dbf  \n",
      "  inflating: ../data/admin_areas/phl_admbnda_adm3_psa_namria_20200529.prj  \n",
      "  inflating: ../data/admin_areas/phl_admbnda_adm3_psa_namria_20200529.sbn  \n",
      "  inflating: ../data/admin_areas/phl_admbnda_adm3_psa_namria_20200529.sbx  \n",
      "  inflating: ../data/admin_areas/phl_admbnda_adm3_psa_namria_20200529.shp  \n",
      "  inflating: ../data/admin_areas/phl_admbnda_adm3_psa_namria_20200529.shp.xml  \n",
      "  inflating: ../data/admin_areas/phl_admbnda_adm3_psa_namria_20200529.shx  \n"
     ]
    }
   ],
   "source": [
    "! unzip -d ../data/admin_areas ../data/admin_areas/{adm3_zip}"
   ]
  },
  {
   "cell_type": "code",
   "execution_count": null,
   "id": "2f0b3006-403e-41f3-a748-1d6333745a2c",
   "metadata": {},
   "outputs": [
    {
     "name": "stdout",
     "output_type": "stream",
     "text": [
      "drwxr-xr-x 2 butch2 butch2      4096 Aug 22 22:16 ../data/admin_areas/PHL_AdminBoundaries_candidate_adm3.gdb\n",
      "-rw-r--r-- 1 butch2 butch2         5 Aug 25  2020 ../data/admin_areas/phl_admbnda_adm3_psa_namria_20200529.cpg\n",
      "-rw-r--r-- 1 butch2 butch2   1010157 Aug 25  2020 ../data/admin_areas/phl_admbnda_adm3_psa_namria_20200529.dbf\n",
      "-rw-r--r-- 1 butch2 butch2       145 Aug 25  2020 ../data/admin_areas/phl_admbnda_adm3_psa_namria_20200529.prj\n",
      "-rw-r--r-- 1 butch2 butch2     15612 Aug 25  2020 ../data/admin_areas/phl_admbnda_adm3_psa_namria_20200529.sbn\n",
      "-rw-r--r-- 1 butch2 butch2       836 Aug 25  2020 ../data/admin_areas/phl_admbnda_adm3_psa_namria_20200529.sbx\n",
      "-rw-r--r-- 1 butch2 butch2 221688544 Aug 25  2020 ../data/admin_areas/phl_admbnda_adm3_psa_namria_20200529.shp\n",
      "-rw-r--r-- 1 butch2 butch2    223942 Aug 25  2020 ../data/admin_areas/phl_admbnda_adm3_psa_namria_20200529.shp.xml\n",
      "-rw-r--r-- 1 butch2 butch2     13276 Aug 25  2020 ../data/admin_areas/phl_admbnda_adm3_psa_namria_20200529.shx\n",
      "-rw-r--r-- 1 butch2 butch2  59499911 Aug 22 22:13 ../data/admin_areas/phl_adminboundaries_candidate_adm3.gdb.zip\n",
      "-rw-r--r-- 1 butch2 butch2 149832100 Aug 23 21:41 ../data/admin_areas/phl_adminboundaries_candidate_adm3.zip\n"
     ]
    }
   ],
   "source": [
    "!ls -ald ../data/admin_areas/*"
   ]
  },
  {
   "cell_type": "code",
   "execution_count": null,
   "id": "b48ec98a-57b6-45da-976c-80087208f990",
   "metadata": {},
   "outputs": [],
   "source": [
    "adm3_fname = 'phl_admbnda_adm3_psa_namria_20200529'"
   ]
  },
  {
   "cell_type": "code",
   "execution_count": null,
   "id": "6f57dec9-f97f-4f43-8714-199736539b59",
   "metadata": {},
   "outputs": [
    {
     "name": "stdout",
     "output_type": "stream",
     "text": [
      "-rw-r--r-- 1 butch2 butch2         5 Aug 25  2020 ../data/admin_areas/phl_admbnda_adm3_psa_namria_20200529.cpg\n",
      "-rw-r--r-- 1 butch2 butch2   1010157 Aug 25  2020 ../data/admin_areas/phl_admbnda_adm3_psa_namria_20200529.dbf\n",
      "-rw-r--r-- 1 butch2 butch2       145 Aug 25  2020 ../data/admin_areas/phl_admbnda_adm3_psa_namria_20200529.prj\n",
      "-rw-r--r-- 1 butch2 butch2     15612 Aug 25  2020 ../data/admin_areas/phl_admbnda_adm3_psa_namria_20200529.sbn\n",
      "-rw-r--r-- 1 butch2 butch2       836 Aug 25  2020 ../data/admin_areas/phl_admbnda_adm3_psa_namria_20200529.sbx\n",
      "-rw-r--r-- 1 butch2 butch2 221688544 Aug 25  2020 ../data/admin_areas/phl_admbnda_adm3_psa_namria_20200529.shp\n",
      "-rw-r--r-- 1 butch2 butch2    223942 Aug 25  2020 ../data/admin_areas/phl_admbnda_adm3_psa_namria_20200529.shp.xml\n",
      "-rw-r--r-- 1 butch2 butch2     13276 Aug 25  2020 ../data/admin_areas/phl_admbnda_adm3_psa_namria_20200529.shx\n"
     ]
    }
   ],
   "source": [
    "!ls -ald ../data/admin_areas/{adm3_fname}.*"
   ]
  },
  {
   "cell_type": "code",
   "execution_count": null,
   "id": "35f70e4a-ccc4-4bcf-9e75-f44bfae94958",
   "metadata": {},
   "outputs": [],
   "source": [
    "import geopandas as gpd"
   ]
  },
  {
   "cell_type": "code",
   "execution_count": null,
   "id": "d9b7da56-f0ad-4204-a0a1-2f4d48c18cab",
   "metadata": {},
   "outputs": [],
   "source": [
    "import numpy as np"
   ]
  },
  {
   "cell_type": "code",
   "execution_count": null,
   "id": "6e1fc69e-b529-40e2-b668-492fdcf89d99",
   "metadata": {},
   "outputs": [
    {
     "data": {
      "text/plain": [
       "'1.23.2'"
      ]
     },
     "execution_count": null,
     "metadata": {},
     "output_type": "execute_result"
    }
   ],
   "source": [
    "np.__version__"
   ]
  },
  {
   "cell_type": "code",
   "execution_count": null,
   "id": "3d115860-2ea3-4eb7-b58d-70b54c5f253e",
   "metadata": {},
   "outputs": [
    {
     "name": "stdout",
     "output_type": "stream",
     "text": [
      "CPU times: user 2.55 s, sys: 319 ms, total: 2.87 s\n",
      "Wall time: 2.87 s\n"
     ]
    }
   ],
   "source": [
    "%%time\n",
    "gdf = gpd.read_file(f'../data/admin_areas/{adm3_fname}.shp')\n"
   ]
  },
  {
   "cell_type": "code",
   "execution_count": null,
   "id": "29782c0d-b799-47da-b4fd-cfd7ec577143",
   "metadata": {},
   "outputs": [],
   "source": [
    "import matplotlib.pyplot as plt"
   ]
  },
  {
   "cell_type": "code",
   "execution_count": null,
   "id": "e5758c5c-c27d-4ee9-9d18-b69c1402e555",
   "metadata": {},
   "outputs": [
    {
     "data": {
      "image/png": "[encoded data removed]",
      "text/plain": [
       "<Figure size 640x480 with 1 Axes>"
      ]
     },
     "metadata": {},
     "output_type": "display_data"
    }
   ],
   "source": [
    "ax = plt.axes()\n",
    "ax = gdf.plot(ax=ax, facecolor='none', edgecolor='blue')"
   ]
  },
  {
   "cell_type": "code",
   "execution_count": null,
   "id": "2c3847cb-5961-445d-89e4-0955420c1aa1",
   "metadata": {},
   "outputs": [
    {
     "data": {
      "text/html": [
       "<div>\n",
       "<style scoped>\n",
       "    .dataframe tbody tr th:only-of-type {\n",
       "        vertical-align: middle;\n",
       "    }\n",
       "\n",
       "    .dataframe tbody tr th {\n",
       "        vertical-align: top;\n",
       "    }\n",
       "\n",
       "    .dataframe thead th {\n",
       "        text-align: right;\n",
       "    }\n",
       "</style>\n",
       "<table border=\"1\" class=\"dataframe\">\n",
       "  <thead>\n",
       "    <tr style=\"text-align: right;\">\n",
       "      <th></th>\n",
       "      <th>Shape_Leng</th>\n",
       "      <th>Shape_Area</th>\n",
       "      <th>ADM3_EN</th>\n",
       "      <th>ADM3_PCODE</th>\n",
       "      <th>ADM3_REF</th>\n",
       "      <th>ADM3ALT1EN</th>\n",
       "      <th>ADM3ALT2EN</th>\n",
       "      <th>ADM2_EN</th>\n",
       "      <th>ADM2_PCODE</th>\n",
       "      <th>ADM1_EN</th>\n",
       "      <th>ADM1_PCODE</th>\n",
       "      <th>ADM0_EN</th>\n",
       "      <th>ADM0_PCODE</th>\n",
       "      <th>date</th>\n",
       "      <th>validOn</th>\n",
       "      <th>validTo</th>\n",
       "      <th>geometry</th>\n",
       "    </tr>\n",
       "  </thead>\n",
       "  <tbody>\n",
       "    <tr>\n",
       "      <th>0</th>\n",
       "      <td>1.601219</td>\n",
       "      <td>0.063496</td>\n",
       "      <td>Aborlan</td>\n",
       "      <td>PH175301000</td>\n",
       "      <td>None</td>\n",
       "      <td>None</td>\n",
       "      <td>None</td>\n",
       "      <td>Palawan</td>\n",
       "      <td>PH175300000</td>\n",
       "      <td>Region IV-B</td>\n",
       "      <td>PH170000000</td>\n",
       "      <td>Philippines (the)</td>\n",
       "      <td>PH</td>\n",
       "      <td>2016-06-30</td>\n",
       "      <td>2020-05-29</td>\n",
       "      <td>None</td>\n",
       "      <td>MULTIPOLYGON (((118.58350 9.37700, 118.58398 9...</td>\n",
       "    </tr>\n",
       "    <tr>\n",
       "      <th>1</th>\n",
       "      <td>1.078749</td>\n",
       "      <td>0.050232</td>\n",
       "      <td>Abra de Ilog</td>\n",
       "      <td>PH175101000</td>\n",
       "      <td>None</td>\n",
       "      <td>None</td>\n",
       "      <td>None</td>\n",
       "      <td>Occidental Mindoro</td>\n",
       "      <td>PH175100000</td>\n",
       "      <td>Region IV-B</td>\n",
       "      <td>PH170000000</td>\n",
       "      <td>Philippines (the)</td>\n",
       "      <td>PH</td>\n",
       "      <td>2016-06-30</td>\n",
       "      <td>2020-05-29</td>\n",
       "      <td>None</td>\n",
       "      <td>POLYGON ((120.58412 13.50198, 120.58420 13.501...</td>\n",
       "    </tr>\n",
       "    <tr>\n",
       "      <th>2</th>\n",
       "      <td>0.424301</td>\n",
       "      <td>0.006453</td>\n",
       "      <td>Abucay</td>\n",
       "      <td>PH030801000</td>\n",
       "      <td>None</td>\n",
       "      <td>None</td>\n",
       "      <td>None</td>\n",
       "      <td>Bataan</td>\n",
       "      <td>PH030800000</td>\n",
       "      <td>Region III</td>\n",
       "      <td>PH030000000</td>\n",
       "      <td>Philippines (the)</td>\n",
       "      <td>PH</td>\n",
       "      <td>2016-06-30</td>\n",
       "      <td>2020-05-29</td>\n",
       "      <td>None</td>\n",
       "      <td>POLYGON ((120.49873 14.75614, 120.49891 14.755...</td>\n",
       "    </tr>\n",
       "    <tr>\n",
       "      <th>3</th>\n",
       "      <td>0.566053</td>\n",
       "      <td>0.011343</td>\n",
       "      <td>Abulug</td>\n",
       "      <td>PH021501000</td>\n",
       "      <td>None</td>\n",
       "      <td>None</td>\n",
       "      <td>None</td>\n",
       "      <td>Cagayan</td>\n",
       "      <td>PH021500000</td>\n",
       "      <td>Region II</td>\n",
       "      <td>PH020000000</td>\n",
       "      <td>Philippines (the)</td>\n",
       "      <td>PH</td>\n",
       "      <td>2016-06-30</td>\n",
       "      <td>2020-05-29</td>\n",
       "      <td>None</td>\n",
       "      <td>POLYGON ((121.43455 18.46651, 121.43502 18.466...</td>\n",
       "    </tr>\n",
       "    <tr>\n",
       "      <th>4</th>\n",
       "      <td>1.013649</td>\n",
       "      <td>0.026124</td>\n",
       "      <td>Abuyog</td>\n",
       "      <td>PH083701000</td>\n",
       "      <td>None</td>\n",
       "      <td>None</td>\n",
       "      <td>None</td>\n",
       "      <td>Leyte</td>\n",
       "      <td>PH083700000</td>\n",
       "      <td>Region VIII</td>\n",
       "      <td>PH080000000</td>\n",
       "      <td>Philippines (the)</td>\n",
       "      <td>PH</td>\n",
       "      <td>2016-06-30</td>\n",
       "      <td>2020-05-29</td>\n",
       "      <td>None</td>\n",
       "      <td>MULTIPOLYGON (((125.02684 10.73500, 125.02683 ...</td>\n",
       "    </tr>\n",
       "  </tbody>\n",
       "</table>\n",
       "</div>"
      ],
      "text/plain": [
       "   Shape_Leng  Shape_Area       ADM3_EN   ADM3_PCODE ADM3_REF ADM3ALT1EN  \\\n",
       "0    1.601219    0.063496       Aborlan  PH175301000     None       None   \n",
       "1    1.078749    0.050232  Abra de Ilog  PH175101000     None       None   \n",
       "2    0.424301    0.006453        Abucay  PH030801000     None       None   \n",
       "3    0.566053    0.011343        Abulug  PH021501000     None       None   \n",
       "4    1.013649    0.026124        Abuyog  PH083701000     None       None   \n",
       "\n",
       "  ADM3ALT2EN             ADM2_EN   ADM2_PCODE      ADM1_EN   ADM1_PCODE  \\\n",
       "0       None             Palawan  PH175300000  Region IV-B  PH170000000   \n",
       "1       None  Occidental Mindoro  PH175100000  Region IV-B  PH170000000   \n",
       "2       None              Bataan  PH030800000   Region III  PH030000000   \n",
       "3       None             Cagayan  PH021500000    Region II  PH020000000   \n",
       "4       None               Leyte  PH083700000  Region VIII  PH080000000   \n",
       "\n",
       "             ADM0_EN ADM0_PCODE        date     validOn validTo  \\\n",
       "0  Philippines (the)         PH  2016-06-30  2020-05-29    None   \n",
       "1  Philippines (the)         PH  2016-06-30  2020-05-29    None   \n",
       "2  Philippines (the)         PH  2016-06-30  2020-05-29    None   \n",
       "3  Philippines (the)         PH  2016-06-30  2020-05-29    None   \n",
       "4  Philippines (the)         PH  2016-06-30  2020-05-29    None   \n",
       "\n",
       "                                            geometry  \n",
       "0  MULTIPOLYGON (((118.58350 9.37700, 118.58398 9...  \n",
       "1  POLYGON ((120.58412 13.50198, 120.58420 13.501...  \n",
       "2  POLYGON ((120.49873 14.75614, 120.49891 14.755...  \n",
       "3  POLYGON ((121.43455 18.46651, 121.43502 18.466...  \n",
       "4  MULTIPOLYGON (((125.02684 10.73500, 125.02683 ...  "
      ]
     },
     "execution_count": null,
     "metadata": {},
     "output_type": "execute_result"
    }
   ],
   "source": [
    "gdf.head()"
   ]
  },
  {
   "cell_type": "code",
   "execution_count": null,
   "id": "7af0ac85-4f37-4303-83a4-f8712520e6a4",
   "metadata": {},
   "outputs": [
    {
     "data": {
      "text/plain": [
       "1647"
      ]
     },
     "execution_count": null,
     "metadata": {},
     "output_type": "execute_result"
    }
   ],
   "source": [
    "len(gdf)"
   ]
  },
  {
   "cell_type": "code",
   "execution_count": null,
   "id": "c9307e05-5a0f-4b03-9d16-a7631e62a431",
   "metadata": {},
   "outputs": [],
   "source": [
    "total_bounds = gdf.total_bounds"
   ]
  },
  {
   "cell_type": "code",
   "execution_count": null,
   "id": "8db8d1f6-788f-4779-a539-c532ff4a1fd0",
   "metadata": {},
   "outputs": [
    {
     "data": {
      "text/plain": [
       "array([114.27789225,   4.5872945 , 126.6049656 ,  21.12188548])"
      ]
     },
     "execution_count": null,
     "metadata": {},
     "output_type": "execute_result"
    }
   ],
   "source": [
    "total_bounds"
   ]
  },
  {
   "cell_type": "code",
   "execution_count": null,
   "id": "1182c834-89b3-4ffd-9918-4845bba99e38",
   "metadata": {},
   "outputs": [
    {
     "data": {
      "text/plain": [
       "<Geographic 2D CRS: EPSG:4326>\n",
       "Name: WGS 84\n",
       "Axis Info [ellipsoidal]:\n",
       "- Lat[north]: Geodetic latitude (degree)\n",
       "- Lon[east]: Geodetic longitude (degree)\n",
       "Area of Use:\n",
       "- name: World.\n",
       "- bounds: (-180.0, -90.0, 180.0, 90.0)\n",
       "Datum: World Geodetic System 1984 ensemble\n",
       "- Ellipsoid: WGS 84\n",
       "- Prime Meridian: Greenwich"
      ]
     },
     "execution_count": null,
     "metadata": {},
     "output_type": "execute_result"
    }
   ],
   "source": [
    "gdf.crs"
   ]
  },
  {
   "cell_type": "code",
   "execution_count": null,
   "id": "2cd39b6e-9796-48d9-8661-8686648d2163",
   "metadata": {},
   "outputs": [],
   "source": []
  }
 ],
 "metadata": {
  "kernelspec": {
   "display_name": "Python 3 (ipykernel)",
   "language": "python",
   "name": "python3"
  }
 },
 "nbformat": 4,
 "nbformat_minor": 5
}
