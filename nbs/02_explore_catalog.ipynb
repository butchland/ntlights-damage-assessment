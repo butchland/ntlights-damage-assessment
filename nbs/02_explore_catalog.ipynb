{
 "cells": [
  {
   "cell_type": "markdown",
   "id": "14a2b20d-3450-45ef-b3be-b8dfa93a4a45",
   "metadata": {},
   "source": [
    "# Explore Nightlights Catalog on AWS ASDI \n",
    "\n",
    "> check files download via aws cli "
   ]
  },
  {
   "cell_type": "code",
   "execution_count": null,
   "id": "778afbf3-ec5c-45a2-bde6-e3a4055e55f1",
   "metadata": {},
   "outputs": [],
   "source": [
    "#| hide\n",
    "from nbdev.showdoc import *"
   ]
  },
  {
   "cell_type": "code",
   "execution_count": null,
   "id": "ca2bd110-de9a-4b8f-90d9-cbbca0daf1a6",
   "metadata": {},
   "outputs": [],
   "source": [
    "# %%bash\n",
    "# pip install awscli\n",
    "# aws --version\n",
    "# mkdir -p ../data/ntlights\n",
    "# mkdir -p ../data/ntlights-bigfiles\n",
    "# touch ../data/.gitignore\n",
    "# echo 'ntlights-bigfiles/' >> ../data/.gitignore\n",
    "# %cd ../data/ntlights\n",
    "# # aws s3 ls --no-sign-request s3://globalnightlight/\n",
    "# aws s3 ls --no-sign-request s3://globalnightlight/ > globalnightlight.txt\n",
    "# aws s3 cp --no-sign-request s3://globalnightlight/catalog.json .\n",
    "# aws s3 cp --no-sign-request s3://globalnightlight/DMSP_catalog.json .\n",
    "# aws s3 cp --no-sign-request s3://globalnightlight/VIIRS_npp_catalog.json .\n",
    "# aws s3 cp --no-sign-request s3://globalnightlight/npp_201809/npp_201809_catalog.json .\n",
    "# # aws s3 ls --no-sign-request s3://globalnightlight/npp_201809/\n",
    "# aws s3 ls --no-sign-request s3://globalnightlight/npp_201809/ > npp_201809-catalog.txt\n",
    "# cat npp_201809-catalog.txt | grep 'd20180912_' > npp_20180912-catalog.txt\n",
    "# cat npp_20180912-catalog.txt | grep '.rade9.co.tif' > npp_20180912-rade9-co-tif-catalog.txt\n",
    "# cat npp_20180912-catalog.txt | grep '.vflag.co.tif' > npp_20180912-vflag-co-tif-catalog.txt\n",
    "# cat npp_20180912-catalog.txt | grep '.rade9.co.json' > npp_20180912-rade9-co-json-catalog.txt\n",
    "# %cd ../ntlights-bigfiles\n",
    "# aws s3 cp --no-sign-request s3://globalnightlight/npp_201809/SVDNB_npp_d20180912_t0054399_e0100203_b35620_c20180912050020810366_nobc_ops.rade9.co.tif .\n",
    "# aws s3 cp --no-sign-request s3://globalnightlight/npp_201809/SVDNB_npp_d20180912_t1126148_e1131551_b35626_c20180912153156535102_nobc_ops.rade9.co.tif .\n",
    "# aws s3 cp --no-sign-request s3://globalnightlight/npp_201809/SVDNB_npp_d20180912_t0003271_e0009075_b35619_c20180912040907984373_nobc_ops.rade9.co.json .\n",
    "# %cd ../../nbs"
   ]
  },
  {
   "cell_type": "code",
   "execution_count": null,
   "id": "886ce3ea-0a71-458d-b755-847828c6da3e",
   "metadata": {},
   "outputs": [
    {
     "name": "stdout",
     "output_type": "stream",
     "text": [
      "../data/ntlights/asdi-globalnightlight-catalog.txt\n",
      "../data/ntlights/npp_201809-catalog.txt\n",
      "../data/ntlights/npp_20180912-catalog.txt\n",
      "../data/ntlights/npp_20180912-rade9-co-json-catalog.txt\n",
      "../data/ntlights/npp_20180912-rade9-co-tif-catalog.txt\n",
      "../data/ntlights/npp_20180912-vflag-co-tif-catalog.txt\n"
     ]
    }
   ],
   "source": [
    "!ls ../data/ntlights/*.txt"
   ]
  },
  {
   "cell_type": "code",
   "execution_count": null,
   "id": "19d2aff4-ee7e-49c8-a277-9d1429a3503b",
   "metadata": {},
   "outputs": [
    {
     "name": "stdout",
     "output_type": "stream",
     "text": [
      "../data/ntlights/DMSP_catalog.json\n",
      "../data/ntlights/SVDNB_npp_d20180912_t0003271_e0009075_b35619_c20180912040907984373_nobc_ops.rade9.co.json\n",
      "../data/ntlights/VIIRS_npp_catalog.json\n",
      "../data/ntlights/catalog.json\n",
      "../data/ntlights/npp_201809_catalog.json\n"
     ]
    }
   ],
   "source": [
    "!ls ../data/ntlights/*.json"
   ]
  },
  {
   "cell_type": "code",
   "execution_count": null,
   "id": "b3dee181-566d-430f-9ba4-3080914d1981",
   "metadata": {},
   "outputs": [],
   "source": [
    "item_path = '../data/ntlights/SVDNB_npp_d20180912_t0003271_e0009075_b35619_c20180912040907984373_nobc_ops.rade9.co.json'"
   ]
  },
  {
   "cell_type": "code",
   "execution_count": null,
   "id": "b1637763-cf21-489e-a61c-7f1b4e40c213",
   "metadata": {},
   "outputs": [],
   "source": [
    "import json"
   ]
  },
  {
   "cell_type": "code",
   "execution_count": null,
   "id": "6e7d4220-4687-4a11-9c5f-2b191826f381",
   "metadata": {},
   "outputs": [],
   "source": [
    "with open(item_path,'r') as f:\n",
    "    item = json.load(f)"
   ]
  },
  {
   "cell_type": "code",
   "execution_count": null,
   "id": "2ac86344-0c19-4e19-b663-f057d5888490",
   "metadata": {},
   "outputs": [
    {
     "data": {
      "text/plain": [
       "{'type': 'Feature',\n",
       " 'stac_version': '1.0.0-beta.2',\n",
       " 'id': 'SVDNB_npp_d20180912_t0003271_e0009075_b35619_c20180912040907984373_nobc_ops.rade9.co',\n",
       " 'properties': {'datetime': '2018-09-12T00:03:27Z'},\n",
       " 'geometry': {'type': 'Polygon',\n",
       "  'coordinates': [[[-111.00208333335, -64.99791669865],\n",
       "    [-111.00208333335, -60.99791666665],\n",
       "    [-93.00208318935, -60.99791666665],\n",
       "    [-93.00208318935, -64.99791669865],\n",
       "    [-111.00208333335, -64.99791669865]]]},\n",
       " 'links': [{'rel': 'root',\n",
       "   'href': './npp_201809_catalog.json',\n",
       "   'type': 'application/json'},\n",
       "  {'rel': 'parent',\n",
       "   'href': './npp_201809_catalog.json',\n",
       "   'type': 'application/json'}],\n",
       " 'assets': {'image': {'href': 'https://globalnightlight.s3.amazonaws.com/npp_201809/SVDNB_npp_d20180912_t0003271_e0009075_b35619_c20180912040907984373_nobc_ops.rade9.co.tif',\n",
       "   'type': 'image/tiff; application=geotiff; profile=cloud-optimized'}},\n",
       " 'bbox': [-111.00208333335, -64.99791669865, -93.00208318935, -60.99791666665]}"
      ]
     },
     "execution_count": null,
     "metadata": {},
     "output_type": "execute_result"
    }
   ],
   "source": [
    "item"
   ]
  },
  {
   "cell_type": "code",
   "execution_count": null,
   "id": "e5abe36c-f5b4-451c-aba0-cddd5f0d61b5",
   "metadata": {},
   "outputs": [
    {
     "data": {
      "text/plain": [
       "{'type': 'Polygon',\n",
       " 'coordinates': [[[-111.00208333335, -64.99791669865],\n",
       "   [-111.00208333335, -60.99791666665],\n",
       "   [-93.00208318935, -60.99791666665],\n",
       "   [-93.00208318935, -64.99791669865],\n",
       "   [-111.00208333335, -64.99791669865]]]}"
      ]
     },
     "execution_count": null,
     "metadata": {},
     "output_type": "execute_result"
    }
   ],
   "source": [
    "item['geometry']"
   ]
  },
  {
   "cell_type": "code",
   "execution_count": null,
   "id": "74c44819-429d-4d62-a090-a325f34f312c",
   "metadata": {},
   "outputs": [],
   "source": [
    "from shapely.geometry import Polygon "
   ]
  },
  {
   "cell_type": "code",
   "execution_count": null,
   "id": "5ddd5514-ed1c-49ac-8ac7-0cdc30a70139",
   "metadata": {},
   "outputs": [],
   "source": [
    "shape = Polygon(item['geometry']['coordinates'][0])"
   ]
  },
  {
   "cell_type": "code",
   "execution_count": null,
   "id": "fc1bcd45-7722-4280-b05c-7357888480e9",
   "metadata": {},
   "outputs": [
    {
     "data": {
      "image/svg+xml": [
       "<svg xmlns=\"http://www.w3.org/2000/svg\" xmlns:xlink=\"http://www.w3.org/1999/xlink\" width=\"100.0\" height=\"100.0\" viewBox=\"-111.72208333911 -65.71791670441 19.440000155519996 5.440000043520001\" preserveAspectRatio=\"xMinYMin meet\"><g transform=\"matrix(1,0,0,-1,0,-125.9958333653)\"><path fill-rule=\"evenodd\" fill=\"#66cc99\" stroke=\"#555555\" stroke-width=\"0.3888000031103999\" opacity=\"0.6\" d=\"M -111.00208333335,-64.99791669865 L -111.00208333335,-60.99791666665 L -93.00208318935,-60.99791666665 L -93.00208318935,-64.99791669865 L -111.00208333335,-64.99791669865 z\" /></g></svg>"
      ],
      "text/plain": [
       "<shapely.geometry.polygon.Polygon>"
      ]
     },
     "execution_count": null,
     "metadata": {},
     "output_type": "execute_result"
    }
   ],
   "source": [
    "shape"
   ]
  },
  {
   "cell_type": "code",
   "execution_count": null,
   "id": "f4d439b3-0ad1-4a8a-8154-57a5846c90e9",
   "metadata": {},
   "outputs": [],
   "source": [
    "import geopandas as gpd"
   ]
  },
  {
   "cell_type": "code",
   "execution_count": null,
   "id": "ffb8d235-92da-4b03-baf8-ee65d11ee3ad",
   "metadata": {},
   "outputs": [],
   "source": [
    "gdf = gpd.GeoDataFrame(\n",
    "    data=dict(\n",
    "        id=[item['id']],\n",
    "        datetime=[item['properties']['datetime']],\n",
    "        href=[item['assets']['image']['href']],\n",
    "        geometry=[Polygon(item['geometry']['coordinates'][0])]),\n",
    "    geometry='geometry',\n",
    "    crs='EPSG:4326')"
   ]
  },
  {
   "cell_type": "code",
   "execution_count": null,
   "id": "09f9b28b-0a67-4003-a6e5-ecd575d3f6f8",
   "metadata": {},
   "outputs": [
    {
     "data": {
      "text/html": [
       "<div>\n",
       "<style scoped>\n",
       "    .dataframe tbody tr th:only-of-type {\n",
       "        vertical-align: middle;\n",
       "    }\n",
       "\n",
       "    .dataframe tbody tr th {\n",
       "        vertical-align: top;\n",
       "    }\n",
       "\n",
       "    .dataframe thead th {\n",
       "        text-align: right;\n",
       "    }\n",
       "</style>\n",
       "<table border=\"1\" class=\"dataframe\">\n",
       "  <thead>\n",
       "    <tr style=\"text-align: right;\">\n",
       "      <th></th>\n",
       "      <th>id</th>\n",
       "      <th>datetime</th>\n",
       "      <th>href</th>\n",
       "      <th>geometry</th>\n",
       "    </tr>\n",
       "  </thead>\n",
       "  <tbody>\n",
       "    <tr>\n",
       "      <th>0</th>\n",
       "      <td>SVDNB_npp_d20180912_t0003271_e0009075_b35619_c...</td>\n",
       "      <td>2018-09-12T00:03:27Z</td>\n",
       "      <td>https://globalnightlight.s3.amazonaws.com/npp_...</td>\n",
       "      <td>POLYGON ((-111.00208 -64.99792, -111.00208 -60...</td>\n",
       "    </tr>\n",
       "  </tbody>\n",
       "</table>\n",
       "</div>"
      ],
      "text/plain": [
       "                                                  id              datetime  \\\n",
       "0  SVDNB_npp_d20180912_t0003271_e0009075_b35619_c...  2018-09-12T00:03:27Z   \n",
       "\n",
       "                                                href  \\\n",
       "0  https://globalnightlight.s3.amazonaws.com/npp_...   \n",
       "\n",
       "                                            geometry  \n",
       "0  POLYGON ((-111.00208 -64.99792, -111.00208 -60...  "
      ]
     },
     "execution_count": null,
     "metadata": {},
     "output_type": "execute_result"
    }
   ],
   "source": [
    "gdf"
   ]
  },
  {
   "cell_type": "code",
   "execution_count": null,
   "id": "fb148a52-501d-43cc-8666-658e45a1dc35",
   "metadata": {},
   "outputs": [],
   "source": []
  }
 ],
 "metadata": {
  "kernelspec": {
   "display_name": "Python 3 (ipykernel)",
   "language": "python",
   "name": "python3"
  }
 },
 "nbformat": 4,
 "nbformat_minor": 5
}
