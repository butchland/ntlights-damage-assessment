{
 "cells": [
  {
   "cell_type": "markdown",
   "id": "14a2b20d-3450-45ef-b3be-b8dfa93a4a45",
   "metadata": {},
   "source": [
    "# Explore Nightlights Catalog on AWS ASDI \n",
    "\n",
    "> Scoping the project"
   ]
  },
  {
   "cell_type": "code",
   "execution_count": null,
   "id": "778afbf3-ec5c-45a2-bde6-e3a4055e55f1",
   "metadata": {},
   "outputs": [],
   "source": [
    "#| hide\n",
    "from nbdev.showdoc import *"
   ]
  },
  {
   "cell_type": "code",
   "execution_count": null,
   "id": "ca2bd110-de9a-4b8f-90d9-cbbca0daf1a6",
   "metadata": {},
   "outputs": [],
   "source": [
    "# %%bash\n",
    "# pip install awscli\n",
    "# aws --version\n",
    "# mkdir -p data/ntlights\n",
    "# mkdir -p data/ntlights-bigfiles\n",
    "# touch data/.gitignore\n",
    "# echo 'ntlights-bigfiles/' >> data/.gitignore\n",
    "# %cd data/ntlights\n",
    "# # aws s3 ls --no-sign-request s3://globalnightlight/\n",
    "# aws s3 ls --no-sign-request s3://globalnightlight/ > globalnightlight.txt\n",
    "# aws s3 cp --no-sign-request s3://globalnightlight/catalog.json .\n",
    "# aws s3 cp --no-sign-request s3://globalnightlight/DMSP_catalog.json .\n",
    "# aws s3 cp --no-sign-request s3://globalnightlight/VIIRS_npp_catalog.json .\n",
    "# aws s3 cp --no-sign-request s3://globalnightlight/npp_201809/npp_201809_catalog.json .\n",
    "# # aws s3 ls --no-sign-request s3://globalnightlight/npp_201809/\n",
    "# aws s3 ls --no-sign-request s3://globalnightlight/npp_201809/ > npp_201809-catalog.txt\n",
    "# cat npp_201809-catalog.txt | grep 'd20180912_' > npp_20180912-catalog.txt\n",
    "# cat npp_20180912-catalog.txt | grep '.rade9.co.tif' > npp_20180912-rade9-co-tif-catalog.txt\n",
    "# cat npp_20180912-catalog.txt | grep '.vflag.co.tif' > npp_20180912-vflag-co-tif-catalog.txt\n",
    "# cat npp_20180912-catalog.txt | grep '.rade9.co.json' > npp_20180912-rade9-co-json-catalog.txt\n",
    "# %cd ../ntlights-bigfiles\n",
    "# aws s3 cp --no-sign-request s3://globalnightlight/npp_201809/SVDNB_npp_d20180912_t0054399_e0100203_b35620_c20180912050020810366_nobc_ops.rade9.co.tif .\n",
    "# aws s3 cp --no-sign-request s3://globalnightlight/npp_201809/SVDNB_npp_d20180912_t1126148_e1131551_b35626_c20180912153156535102_nobc_ops.rade9.co.tif .\n",
    "# aws s3 cp --no-sign-request s3://globalnightlight/npp_201809/SVDNB_npp_d20180912_t0003271_e0009075_b35619_c20180912040907984373_nobc_ops.rade9.co.json .\n",
    "# %cd ../.."
   ]
  }
 ],
 "metadata": {
  "kernelspec": {
   "display_name": "Python 3 (ipykernel)",
   "language": "python",
   "name": "python3"
  }
 },
 "nbformat": 4,
 "nbformat_minor": 5
}
